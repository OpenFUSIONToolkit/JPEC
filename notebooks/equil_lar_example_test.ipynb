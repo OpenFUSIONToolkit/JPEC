{
 "cells": [
  {
   "cell_type": "code",
   "execution_count": 14,
   "id": "bc77cb03",
   "metadata": {},
   "outputs": [
    {
     "name": "stderr",
     "output_type": "stream",
     "text": [
      "\u001b[32m\u001b[1m  Activating\u001b[22m\u001b[39m project at `~/Desktop/JPEC`\n",
      "\u001b[32m\u001b[1m  No Changes\u001b[22m\u001b[39m to `~/Desktop/JPEC/Project.toml`\n",
      "\u001b[32m\u001b[1m  No Changes\u001b[22m\u001b[39m to `~/Desktop/JPEC/Manifest.toml`\n",
      "WARNING: could not import Base.atan2 into Main\n"
     ]
    }
   ],
   "source": [
    "using Pkg\n",
    "Pkg.activate(\"..\")\n",
    "Pkg.resolve() \n",
    "Pkg.instantiate()\n",
    "using DifferentialEquations,JPEC, Plots, DelimitedFiles\n",
    "using Base: atan2"
   ]
  },
  {
   "cell_type": "code",
   "execution_count": 2,
   "id": "8fb8cfd4",
   "metadata": {},
   "outputs": [
    {
     "name": "stderr",
     "output_type": "stream",
     "text": [
      "┌ Info: Forcing hamada coordinate jacobian exponents: power_*\n",
      "└ @ JPEC.Equilibrium /Users/iseonjae/Desktop/JPEC/src/Equilibrium/EquilibriumTypes.jl:48\n"
     ]
    },
    {
     "data": {
      "text/plain": [
       "JPEC.Equilibrium.LargeAspectRatioConfig(10.0, 1.0, 0.001, 1.5, 2.0, 1.0, \"default\", 128, 128, false)"
      ]
     },
     "metadata": {},
     "output_type": "display_data"
    }
   ],
   "source": [
    "equil_input = JPEC.Equilibrium.EquilConfig(; control=JPEC.Equilibrium.EquilControl(eq_type=\"lar\", eq_filename=\"lar.toml\"), output=JPEC.Equilibrium.EquilOutput())\n",
    "lar_input = JPEC.Equilibrium.LargeAspectRatioConfig(; lar_r0=10, lar_a=1, beta0=0.001, q0=1.5, p_pres=2, p_sig=1)"
   ]
  },
  {
   "cell_type": "code",
   "execution_count": 3,
   "id": "d7836d02",
   "metadata": {},
   "outputs": [
    {
     "data": {
      "text/plain": [
       "JPEC.Equilibrium.InverseRunInput(JPEC.Equilibrium.EquilConfig(JPEC.Equilibrium.EquilControl(\"lar\", \"lar.toml\", \"hamada\", 0, 0, 0, \"ldp\", 0.01, 0.994, 128, 256, 0, 1.0e-7, false, false, true), JPEC.Equilibrium.EquilOutput(false, false, false, false, true, false, false, false)), JPEC.SplinesMod.RealSplineType(Ptr{Nothing} @0x0000000123a76e80, [8.682934522190448e-5, 0.0003469834908650275, 0.0007804216571205545, 0.0013869981158246953, 0.00216649771732363, 0.003118641436876229, 0.004243087880758738, 0.005539434077339375, 0.007007216114005258, 0.008645909762575139  …  0.899448974892095, 0.9106051275582959, 0.9217671272924324, 0.9329341766253691, 0.9441054953426861, 0.9552803202460893, 0.9664579049149282, 0.9776375194661567, 0.988818450311505, 1.0000000000000022], [9.999997927148243 0.000499939909263041 1.5000898507093468; 9.999991719551208 0.0004997596587188468 1.5003596562860342; … ; 9.988421733944673 1.1925522940860181e-7 2.9746365776780803; 9.988336160471356 1.7645466826380788e-23 2.997776433655482], 128, 3, 4, Matrix{Float64}(undef, 0, 0), [-0.023867467350723436 -0.0006927916653570928 1.0368712400971771; -0.023855205217004998 -0.0006929077032008842 1.0372838342731867; … ; -0.007607574523335891 -2.1247652757229208e-5 2.061445213089279; -0.007699747243758146 -1.619325303432482e-9 2.077510892228146]), JPEC.SplinesMod.BicubicSplineType(Ptr{Nothing} @0x00000001549c8a00, [0.007751937984496124, 0.015503875968992248, 0.023255813953488372, 0.031007751937984496, 0.03875968992248062, 0.046511627906976744, 0.05426356589147287, 0.06201550387596899, 0.06976744186046512, 0.07751937984496124  …  0.9302325581395363, 0.9379844961240325, 0.9457364341085286, 0.9534883720930247, 0.9612403100775209, 0.968992248062017, 0.9767441860465131, 0.9844961240310093, 0.9922480620155054, 1.0000000000000016], [0.0, 0.04908738521234052, 0.09817477042468103, 0.14726215563702155, 0.19634954084936207, 0.2454369260617026, 0.2945243112740431, 0.3436116964863836, 0.39269908169872414, 0.44178646691106466  …  5.841398840268521, 5.890486225480862, 5.939573610693203, 5.988660995905543, 6.037748381117884, 6.086835766330224, 6.135923151542564, 6.1850105367549055, 6.234097921967246, 6.283185307179586], [10.00775117894627 10.007741843224961 … 10.007741843224961 10.00775117894627; 10.01550084174532 10.015482173953036 … 10.015482173953036 10.01550084174532; … ; 10.968474368248954 10.967336400419672 … 10.967336400419672 10.968474368248954; 10.975768354153065 10.974622151357204 … 10.974622151357204 10.975768354153065;;; 0.0 0.00038033236905145155 … -0.00038033236905145215 -1.8984912972336684e-18; 0.0 0.0007605904338954958 … -0.000760590433895497 -3.796611245499356e-18; … ; 0.0 0.04752219001995446 … -0.04752219001995453 -2.372078070264673e-16; 0.0 0.04788011601172036 … -0.04788011601172044 -2.3899431832456625e-16], 128, 128, 2, 4, 2, [0.999804782592509 0.9986007088112244 … 0.9986007088112244 0.999804782592509; 0.9996078288849344 0.9984042292953835 … 0.9984042292953835 0.9996078288849344; … ; 0.9410958811662025 0.9400331570878362 … 0.9400331570878362 0.9410958811662025; 0.9407573911254897 0.9396954820066612 … 0.9396954820066612 0.9407573911254897;;; 0.0 0.04905810700143251 … -0.04905810700143265 0.0; 0.0 0.04904845458179716 … -0.04904845458179724 0.0; … ; 0.0 0.04618086768656635 … -0.04618086768656532 0.0; 0.0 0.046164278773619775 … -0.04616427877362723 0.0], [-4.825338905122614e-19 -0.0003802951574453193 … 0.00038029515744532376 -4.825338905122614e-19; -9.650677810245229e-19 -0.0007604417065193375 … 0.0007604417065193464 -9.650677810245229e-19; … ; -5.813114163347714e-17 -0.046357074914019504 … 0.046357074914020045 -5.813114163347714e-17; -6.358093616161562e-17 -0.04669255734004172 … 0.04669255734004228 -6.358093616161562e-17;;; 0.0077511786965462825 0.0077418448030250496 … 0.007741844803025078 0.0077511786965462825; 0.015500841246656029 0.01548218076027305 … 0.015482180760273107 0.015500841246656029; … ; 0.9684743485175713 0.9673936190844491 … 0.9673936190844525 0.9684743485175713; 0.975768334408182 0.9746804725898627 … 0.9746804725898663 0.975768334408182], [-5.68860476047557e-17 -0.04904853808723044 … 0.04904853808723085 -5.68860476047557e-17; -6.401188883709649e-17 -0.0490292332771539 … 0.04902923327715453 -6.401188883709649e-17; … ; -3.5479491345211685e-13 -0.04329406244062347 … 0.043294062442042314 -3.5479491345211685e-13; 5.734376102077502e-13 -0.043260884645111713 … 0.04326088464282049 5.734376102077502e-13;;; 0.9998047504289312 0.9986011466976467 … 0.9986011466976504 0.9998047504289312; 0.9996077968223295 0.9984051414764994 … 0.998405141476503 0.9996077968223295; … ; 0.9410958793362054 0.9401749748659874 … 0.9401749748660112 0.9410958793362054; 0.9407573894697122 0.9398381149207723 … 0.9398381149207963 0.9407573894697122]), 10.0, 0.0, 0.23099310376308363)"
      ]
     },
     "metadata": {},
     "output_type": "display_data"
    }
   ],
   "source": [
    "input= JPEC.Equilibrium.lar_run(equil_input, lar_input)"
   ]
  },
  {
   "cell_type": "code",
   "execution_count": 4,
   "id": "664f2f55",
   "metadata": {},
   "outputs": [
    {
     "data": {
      "text/plain": [
       "false"
      ]
     },
     "metadata": {},
     "output_type": "display_data"
    }
   ],
   "source": [
    "config = input.config\n",
    "rz_in = input.rz_in\n",
    "sq_in = input.sq_in\n",
    "ro = input.ro\n",
    "zo = input.zo\n",
    "psio = input.psio\n",
    "\n",
    "grid_type = config.control.grid_type\n",
    "mpsi = config.control.mpsi\n",
    "mtheta = config.control.mtheta\n",
    "psilow = config.control.psilow\n",
    "psihigh = config.control.psihigh\n",
    "newq0 = config.control.newq0\n",
    "\n",
    "me = 3\n",
    "interp = false\n",
    "diagnose_rz_in = false\n",
    "diagnose_rzphi = false\n"
   ]
  },
  {
   "cell_type": "code",
   "execution_count": 19,
   "id": "7b37b66a",
   "metadata": {},
   "outputs": [],
   "source": [
    "local rzphi::Spl.BicubicSplineType\n",
    "local eqfun::Spl.BicubicSplineType\n",
    "local rzphi_fs_nodes "
   ]
  },
  {
   "cell_type": "code",
   "execution_count": 20,
   "id": "53b60927",
   "metadata": {},
   "outputs": [],
   "source": [
    "# c-----------------------------------------------------------------------\n",
    "# c     allocate and define local arrays.\n",
    "# c-----------------------------------------------------------------------\n",
    "# sq_in._fs[:, 3] .= sqrt.(sq_in._xs)\n",
    "rz_in._xs = sq_in._xs\n",
    "rz_in._ys = collect(0:rz_in.my) ./ rz_in.my\n",
    "\n",
    "mx = rz_in.mx\n",
    "my = rz_in.my\n",
    "\n",
    "x = rz_in.fs[:, :, 1] .- ro\n",
    "y = rz_in.fs[:, :, 2] .- zo\n",
    "r2 = x.^2 .+ y.^2\n",
    "\n",
    "twopi = 2 * pi\n",
    "\n",
    "deta = zeros(Float64, mx+1, my+1)\n",
    "for ipsi in 0:mx, itheta in 0:my\n",
    "    if r2[ipsi+1, itheta+1] == 0.0\n",
    "        deta[ipsi+1, itheta+1] = 0.0\n",
    "    else\n",
    "        deta[ipsi+1, itheta+1] = atan(y[ipsi+1, itheta+1], x[ipsi+1, itheta+1]) / twopi\n",
    "    end\n",
    "end"
   ]
  },
  {
   "cell_type": "code",
   "execution_count": 25,
   "id": "6b7b56b1",
   "metadata": {},
   "outputs": [
    {
     "data": {
      "text/plain": [
       "129-element Vector{Float64}:\n",
       "  0.0\n",
       " -0.023437500000000916\n",
       " -0.04687500000000107\n",
       " -0.07031250000000182\n",
       " -0.09375000000000244\n",
       " -0.1171875000000009\n",
       " -0.14062499999999942\n",
       " -0.16406249999999795\n",
       " -0.18750000000000147\n",
       " -0.21093750000000305\n",
       "  ⋮\n",
       " -2.8124999999999973\n",
       " -2.8359375000000013\n",
       " -2.859375\n",
       " -2.882812499999999\n",
       " -2.9062499999999973\n",
       " -2.9296874999999973\n",
       " -2.9531249999999973\n",
       " -2.9765625\n",
       " -3.0000000000000004"
      ]
     },
     "metadata": {},
     "output_type": "display_data"
    }
   ],
   "source": [
    "# c-----------------------------------------------------------------------\n",
    "# c     transform input coordinates from cartesian to polar.\n",
    "# c-----------------------------------------------------------------------\n",
    "for ipsi in 0:mx\n",
    "    for itheta in 1:my\n",
    "        Δ = deta[ipsi+1, itheta+1] - deta[ipsi+1, itheta]\n",
    "        if Δ > 0.5\n",
    "            deta[ipsi+1, itheta+1] -= 1\n",
    "        elseif Δ < -0.5\n",
    "            deta[ipsi+1, itheta+1] += 1\n",
    "        end\n",
    "    end\n",
    "    for itheta in 0:my\n",
    "        if r2[ipsi+1, itheta+1] > 0\n",
    "            deta[ipsi+1, itheta+1] -= rz_in.ys[itheta+1]\n",
    "        end\n",
    "    end\n",
    "end\n",
    "\n",
    "deta[1, :] = JPEC.Equilibrium.inverse_extrap(r2[2:me+1, :], deta[2:me+1, :], 0.0)"
   ]
  },
  {
   "cell_type": "code",
   "execution_count": 7,
   "id": "0511f39a",
   "metadata": {},
   "outputs": [
    {
     "data": {
      "text/plain": [
       "JPEC.SplinesMod.BicubicSplineType(Ptr{Nothing} @0x000000035580a000, [0.01, 0.010148181201467524, 0.010592635547055184, 0.011333095314084414, 0.012369114477279132, 0.013700068977434681, 0.015325157097327761, 0.017243399944640907, 0.019453642041610618, 0.021954552021043953  …  0.9820454479789561, 0.9845463579583893, 0.986756600055359, 0.9886748429026722, 0.9902999310225652, 0.9916308855227208, 0.9926669046859157, 0.9934073644529449, 0.9938518187985325, 0.994], [0.0, 0.00390625, 0.0078125, 0.01171875, 0.015625, 0.01953125, 0.0234375, 0.02734375, 0.03125, 0.03515625  …  0.96484375, 0.96875, 0.97265625, 0.9765625, 0.98046875, 0.984375, 0.98828125, 0.9921875, 0.99609375, 1.0], [0.0 0.0 … 0.0 0.0; 0.0 0.0 … 0.0 0.0; … ; 0.0 0.0 … 0.0 0.0; 0.0 0.0 … 0.0 0.0;;; 0.0 0.0 … 0.0 0.0; 0.0 0.0 … 0.0 0.0; … ; 0.0 0.0 … 0.0 0.0; 0.0 0.0 … 0.0 0.0;;; 0.0 0.0 … 0.0 0.0; 0.0 0.0 … 0.0 0.0; … ; 0.0 0.0 … 0.0 0.0; 0.0 0.0 … 0.0 0.0], 128, 256, 3, 4, 4, [0.0 0.0 … 0.0 0.0; 0.0 0.0 … 0.0 0.0; … ; 0.0 0.0 … 0.0 0.0; 0.0 0.0 … 0.0 0.0;;; 0.0 0.0 … 0.0 0.0; 0.0 0.0 … 0.0 0.0; … ; 0.0 0.0 … 0.0 0.0; 0.0 0.0 … 0.0 0.0;;; 0.0 0.0 … 0.0 0.0; 0.0 0.0 … 0.0 0.0; … ; 0.0 0.0 … 0.0 0.0; 0.0 0.0 … 0.0 0.0], [0.0 0.0 … 0.0 0.0; 0.0 0.0 … 0.0 0.0; … ; 0.0 0.0 … 0.0 0.0; 0.0 0.0 … 0.0 0.0;;; 0.0 0.0 … 0.0 0.0; 0.0 0.0 … 0.0 0.0; … ; 0.0 0.0 … 0.0 0.0; 0.0 0.0 … 0.0 0.0;;; 0.0 0.0 … 0.0 0.0; 0.0 0.0 … 0.0 0.0; … ; 0.0 0.0 … 0.0 0.0; 0.0 0.0 … 0.0 0.0], [0.0 0.0 … 0.0 0.0; 0.0 0.0 … 0.0 0.0; … ; 0.0 0.0 … 0.0 0.0; 0.0 0.0 … 0.0 0.0;;; 0.0 0.0 … 0.0 0.0; 0.0 0.0 … 0.0 0.0; … ; 0.0 0.0 … 0.0 0.0; 0.0 0.0 … 0.0 0.0;;; 0.0 0.0 … 0.0 0.0; 0.0 0.0 … 0.0 0.0; … ; 0.0 0.0 … 0.0 0.0; 0.0 0.0 … 0.0 0.0])"
      ]
     },
     "metadata": {},
     "output_type": "display_data"
    }
   ],
   "source": [
    "# c-----------------------------------------------------------------------\n",
    "# c     prepare new spline type for surface quantities.\n",
    "# c-----------------------------------------------------------------------\n",
    "\n",
    "if grid_type in [\"original\", \"orig\"]\n",
    "    mpsi = size(sq_in._fs, 1) - 1\n",
    "end\n",
    "\n",
    "# c-----------------------------------------------------------------------\n",
    "# c     set up radial grid (only \"ldp\" implemented)\n",
    "# c-----------------------------------------------------------------------\n",
    "if grid_type == \"ldp\"\n",
    "    xs = psilow .+ (psihigh - psilow) .* (sin.(range(0.0, 1.0; length=mpsi+1) .* (π/2))).^2\n",
    "    fs = zeros(Float64, mpsi+1, 4) \n",
    "    sq = Spl.spline_setup(xs, fs; bctype=\"extrap\")\n",
    "else\n",
    "    error(\"Only 'ldp' grid_type is implemented for now.\")\n",
    "end\n",
    "\n",
    "# mtheta가 0이면 rz_in의 my를 사용\n",
    "if mtheta == 0\n",
    "    mtheta = rz_in.my\n",
    "end\n",
    "rzphi_fs = zeros(Float64, mpsi+1, mtheta+1, 4)\n",
    "eqfun_fs = zeros(Float64, mpsi+1, mtheta+1, 3)\n",
    "\n",
    "rzphi_xs = copy(sq.xs)\n",
    "rzphi_ys = collect(0:mtheta) ./ mtheta\n",
    "eqfun_xs = copy(sq.xs)\n",
    "eqfun_ys = collect(0:mtheta) ./ mtheta\n",
    "\n",
    "rzphi = Spl.bicube_setup(copy(sq.xs), collect(0:mtheta) ./ mtheta, rzphi_fs)\n",
    "eqfun = Spl.bicube_setup(copy(sq.xs), collect(0:mtheta) ./ mtheta, eqfun_fs)"
   ]
  },
  {
   "cell_type": "code",
   "execution_count": 9,
   "id": "00e336ec",
   "metadata": {},
   "outputs": [
    {
     "name": "stdout",
     "output_type": "stream",
     "text": [
      "0.01 0.0 "
     ]
    },
    {
     "ename": "MethodError",
     "evalue": "MethodError: no method matching bicube_eval(::Array{Float64, 3}, ::Float64, ::Float64, ::Int64)\nThe function `bicube_eval` exists, but no method is defined for this combination of argument types.\n\nClosest candidates are:\n  bicube_eval(!Matched::JPEC.SplinesMod.BicubicSplineType, ::Any, ::Any, ::Int64)\n   @ JPEC ~/Desktop/JPEC/src/Splines/BicubicSpline.jl:219\n  bicube_eval(!Matched::JPEC.SplinesMod.BicubicSplineType, ::Any, ::Any)\n   @ JPEC ~/Desktop/JPEC/src/Splines/BicubicSpline.jl:219\n",
     "output_type": "error",
     "traceback": [
      "MethodError: no method matching bicube_eval(::Array{Float64, 3}, ::Float64, ::Float64, ::Int64)\n",
      "The function `bicube_eval` exists, but no method is defined for this combination of argument types.\n",
      "\n",
      "Closest candidates are:\n",
      "  bicube_eval(!Matched::JPEC.SplinesMod.BicubicSplineType, ::Any, ::Any, ::Int64)\n",
      "   @ JPEC ~/Desktop/JPEC/src/Splines/BicubicSpline.jl:219\n",
      "  bicube_eval(!Matched::JPEC.SplinesMod.BicubicSplineType, ::Any, ::Any)\n",
      "   @ JPEC ~/Desktop/JPEC/src/Splines/BicubicSpline.jl:219\n",
      "\n",
      "\n",
      "Stacktrace:\n",
      " [1] top-level scope\n",
      "   @ ~/Desktop/JPEC/notebooks/jl_notebook_cell_df34fa98e69747e1a8f8a730347b8e2f_X10sZmlsZQ==.jl:12"
     ]
    }
   ],
   "source": [
    "spl_xs = zeros(Float64,mtheta+1)\n",
    "spl_fs = zeros(Float64,mtheta+1, 5)\n",
    "spl = Spl.spline_setup(spl_xs, spl_fs; bctype=\"extrap\")\n",
    "\n",
    "for ipsi in 0:mpsi\n",
    "    psifac = rzphi.xs[ipsi+1]\n",
    "    f_s = Spl.spline_eval(sq, psifac)\n",
    "    # spl.xs = rzphi.ys\n",
    "    for itheta in 0:mtheta\n",
    "        theta = rzphi.ys[itheta+1]\n",
    "        print(psifac, \" \", theta, \" \")\n",
    "        fs_rz_, fsx_rz_, fsy_rz_ = Spl.bicube_eval(rz_, psifac, theta, 1)\n",
    "        f_sq = Spl.spline_eval(sq_in, psifac, 0)\n",
    "        if f_rz_[1]<0\n",
    "            error(\"Negative radius found at psi=$(psifac), theta=$(theta).\")\n",
    "        end\n",
    "\n",
    "        rfac = sqrt(f_rz_[1])\n",
    "        r = ro+rfac*cos(twopi*(theta+fsx_rz_[2]))\n",
    "        jacfac = fsx_rz_[1] * (1+ fsy_rz_[2]) - fsy_rz_[1] * fsx_rz_[2]\n",
    "        w11 = (1+ fsy_rz_[2]) * twopi^2 *rfac / jacfac\n",
    "        w12 = - fsy_rz_[1] * pi/ (rfac * jacfac)\n",
    "        bp = psio * sqrt(w11^2 + w12^2)/r\n",
    "        bt = f_sq[1]/r\n",
    "        b = sqrt(bp^2 + bt^2)\n",
    "\n",
    "        spl.fs[itheta+1, 1] = f_rz_[1]\n",
    "        spl.fs[itheta+1, 2] = f_rz_[2]\n",
    "        spl.fs[itheta+1, 3] = r*jacfac\n",
    "        spl.fs[itheta+1, 4] = spl.fs[itheta+1, 3]/(r*r)\n",
    "        spl.fs[itheta+1, 5] = spl.fs[itheta+1, 3]*bp^(config.power_bp)*b^(config.power_b)/r^(config.power_r)\n",
    "    end\n",
    "\n",
    "    spl.xs = spl.integral!()\n",
    "    spl.xs = spl.fsi[:, 5] ./ spl.fs[end, 5]\n",
    "    spl.fs[:, 2] .= spl.fs[:, 2] .+ rzphi.ys .- spl.xs\n",
    "    spl.fs[:, 4] .= (spl.fs[:, 3] ./ spl.fsi[end, 3]) ./ (spl.fs[:, 5] ./ spl.fsi[end, 5]) .* spl.fsi[end, 3] * twopi * pi\n",
    "    spl.fs[:, 3] .= f_sq[1] * pi / psio .* (spl.fsi[:, 4] .- spl.fsi[end, 4] .* spl.xs)\n",
    "    # spl.xs = Spl.spline_setup(spl.xs, spl.fs; bctype=\"periodic\").integral!()\n",
    "\n",
    "    for itheta in 0:mtheta\n",
    "        theta = rzphi.ys[itheta+1]\n",
    "        f = Spl.spline_eval(spl, theta, 0)\n",
    "        rzphi.fs[ipsi+1, itheta+1, 1:4] .= f[1:4]\n",
    "    end\n",
    "\n",
    "    sq.fs[ipsi+1, 1] = f_sq[ipsi+1, 1] * twopi\n",
    "    sq.fs[ipsi+1, 2] = f_sq[ipsi+1, 2]\n",
    "    sq.fs[ipsi+1, 3] = spl.fsi[end, 3] * twopi * pi\n",
    "    sq.fs[ipsi+1, 4] = spl.fsi[end, 4] * sq.fs[ipsi+1, 1] / (2 * twopi * psio)\n",
    "end\n",
    "\n",
    "# sq = Spl.spline_setup(sq.xs, sq.fs; bctype=\"extrap\")\n",
    "f = Spl.spline_eval(sq, sq.xs[1], 0)\n",
    "_, f1 = Spl.spline_eval(sq, sq.xs[1], 1)\n",
    "q0 = f[4] - f1[4] * sq.xs[1]\n",
    "\n",
    "if newq0 == -1\n",
    "    newq0 = -q0\n",
    "end\n"
   ]
  },
  {
   "cell_type": "code",
   "execution_count": 31,
   "id": "d337b627",
   "metadata": {},
   "outputs": [
    {
     "name": "stdout",
     "output_type": "stream",
     "text": [
      "--- Starting Inverse Equilibrium Processing ---\n"
     ]
    },
    {
     "ename": "MethodError",
     "evalue": "MethodError: no method matching getindex(::JPEC.SplinesMod.BicubicSplineType, ::Symbol)\nThe function `getindex` exists, but no method is defined for this combination of argument types.",
     "output_type": "error",
     "traceback": [
      "MethodError: no method matching getindex(::JPEC.SplinesMod.BicubicSplineType, ::Symbol)\n",
      "The function `getindex` exists, but no method is defined for this combination of argument types.\n",
      "\n",
      "Stacktrace:\n",
      " [1] equilibrium_solver(input::JPEC.Equilibrium.InverseRunInput)\n",
      "   @ Main ~/Desktop/JPEC/notebooks/jl_notebook_cell_df34fa98e69747e1a8f8a730347b8e2f_X14sZmlsZQ==.jl:41\n",
      " [2] top-level scope\n",
      "   @ ~/Desktop/JPEC/notebooks/jl_notebook_cell_df34fa98e69747e1a8f8a730347b8e2f_X13sZmlsZQ==.jl:1"
     ]
    }
   ],
   "source": [
    "equilibrium_solver(lar_in)"
   ]
  },
  {
   "cell_type": "code",
   "execution_count": null,
   "id": "87de5490",
   "metadata": {},
   "outputs": [],
   "source": [
    "function save_and_plot_sq_in(sq_in, filename_prefix=\"sq_in\")\n",
    "    xs = sq_in._xs\n",
    "    fs = sq_in._fs  # size = (ma+1, 3): [F*Bphi, pressure, q]\n",
    "\n",
    "    # Save all data to a single txt file\n",
    "    data = hcat(xs, fs)\n",
    "\n",
    "    # Plot 1: F*Bphi\n",
    "    p1 = plot(xs, fs[:,1], label=\"F*Bphi\", xlabel=\"ψ / ψₒ\", ylabel=\"F*Bphi\", lw=2, title=\"F*Bphi Profile\")\n",
    "    display(p1)\n",
    "\n",
    "    # Plot 2: Pressure\n",
    "    p2 = plot(xs, fs[:,2], label=\"Pressure\", xlabel=\"ψ / ψₒ\", ylabel=\"Pressure\", lw=2, title=\"Pressure Profile\")\n",
    "    display(p2)\n",
    "\n",
    "    # Plot 3: q\n",
    "    p3 = plot(xs, fs[:,3], label=\"q\", xlabel=\"ψ / ψₒ\", ylabel=\"q\", lw=2, title=\"Safety Factor q Profile\")\n",
    "    display(p3)\n",
    "\n",
    "    println(\"✅ Displayed plots and saved $filename_prefix.txt\")\n",
    "end\n",
    "\n",
    "save_and_plot_sq_in(sq_in)"
   ]
  },
  {
   "cell_type": "code",
   "execution_count": null,
   "id": "0735e75a",
   "metadata": {},
   "outputs": [],
   "source": []
  }
 ],
 "metadata": {
  "kernelspec": {
   "display_name": "Julia 1.11.6",
   "language": "julia",
   "name": "julia-1.11"
  },
  "language_info": {
   "file_extension": ".jl",
   "mimetype": "application/julia",
   "name": "julia",
   "version": "1.11.6"
  }
 },
 "nbformat": 4,
 "nbformat_minor": 5
}
