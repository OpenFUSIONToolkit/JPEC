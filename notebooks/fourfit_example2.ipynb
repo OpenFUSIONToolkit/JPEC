{
 "cells": [
  {
   "cell_type": "code",
   "execution_count": null,
   "id": "56af0346",
   "metadata": {},
   "outputs": [],
   "source": [
    "using Pkg\n",
    "using Revise\n",
    "Pkg.activate(\"..\") \n",
    "Pkg.instantiate()\n",
    "using JPEC, Plots\n",
    "gr() "
   ]
  },
  {
   "cell_type": "code",
   "execution_count": null,
   "id": "2601740e",
   "metadata": {},
   "outputs": [],
   "source": [
    "using Revise\n",
    "include(\"../src/DCON/fourfit.jl\")\n",
    "import .fourfit_make_metric, .MetricData, .fourfit_make_matrix, .MatrixData, .compute_eigenvalues"
   ]
  },
  {
   "cell_type": "markdown",
   "id": "6e46cb63",
   "metadata": {},
   "source": [
    "### Reading Eq"
   ]
  },
  {
   "cell_type": "code",
   "execution_count": null,
   "id": "2ca7c929",
   "metadata": {},
   "outputs": [],
   "source": [
    "# 1. Define the input parameters for the equilibrium solver.\n",
    "#    - eq_filename: The name of the g-file we just created.\n",
    "#    - eq_type: \"efit\" for a standard g-file.\n",
    "#    - jac_type: \"boozer\" or \"hamada\" for the output coordinates.\n",
    "#    - mpsi, mtheta: Resolution of the output grid.\n",
    "    equil_control = JPEC.Equilibrium.EquilibriumControl(;\n",
    "    eq_filename=\"beta_1.00\",        # eq_filename\n",
    "    eq_type=\"efit\",          # eq_type\n",
    "    jac_type=\"hamada\",        # jac_type\n",
    "    grid_type=\"ldp\",\n",
    "    psilow=0.01,             # psilow\n",
    "    psihigh=0.990)             # psihigh\n",
    "equil_config = JPEC.Equilibrium.EquilibriumConfig(equil_control,JPEC.Equilibrium.EquilibriumOutput())\n",
    "# 2. Run the main equilibrium setup function.\n",
    "#    This will read the file, solve the direct problem, and return the final object.\n",
    "println(\"Starting equilibrium reconstruction...\")\n",
    "plasma_eq = JPEC.Equilibrium.setup_equilibrium(equil_config)\n",
    "#plasma_eq = JPEC.Equilibrium.setup_equilibrium(\"./DIIID_example/equil.toml\")\n",
    "println(\"Equilibrium reconstruction complete.\")"
   ]
  },
  {
   "cell_type": "code",
   "execution_count": null,
   "id": "8e5b9940",
   "metadata": {},
   "outputs": [],
   "source": [
    "fieldnames(typeof(plasma_eq.rzphi))"
   ]
  },
  {
   "cell_type": "markdown",
   "id": "007037bb",
   "metadata": {},
   "source": [
    "### CAlc. Metric"
   ]
  },
  {
   "cell_type": "code",
   "execution_count": null,
   "id": "bc5cb76b",
   "metadata": {},
   "outputs": [],
   "source": [
    "include(\"../src/DCON/fourfit.jl\")\n",
    "import .fourfit_make_metric, .MetricData, .fourfit_make_matrix, .MatrixData, .compute_eigenvalues"
   ]
  },
  {
   "cell_type": "code",
   "execution_count": null,
   "id": "eb9cb69b",
   "metadata": {},
   "outputs": [],
   "source": [
    "# Fourfit Metric Calculation Example\n",
    "println(\"📚 Fourfit Metric Calculation\")\n",
    "println(\"=\"^30)\n",
    "\n",
    "using .FourfitMetric\n",
    "metric_result = nothing\n",
    "try\n",
    "    # Metric tensor calculation\n",
    "    metric_result = FourfitMetric.fourfit_make_metric(\n",
    "        plasma_eq.rzphi,  # 2D geometry spline\n",
    "        plasma_eq.sq;     # 1D profile spline\n",
    "        mpsi=128,          # Radial grid points\n",
    "        mtheta=256,        # Poloidal grid points  \n",
    "        mband=10,          # Fourier bandwidth\n",
    "        fft_flag=true,    # Use FFT\n",
    "        verbose=true      # Detailed output\n",
    "    )\n",
    "    \n",
    "    println(\"✅ Metric calculation complete!\")\n",
    "    println(\"   Grid size: $(size(metric_result.fs))\")\n",
    " \n",
    "catch e\n",
    "    println(\"❌Error: $e\")\n",
    "end"
   ]
  },
  {
   "cell_type": "code",
   "execution_count": null,
   "id": "f13805e0",
   "metadata": {},
   "outputs": [],
   "source": [
    "include(\"../src/DCON/fourfit.jl\")\n",
    "import .fourfit_make_metric, .MetricData, .fourfit_make_matrix, .MatrixData, .compute_eigenvalues"
   ]
  },
  {
   "cell_type": "markdown",
   "id": "9babbba7",
   "metadata": {},
   "source": [
    "### Calc. Matric"
   ]
  },
  {
   "cell_type": "code",
   "execution_count": null,
   "id": "aa818cd1",
   "metadata": {},
   "outputs": [],
   "source": [
    "using Revise"
   ]
  },
  {
   "cell_type": "code",
   "execution_count": null,
   "id": "7878c4b0",
   "metadata": {},
   "outputs": [],
   "source": [
    "include(\"../src/DCON/fourfit.jl\")\n",
    "import .fourfit_make_metric, .MetricData, .fourfit_make_matrix, .MatrixData, .compute_eigenvalues"
   ]
  },
  {
   "cell_type": "code",
   "execution_count": null,
   "id": "8c512204",
   "metadata": {},
   "outputs": [],
   "source": [
    "# Fourfit Matrix Calculation - Complete Example\n",
    "println(\"🚀 Fourfit Matrix Calculation\")\n",
    "println(\"=\"^40)\n",
    "\n",
    "using .FourfitMetric\n",
    "matrix_result = nothing\n",
    "try\n",
    "    # Step 1: Matrix calculation with correct arguments\n",
    "    println(\"2️⃣  Calculating MHD Coefficient Matrix...\")\n",
    "    \n",
    "    matrix_result = FourfitMetric.fourfit_make_matrix(\n",
    "        metric_result,       # metric tensor data\n",
    "        plasma_eq.sq,        # 1D profile spline\n",
    "        plasma_eq.rzphi,     # 2D geometry spline\n",
    "        1.367;               # psio (toroidal flux normalization)\n",
    "        nn=1,                # toroidal mode number\n",
    "        mlow=-4,             # minimum poloidal mode\n",
    "        mhigh=4,             # maximum poloidal mode\n",
    "        power_flag=false,\n",
    "        feval_flag=false,\n",
    "        sas_flag=true,\n",
    "        verbose=true\n",
    "    )\n",
    "    \n",
    "    # Step 2: Analyze results\n",
    "    println(\"3️⃣  Analyzing Results:\")\n",
    "    println(\"   Matrix storage sizes:\")\n",
    "    println(\"      F-matrix: $(size(matrix_result.fmats))\")\n",
    "    println(\"      G-matrix: $(size(matrix_result.gmats))\")\n",
    "    println(\"      K-matrix: $(size(matrix_result.kmats))\")\n",
    "    println(\"   Mode range: $(matrix_result.mlow) to $(matrix_result.mhigh)\")\n",
    "    println(\"   Number of modes: $(matrix_result.mpert)\")\n",
    "    \n",
    "    println(\"✅ Matrix calculation completed successfully!\")\n",
    "    \n",
    "catch e\n",
    "    println(\"❌ Error occurred: $e\")\n",
    "    println(\"🔍 Error type: $(typeof(e))\")\n",
    "end"
   ]
  },
  {
   "cell_type": "markdown",
   "id": "2467b56d",
   "metadata": {},
   "source": [
    "### Redaing imats(original DCON output)"
   ]
  },
  {
   "cell_type": "markdown",
   "id": "46da0193",
   "metadata": {},
   "source": [
    "### comparison"
   ]
  },
  {
   "cell_type": "code",
   "execution_count": null,
   "id": "1252771d",
   "metadata": {},
   "outputs": [],
   "source": [
    "matrix_result.mband"
   ]
  },
  {
   "cell_type": "code",
   "execution_count": null,
   "id": "48fcf19b",
   "metadata": {},
   "outputs": [],
   "source": [
    "reshape(matrix_result.cmats[129,:], 9, 9)"
   ]
  },
  {
   "cell_type": "code",
   "execution_count": null,
   "id": "dd91cbcb",
   "metadata": {},
   "outputs": [],
   "source": [
    "reader.C[end, :, :]"
   ]
  },
  {
   "cell_type": "code",
   "execution_count": null,
   "id": "4ee5faa3",
   "metadata": {},
   "outputs": [],
   "source": [
    "(reshape(matrix_result.cmats[64, :], 9, 9)./reader.C[64,:,:])"
   ]
  },
  {
   "cell_type": "code",
   "execution_count": null,
   "id": "722ac482",
   "metadata": {},
   "outputs": [],
   "source": [
    "reshape(matrix_result.cmats[64, :], 9, 9)"
   ]
  },
  {
   "cell_type": "code",
   "execution_count": null,
   "id": "c0ee3391",
   "metadata": {},
   "outputs": [],
   "source": [
    "reader.C[64,:,:]"
   ]
  },
  {
   "cell_type": "code",
   "execution_count": null,
   "id": "681ceda6",
   "metadata": {},
   "outputs": [],
   "source": []
  },
  {
   "cell_type": "code",
   "execution_count": null,
   "id": "b2c6fe59",
   "metadata": {},
   "outputs": [],
   "source": [
    "reader.C[64,:,:]\n",
    "sq=plasma_eq.sq\n",
    "ipsi =64\n",
    "psifac = sq.xs[ipsi + 1]\n",
    "\n",
    "f_vals, f1_vals = JPEC.SplinesMod.spline_eval(sq, [psifac], 1)\n",
    "f_vals[1,:][4]\n",
    "f1_vals[1,:][2]"
   ]
  },
  {
   "cell_type": "code",
   "execution_count": null,
   "id": "46bbdf8f",
   "metadata": {},
   "outputs": [],
   "source": [
    "using CSV, DataFrames\n",
    "\n",
    "mutable struct ImatsReaderCSV\n",
    "    psi       :: Vector{Float64}       # ψ value list\n",
    "    m_values  :: Vector{Int}           # m value list\n",
    "    mpsi      :: Int                   # number of ψ values\n",
    "    mpert     :: Int                   # number of modes\n",
    "    A         :: Array{ComplexF64,3}   # matrix A (ψ x mpert x mpert)\n",
    "    B         :: Array{ComplexF64,3}   # matrix B\n",
    "    C         :: Array{ComplexF64,3}   # matrix C\n",
    "    D         :: Array{ComplexF64,3}   # matrix D\n",
    "    E         :: Array{ComplexF64,3}   # matrix E\n",
    "    H         :: Array{ComplexF64,3}   # matrix H\n",
    "end\n",
    "\n",
    "function ImatsReaderCSV(path::AbstractString)\n",
    "    # CSV 파일을 헤더는 6번째 줄부터 읽고, 공백을 구분자로 사용\n",
    "    df = CSV.read(path, DataFrame; skipto=6, delim=' ', ignorerepeated=true)\n",
    "    println(\"Found columns: \", names(df))\n",
    "    \n",
    "    # 실제 헤더에 맞게 컬럼 이름 지정\n",
    "    # 컬럼: \"psi\", \"m1\", \"m2\", \"real(Ai)\", \"imag(Ai)\", \"real(Bi)\", \"imag(Bi)\", \n",
    "    #      \"real(Ci)\", \"imag(Ci)\", \"real(Di)\", \"imag(Di)\", \"real(Ei)\", \"imag(Ei)\", \n",
    "    #      \"real(Hi)\", \"imag(Hi)\"\n",
    "    psi_vals = sort(unique(df[!, \"psi\"]))\n",
    "    m_vals = sort(unique(vcat(df[!, \"m1\"], df[!, \"m2\"])))\n",
    "    mpsi = length(psi_vals)\n",
    "    mpert = length(m_vals)\n",
    "    shp = (mpsi, mpert, mpert)\n",
    "    \n",
    "    # 빈 행렬 생성\n",
    "    A = zeros(ComplexF64, shp)\n",
    "    B = zeros(ComplexF64, shp)\n",
    "    C = zeros(ComplexF64, shp)\n",
    "    D = zeros(ComplexF64, shp)\n",
    "    E = zeros(ComplexF64, shp)\n",
    "    H = zeros(ComplexF64, shp)\n",
    "    \n",
    "    # 값 → 인덱스 변환 사전 생성\n",
    "    psi_idx = Dict(v => i for (i, v) in enumerate(psi_vals))\n",
    "    m_idx = Dict(v => i for (i, v) in enumerate(m_vals))\n",
    "    \n",
    "    # 각 행(row)마다, 해당 (ψ, m1, m2) 인덱스를 찾아 값을 저장\n",
    "    for row in eachrow(df)\n",
    "        k = psi_idx[row[\"psi\"]]\n",
    "        i = m_idx[row[\"m1\"]]\n",
    "        j = m_idx[row[\"m2\"]]\n",
    "        A[k, i, j] = ComplexF64(row[\"real(Ai)\"], row[\"imag(Ai)\"])\n",
    "        B[k, i, j] = ComplexF64(row[\"real(Bi)\"], row[\"imag(Bi)\"])\n",
    "        C[k, i, j] = ComplexF64(row[\"real(Ci)\"], row[\"imag(Ci)\"])\n",
    "        D[k, i, j] = ComplexF64(row[\"real(Di)\"], row[\"imag(Di)\"])\n",
    "        E[k, i, j] = ComplexF64(row[\"real(Ei)\"], row[\"imag(Ei)\"])\n",
    "        H[k, i, j] = ComplexF64(row[\"real(Hi)\"], row[\"imag(Hi)\"])\n",
    "    end\n",
    "    \n",
    "    return ImatsReaderCSV(psi_vals, m_vals, mpsi, mpert, A, B, C, D, E, H)\n",
    "end"
   ]
  },
  {
   "cell_type": "code",
   "execution_count": null,
   "id": "f1bbef53",
   "metadata": {},
   "outputs": [],
   "source": [
    "reader=ImatsReaderCSV(\"../src/DCON/validate/imats.out\")"
   ]
  },
  {
   "cell_type": "code",
   "execution_count": null,
   "id": "726cc002",
   "metadata": {},
   "outputs": [],
   "source": [
    "@show (reshape(matrix_result.cmats[120, :], 9, 9)./reader.C[120,:,:])"
   ]
  },
  {
   "cell_type": "code",
   "execution_count": null,
   "id": "350d2001",
   "metadata": {},
   "outputs": [],
   "source": [
    "@show (reshape(matrix_result.dmat, 9, 9)./reader.D[64,:,:])"
   ]
  }
 ],
 "metadata": {
  "kernelspec": {
   "display_name": "Julia 1.11.6",
   "language": "julia",
   "name": "julia-1.11"
  },
  "language_info": {
   "file_extension": ".jl",
   "mimetype": "application/julia",
   "name": "julia",
   "version": "1.11.6"
  }
 },
 "nbformat": 4,
 "nbformat_minor": 5
}
