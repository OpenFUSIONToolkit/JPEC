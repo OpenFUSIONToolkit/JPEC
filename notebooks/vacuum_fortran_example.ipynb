{
 "cells": [
  {
   "cell_type": "code",
   "execution_count": 6,
   "id": "d11e5382",
   "metadata": {},
   "outputs": [
    {
     "name": "stderr",
     "output_type": "stream",
     "text": [
      "\u001b[32m\u001b[1m  Activating\u001b[22m\u001b[39m project at `/private/tmp/pharr/JPEC.worktrees/vacuum_fortran`\n"
     ]
    }
   ],
   "source": [
    "using Pkg\n",
    "Pkg.activate(\"..\")\n",
    "Pkg.instantiate()\n",
    "using JPEC, Plots"
   ]
  },
  {
   "cell_type": "code",
   "execution_count": 7,
   "id": "2139c5fa",
   "metadata": {},
   "outputs": [
    {
     "name": "stdout",
     "output_type": "stream",
     "text": [
      "Testing set_dcon_params…\n",
      "set_dcon_params OK!\n"
     ]
    }
   ],
   "source": [
    "# Set dcon parameters\n",
    "# Copy ../test/vac.in to notebooks/vac.in if it doesn't exist\n",
    "if !isfile(\"../notebooks/vac.in\")\n",
    "    cp(\"../test/vac.in\", \"../notebooks/vac.in\")\n",
    "end\n",
    "\n",
    "mthin, lmin, lmax, nnin = Int32(4), Int32(1), Int32(4), Int32(2)\n",
    "qa1in = 1.23\n",
    "xin = rand(Float64, lmax - lmin + 1)\n",
    "zin = rand(Float64, lmax - lmin + 1)\n",
    "deltain = rand(Float64, lmax - lmin + 1)\n",
    "\n",
    "println(\"Testing set_dcon_params…\")\n",
    "JPEC.VacuumMod.set_dcon_params(mthin, lmin, lmax, nnin, qa1in, xin, zin, deltain)\n",
    "println(\"set_dcon_params OK!\")"
   ]
  },
  {
   "cell_type": "code",
   "execution_count": null,
   "id": "91d8cd04",
   "metadata": {},
   "outputs": [
    {
     "name": "stdout",
     "output_type": "stream",
     "text": [
      "Testing mscvac…\n",
      "mscvac OK!\n"
     ]
    }
   ],
   "source": [
    "# Run mscvac with sample variables\n",
    "# mscvac sample variables\n",
    "mpert    = Int32(5)\n",
    "mtheta   = Int32(256)\n",
    "mthvac   = Int32(256)\n",
    "wv       = zeros(ComplexF64, mpert, mpert)\n",
    "complex_flag = true                               \n",
    "kernelsignin = -1.0\n",
    "wall_flag    = false\n",
    "farwal_flag  = true\n",
    "grrio    = rand(Float64, 2*(mthvac+5), mpert*2)  \n",
    "xzptso   = rand(Float64, mthvac+5, 4)             \n",
    "op_ahgfile = \"aaaa\"                  \n",
    "\n",
    "println(\"Testing mscvac…\")\n",
    "JPEC.VacuumMod.mscvac(\n",
    "    wv, mpert, mtheta, mthvac,\n",
    "    complex_flag, kernelsignin,\n",
    "    wall_flag, farwal_flag,\n",
    "    grrio, xzptso, op_ahgfile\n",
    ")\n",
    "println(\"mscvac OK!\")\n"
   ]
  },
  {
   "cell_type": "code",
   "execution_count": 9,
   "id": "461f4991",
   "metadata": {},
   "outputs": [
    {
     "data": {
      "text/plain": [
       "5×5 Matrix{ComplexF64}:\n",
       "  6976.16-3.83106im  -1787.63-1786.42im   …  -943.364-2017.35im   0.0+0.0im\n",
       " -1787.63+1787.6im    927.465+0.894598im      602.184+390.427im   0.0+0.0im\n",
       "  2230.68-501.795im  -779.108-141.268im      -548.135-831.717im   0.0+0.0im\n",
       " -943.364+2059.86im   602.184-396.286im       805.952+0.989817im  0.0+0.0im\n",
       "      0.0+0.0im           0.0+0.0im               0.0+0.0im       0.0+0.0im"
      ]
     },
     "metadata": {},
     "output_type": "display_data"
    }
   ],
   "source": [
    "display(wv)"
   ]
  }
 ],
 "metadata": {
  "kernelspec": {
   "display_name": "Julia 1.11.4",
   "language": "julia",
   "name": "julia-1.11"
  },
  "language_info": {
   "file_extension": ".jl",
   "mimetype": "application/julia",
   "name": "julia",
   "version": "1.11.4"
  }
 },
 "nbformat": 4,
 "nbformat_minor": 5
}
