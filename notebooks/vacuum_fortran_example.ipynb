{
 "cells": [
  {
   "cell_type": "code",
   "execution_count": null,
   "id": "d11e5382",
   "metadata": {},
   "outputs": [],
   "source": [
    "using Pkg\n",
    "Pkg.activate(\"..\")\n",
    "Pkg.instantiate()\n",
    "using JPEC, Plots"
   ]
  },
  {
   "cell_type": "code",
   "execution_count": null,
   "id": "2139c5fa",
   "metadata": {},
   "outputs": [],
   "source": [
    "# Set dcon parameters\n",
    "# Copy ../test/vac.in to notebooks/vac.in if it doesn't exist\n",
    "if !isfile(\"../notebooks/vac.in\")\n",
    "    cp(\"../test/vac.in\", \"../notebooks/vac.in\")\n",
    "end\n",
    "\n",
    "mthin, lmin, lmax, nnin = Int32(4), Int32(1), Int32(4), Int32(2)\n",
    "qa1in = 1.23\n",
    "xin = rand(Float64, lmax - lmin + 1)\n",
    "zin = rand(Float64, lmax - lmin + 1)\n",
    "deltain = rand(Float64, lmax - lmin + 1)\n",
    "\n",
    "println(\"Testing set_dcon_params…\")\n",
    "JPEC.VacuumMod.set_dcon_params(mthin, lmin, lmax, nnin, qa1in, xin, zin, deltain)\n",
    "println(\"set_dcon_params OK!\")"
   ]
  },
  {
   "cell_type": "code",
   "execution_count": null,
   "id": "91d8cd04",
   "metadata": {},
   "outputs": [],
   "source": [
    "# Run mscvac with sample variables\n",
    "# mscvac sample variables\n",
    "mpert    = Int32(5)\n",
    "mtheta   = Int32(256)\n",
    "mthvac   = Int32(256)\n",
    "wv       = zeros(ComplexF64, mpert, mpert)\n",
    "complex_flag = true                               \n",
    "kernelsignin = -1.0\n",
    "wall_flag    = false\n",
    "farwal_flag  = true\n",
    "grrio    = rand(Float64, 2*(mthvac+5), mpert*2)  \n",
    "xzptso   = rand(Float64, mthvac+5, 4)             \n",
    "op_ahgfile = \"aaaa\"                  \n",
    "\n",
    "println(\"Testing mscvac…\")\n",
    "JPEC.VacuumMod.mscvac(\n",
    "    wv, mpert, mtheta, mthvac,\n",
    "    complex_flag, kernelsignin,\n",
    "    wall_flag, farwal_flag,\n",
    "    grrio, xzptso, op_ahgfile\n",
    ")\n",
    "println(\"mscvac OK!\")\n"
   ]
  },
  {
   "cell_type": "code",
   "execution_count": null,
   "id": "461f4991",
   "metadata": {},
   "outputs": [],
   "source": [
    "display(wv)"
   ]
  }
 ],
 "metadata": {
  "kernelspec": {
   "display_name": "Julia 1.11.4",
   "language": "julia",
   "name": "julia-1.11"
  },
  "language_info": {
   "file_extension": ".jl",
   "mimetype": "application/julia",
   "name": "julia",
   "version": "1.11.4"
  }
 },
 "nbformat": 4,
 "nbformat_minor": 5
}
