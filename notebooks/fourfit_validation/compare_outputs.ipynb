{
 "cells": [
  {
   "cell_type": "code",
   "execution_count": 24,
   "id": "1923feb4",
   "metadata": {},
   "outputs": [
    {
     "data": {
      "text/plain": [
       "read_dat_auto (generic function with 1 method)"
      ]
     },
     "metadata": {},
     "output_type": "display_data"
    }
   ],
   "source": [
    "using DataFrames, CSV, Statistics, Printf\n",
    "\n",
    "# --- User input ---\n",
    "file = \"ud.dat\"\n",
    "julia_path = \"./$file\"\n",
    "fortran_path = \"/Users/jakehalpern/Github/GPEC/docs/examples/solovev_ideal_example/$file\"\n",
    "\n",
    "# --- Function to detect delimiter ---\n",
    "function detect_delim(file_path)\n",
    "    open(file_path) do io\n",
    "        header = readline(io)\n",
    "        # Count tabs vs spaces\n",
    "        tab_count = count(c -> c == '\\t', header)\n",
    "        space_count = count(c -> c == ' ', header)\n",
    "        if tab_count > space_count\n",
    "            return '\\t'\n",
    "        else\n",
    "            return ' '   # treat multiple spaces as repeated delimiter\n",
    "        end\n",
    "    end\n",
    "end\n",
    "\n",
    "# --- Function to read .dat file into DataFrame ---\n",
    "function read_dat_auto(file_path)\n",
    "    delim = detect_delim(file_path)\n",
    "    df = CSV.read(file_path, DataFrame; delim=delim, ignorerepeated=true)\n",
    "    return df\n",
    "end"
   ]
  },
  {
   "cell_type": "code",
   "execution_count": 25,
   "id": "310cf22a",
   "metadata": {},
   "outputs": [],
   "source": [
    "julia = read_dat_auto(julia_path)\n",
    "fortran = read_dat_auto(fortran_path)\n",
    "\n",
    "# --- Check dimensions match ---\n",
    "if size(julia) != size(fortran)\n",
    "    error(\"Files have different dimensions: $(size(julia)) vs $(size(fortran))\")\n",
    "end"
   ]
  },
  {
   "cell_type": "code",
   "execution_count": 26,
   "id": "5a3fd968",
   "metadata": {},
   "outputs": [
    {
     "data": {
      "text/plain": [
       "clean_numeric! (generic function with 1 method)"
      ]
     },
     "metadata": {},
     "output_type": "display_data"
    }
   ],
   "source": [
    "function print_aligned(df_julia, df_fortran, idx)\n",
    "    headers = string.(names(df_julia))\n",
    "    row_j = string.(Vector(df_julia[idx, :]))\n",
    "    row_f = string.(Vector(df_fortran[idx, :]))\n",
    "    widths = [maximum(length.([h,vj,vf])) for (h,vj,vf) in zip(headers,row_j,row_f)]\n",
    "    fmt(values,label=\"\") = lpad(label,8) * \" \" *\n",
    "        join([rpad(v,w) for (v,w) in zip(values,widths)], \" | \")\n",
    "\n",
    "    println(\" \"^8, join([rpad(h,w) for (h,w) in zip(headers,widths)], \" | \"))\n",
    "    println(fmt(row_j,\"julia:\"))\n",
    "    println(fmt(row_f,\"fortran:\"))\n",
    "end\n",
    "\n",
    "function clean_numeric!(df::DataFrame)\n",
    "    for col in names(df)\n",
    "        df[!, col] = [try\n",
    "                          Float64(x)\n",
    "                      catch\n",
    "                          0.0\n",
    "                      end for x in df[!, col]]\n",
    "    end\n",
    "    return df\n",
    "end"
   ]
  },
  {
   "cell_type": "code",
   "execution_count": 27,
   "id": "7a0da624",
   "metadata": {},
   "outputs": [
    {
     "name": "stdout",
     "output_type": "stream",
     "text": [
      "Column-wise statistics of Julia/Fortran differences:\n",
      "=====================================\n",
      "Re(du1)\n",
      "\n",
      "  Abs Max: 2124.1388224624097 (at row 911)\n",
      "        i    | j    | Re(du1)              | Im(du1)                | Re(du2)               | Im(du2)             \n",
      "  julia: 15.0 | 29.0 | 2.4137174638822462e7 | -1.036551118922562e-14 | 5.720368156784355e-16 | 1.0514599816225644e6\n",
      "fortran: 15.0 | 29.0 | 2.41350505e7         | 3.23913559e-17         | -6.71719301e-18       | 1.05136741e6        \n",
      "\n",
      "  Rel Max: 2.624357562223353e6% (at row 896)\n",
      "        i    | j    | Re(du1)            | Im(du1)            | Re(du2)               | Im(du2)             \n",
      "  julia: 32.0 | 28.0 | 1.6990811427710821 | 1.3987193493261314 | -0.006413767202465245 | 0.007791063252561812\n",
      "fortran: 32.0 | 28.0 | 6.47402788e-5      | 0.00117052623      | -5.36739744e-6        | 2.96863813e-7       \n",
      "=====================================\n",
      "Im(du1)\n",
      "\n",
      "  Abs Max: 166.5764493067054 (at row 847)\n",
      "        i    | j    | Re(du1)            | Im(du1)            | Re(du2)           | Im(du2)            \n",
      "  julia: 15.0 | 27.0 | -4951.901734336877 | -166.5809186404554 | 7.256571332306295 | -215.71395127668407\n",
      "fortran: 15.0 | 27.0 | -4944.50455        | -0.00446933375     | 0.0001946924      | -215.391709        \n",
      "\n",
      "  Rel Max: NaN% (at row 32)\n",
      "        i    | j   | Re(du1)           | Im(du1) | Re(du2)                | Im(du2)           \n",
      "  julia: 32.0 | 1.0 | 70414.26323605774 | 0.0     | -6.994876300414815e-15 | 322.88171361665337\n",
      "fortran: 32.0 | 1.0 | 70410.576         | 0.0     | 1.19536294e-14         | 322.864795        \n",
      "=====================================\n",
      "Re(du2)\n",
      "\n",
      "  Abs Max: 7.256376639906295 (at row 847)\n",
      "        i    | j    | Re(du1)            | Im(du1)            | Re(du2)           | Im(du2)            \n",
      "  julia: 15.0 | 27.0 | -4951.901734336877 | -166.5809186404554 | 7.256571332306295 | -215.71395127668407\n",
      "fortran: 15.0 | 27.0 | -4944.50455        | -0.00446933375     | 0.0001946924      | -215.391709        \n",
      "\n",
      "  Rel Max: 1.007081955048918e7% (at row 223)\n",
      "        i    | j   | Re(du1)           | Im(du1)            | Re(du2)               | Im(du2)            \n",
      "  julia: 31.0 | 7.0 | 33.38606076534968 | 1.7000183198346472 | -0.008228436235969553 | 0.16159535987988552\n",
      "fortran: 31.0 | 7.0 | 36.9704737        | -1.68808631e-5     | 8.17065374e-8         | 0.178944645        \n",
      "=====================================\n",
      "Im(du2)\n",
      "\n",
      "  Abs Max: 92.57162256445736 (at row 911)\n",
      "        i    | j    | Re(du1)              | Im(du1)                | Re(du2)               | Im(du2)             \n",
      "  julia: 15.0 | 29.0 | 2.4137174638822462e7 | -1.036551118922562e-14 | 5.720368156784355e-16 | 1.0514599816225644e6\n",
      "fortran: 15.0 | 29.0 | 2.41350505e7         | 3.23913559e-17         | -6.71719301e-18       | 1.05136741e6        \n",
      "\n",
      "  Rel Max: 2.6243570444029877e6% (at row 896)\n",
      "        i    | j    | Re(du1)            | Im(du1)            | Re(du2)               | Im(du2)             \n",
      "  julia: 32.0 | 28.0 | 1.6990811427710821 | 1.3987193493261314 | -0.006413767202465245 | 0.007791063252561812\n",
      "fortran: 32.0 | 28.0 | 6.47402788e-5      | 0.00117052623      | -5.36739744e-6        | 2.96863813e-7       \n"
     ]
    }
   ],
   "source": [
    "println(\"Column-wise statistics of Julia/Fortran differences:\")\n",
    "for col in names(fortran)[3:end]   # skip ipsi, jtheta\n",
    "    println(\"=====================================\")\n",
    "    # Extract columns as vectors (safe for math)\n",
    "    col_j = julia[!, col]\n",
    "    col_f = fortran[!, col]\n",
    "\n",
    "    # Absolute and relative differences\n",
    "    col_diff = abs.(col_j .- col_f)\n",
    "    rel_col_diff = abs.((col_j .- col_f) ./ col_f)\n",
    "    # Locations of min and max\n",
    "    max_val, max_idx = findmax(col_diff)\n",
    "    rel_max_val, rel_max_idx = findmax(rel_col_diff)\n",
    "\n",
    "    println(\"$col\")\n",
    "    println(\"\\n  Abs Max: \", max_val, \" (at row \", max_idx, \")\")\n",
    "    print_aligned(julia, fortran, max_idx)\n",
    "    println(\"\\n  Rel Max: \", 100*rel_max_val, \"% (at row \", rel_max_idx, \")\")\n",
    "    print_aligned(julia, fortran, rel_max_idx)\n",
    "end"
   ]
  },
  {
   "cell_type": "code",
   "execution_count": 1,
   "id": "267a0e08",
   "metadata": {},
   "outputs": [],
   "source": []
  }
 ],
 "metadata": {
  "kernelspec": {
   "display_name": "Julia 1.11.6",
   "language": "julia",
   "name": "julia-1.11"
  },
  "language_info": {
   "file_extension": ".jl",
   "mimetype": "application/julia",
   "name": "julia",
   "version": "1.11.6"
  }
 },
 "nbformat": 4,
 "nbformat_minor": 5
}
