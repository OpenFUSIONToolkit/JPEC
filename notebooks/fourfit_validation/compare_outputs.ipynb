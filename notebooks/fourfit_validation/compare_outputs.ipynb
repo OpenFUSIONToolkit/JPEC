{
 "cells": [
  {
   "cell_type": "code",
   "execution_count": null,
   "id": "1923feb4",
   "metadata": {},
   "outputs": [],
   "source": [
    "using DataFrames, CSV, Statistics, Printf\n",
    "\n",
    "# --- User input ---\n",
    "file = \"ud.dat\"\n",
    "julia_path = \"./$file\"\n",
    "fortran_path = \"/Users/jakehalpern/Github/GPEC/docs/examples/solovev_ideal_example/$file\"\n",
    "\n",
    "# --- Function to detect delimiter ---\n",
    "function detect_delim(file_path)\n",
    "    open(file_path) do io\n",
    "        header = readline(io)\n",
    "        # Count tabs vs spaces\n",
    "        tab_count = count(c -> c == '\\t', header)\n",
    "        space_count = count(c -> c == ' ', header)\n",
    "        if tab_count > space_count\n",
    "            return '\\t'\n",
    "        else\n",
    "            return ' '   # treat multiple spaces as repeated delimiter\n",
    "        end\n",
    "    end\n",
    "end\n",
    "\n",
    "# --- Function to read .dat file into DataFrame ---\n",
    "function read_dat_auto(file_path)\n",
    "    delim = detect_delim(file_path)\n",
    "    df = CSV.read(file_path, DataFrame; delim=delim, ignorerepeated=true)\n",
    "    return df\n",
    "end"
   ]
  },
  {
   "cell_type": "code",
   "execution_count": null,
   "id": "310cf22a",
   "metadata": {},
   "outputs": [],
   "source": [
    "julia = read_dat_auto(julia_path)\n",
    "fortran = read_dat_auto(fortran_path)\n",
    "\n",
    "# --- Check dimensions match ---\n",
    "if size(julia) != size(fortran)\n",
    "    error(\"Files have different dimensions: $(size(julia)) vs $(size(fortran))\")\n",
    "end"
   ]
  },
  {
   "cell_type": "code",
   "execution_count": null,
   "id": "5a3fd968",
   "metadata": {},
   "outputs": [],
   "source": [
    "function print_aligned(df_julia, df_fortran, idx)\n",
    "    headers = string.(names(df_julia))\n",
    "    row_j = string.(Vector(df_julia[idx, :]))\n",
    "    row_f = string.(Vector(df_fortran[idx, :]))\n",
    "    widths = [maximum(length.([h,vj,vf])) for (h,vj,vf) in zip(headers,row_j,row_f)]\n",
    "    fmt(values,label=\"\") = lpad(label,8) * \" \" *\n",
    "        join([rpad(v,w) for (v,w) in zip(values,widths)], \" | \")\n",
    "\n",
    "    println(\" \"^8, join([rpad(h,w) for (h,w) in zip(headers,widths)], \" | \"))\n",
    "    println(fmt(row_j,\"julia:\"))\n",
    "    println(fmt(row_f,\"fortran:\"))\n",
    "end\n",
    "\n",
    "function clean_numeric!(df::DataFrame)\n",
    "    for col in names(df)\n",
    "        df[!, col] = [try\n",
    "                          Float64(x)\n",
    "                      catch\n",
    "                          0.0\n",
    "                      end for x in df[!, col]]\n",
    "    end\n",
    "    return df\n",
    "end"
   ]
  },
  {
   "cell_type": "code",
   "execution_count": null,
   "id": "7a0da624",
   "metadata": {},
   "outputs": [],
   "source": [
    "println(\"Column-wise statistics of Julia/Fortran differences:\")\n",
    "for col in names(fortran)[3:end]   # skip ipsi, jtheta\n",
    "    println(\"=====================================\")\n",
    "    # Extract columns as vectors (safe for math)\n",
    "    col_j = julia[!, col]\n",
    "    col_f = fortran[!, col]\n",
    "\n",
    "    # Absolute and relative differences\n",
    "    col_diff = abs.(col_j .- col_f)\n",
    "    rel_col_diff = abs.((col_j .- col_f) ./ col_f)\n",
    "    # Locations of min and max\n",
    "    max_val, max_idx = findmax(col_diff)\n",
    "    rel_max_val, rel_max_idx = findmax(rel_col_diff)\n",
    "\n",
    "    println(\"$col\")\n",
    "    println(\"\\n  Abs Max: \", max_val, \" (at row \", max_idx, \")\")\n",
    "    print_aligned(julia, fortran, max_idx)\n",
    "    println(\"\\n  Rel Max: \", 100*rel_max_val, \"% (at row \", rel_max_idx, \")\")\n",
    "    print_aligned(julia, fortran, rel_max_idx)\n",
    "end"
   ]
  },
  {
   "cell_type": "code",
   "execution_count": null,
   "id": "267a0e08",
   "metadata": {},
   "outputs": [],
   "source": []
  }
 ],
 "metadata": {
  "kernelspec": {
   "display_name": "Julia 1.11.6",
   "language": "julia",
   "name": "julia-1.11"
  },
  "language_info": {
   "file_extension": ".jl",
   "mimetype": "application/julia",
   "name": "julia",
   "version": "1.11.6"
  }
 },
 "nbformat": 4,
 "nbformat_minor": 5
}
