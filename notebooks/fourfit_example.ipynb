{
 "cells": [
  {
   "cell_type": "code",
   "execution_count": 1,
   "id": "56af0346",
   "metadata": {},
   "outputs": [
    {
     "name": "stderr",
     "output_type": "stream",
     "text": [
      "\u001b[32m\u001b[1m  Activating\u001b[22m\u001b[39m project at `~/git/JPEC10/JPEC`\n"
     ]
    },
    {
     "data": {
      "text/plain": [
       "Plots.GRBackend()"
      ]
     },
     "metadata": {},
     "output_type": "display_data"
    }
   ],
   "source": [
    "using Pkg\n",
    "using Revise\n",
    "Pkg.activate(\"..\") \n",
    "Pkg.instantiate()\n",
    "using JPEC, Plots\n",
    "gr() "
   ]
  },
  {
   "cell_type": "code",
   "execution_count": 2,
   "id": "2601740e",
   "metadata": {},
   "outputs": [
    {
     "name": "stderr",
     "output_type": "stream",
     "text": [
      "WARNING: could not import Main.fourfit_make_metric into Main\n",
      "WARNING: could not import Main.MetricData into Main\n",
      "WARNING: could not import Main.fourfit_make_matrix into Main\n",
      "WARNING: could not import Main.MatrixData into Main\n",
      "WARNING: could not import Main.compute_eigenvalues into Main\n"
     ]
    }
   ],
   "source": [
    "using Revise\n",
    "include(\"../src/DCON/fourfit.jl\")\n",
    "import .fourfit_make_metric, .MetricData, .fourfit_make_matrix, .MatrixData, .compute_eigenvalues"
   ]
  },
  {
   "cell_type": "markdown",
   "id": "6e46cb63",
   "metadata": {},
   "source": [
    "### Reading Eq"
   ]
  },
  {
   "cell_type": "code",
   "execution_count": 3,
   "id": "2ca7c929",
   "metadata": {},
   "outputs": [
    {
     "name": "stderr",
     "output_type": "stream",
     "text": [
      "┌ Info: Forcing hamada coordinate jacobian exponents: power_*\n",
      "└ @ JPEC.Equilibrium /Users/seoda-eun/git/JPEC10/JPEC/src/Equilibrium/EquilibriumTypes.jl:48\n"
     ]
    },
    {
     "name": "stdout",
     "output_type": "stream",
     "text": [
      "Starting equilibrium reconstruction...\n",
      "Equilibrium file: beta_1.00\n",
      "--> Processing EFIT g-file: beta_1.00\n",
      "--> Parsed from header: nw=129, nh=128\n",
      "--> All main data blocks parsed successfully.\n",
      "--> Creating 1D profile splines...\n",
      "--> 1D Spline fitting complete.\n",
      "--> Creating 2D psi spline...\n",
      "--> 2D Spline fitting complete.\n",
      "--- Starting Direct Equilibrium Processing ---\n",
      "Finding magnetic axis...\n",
      "  Iter  1: R = 3.115238, Z = 0.000008, |ΔR|=1.15e-01, |ΔZ|=1.11e-05\n",
      "  Iter  2: R = 3.117635, Z = -0.000003, |ΔR|=2.40e-03, |ΔZ|=1.10e-05\n",
      "  Iter  3: R = 3.117636, Z = -0.000003, |ΔR|=1.07e-06, |ΔZ|=1.04e-09\n",
      "  Iter  4: R = 3.117636, Z = -0.000003, |ΔR|=2.12e-13, |ΔZ|=5.62e-16\n",
      "Magnetic axis found at R=3.1176357129137466, Z=-2.9184696943092166e-6.\n",
      "Finding inboard separatrix crossing...\n",
      "  Restart attempt 1/6 with initial R = 2.675802\n",
      "inboard separatrix found at R=1.5000175239830411.\n",
      "Finding outboard separatrix crossing...\n",
      "  Restart attempt 1/6 with initial R = 3.500684\n",
      "outboard separatrix found at R=4.499995001114418.\n",
      "Starting loop over flux surfaces...\n",
      "--> Processing surface ipsi = 128 / 128 (ψ_norm = 0.9900)\n",
      "--> Processing surface ipsi = 127 / 128 (ψ_norm = 0.9899)\n",
      "--> Processing surface ipsi = 126 / 128 (ψ_norm = 0.9894)\n",
      "--> Processing surface ipsi = 125 / 128 (ψ_norm = 0.9887)\n",
      "--> Processing surface ipsi = 124 / 128 (ψ_norm = 0.9876)\n",
      "--> Processing surface ipsi = 123 / 128 (ψ_norm = 0.9863)\n",
      "--> Processing surface ipsi = 122 / 128 (ψ_norm = 0.9847)\n",
      "--> Processing surface ipsi = 121 / 128 (ψ_norm = 0.9828)\n",
      "--> Processing surface ipsi = 120 / 128 (ψ_norm = 0.9806)\n",
      "--> Processing surface ipsi = 119 / 128 (ψ_norm = 0.9781)\n",
      "--> Processing surface ipsi = 118 / 128 (ψ_norm = 0.9753)\n",
      "--> Processing surface ipsi = 117 / 128 (ψ_norm = 0.9723)\n",
      "--> Processing surface ipsi = 116 / 128 (ψ_norm = 0.9689)\n",
      "--> Processing surface ipsi = 115 / 128 (ψ_norm = 0.9653)\n",
      "--> Processing surface ipsi = 114 / 128 (ψ_norm = 0.9614)\n",
      "--> Processing surface ipsi = 113 / 128 (ψ_norm = 0.9572)\n",
      "--> Processing surface ipsi = 112 / 128 (ψ_norm = 0.9527)\n",
      "--> Processing surface ipsi = 111 / 128 (ψ_norm = 0.9480)\n",
      "--> Processing surface ipsi = 110 / 128 (ψ_norm = 0.9430)\n",
      "--> Processing surface ipsi = 109 / 128 (ψ_norm = 0.9377)\n",
      "--> Processing surface ipsi = 108 / 128 (ψ_norm = 0.9321)\n",
      "--> Processing surface ipsi = 107 / 128 (ψ_norm = 0.9263)\n",
      "--> Processing surface ipsi = 106 / 128 (ψ_norm = 0.9203)\n",
      "--> Processing surface ipsi = 105 / 128 (ψ_norm = 0.9140)\n",
      "--> Processing surface ipsi = 104 / 128 (ψ_norm = 0.9074)\n",
      "--> Processing surface ipsi = 103 / 128 (ψ_norm = 0.9006)\n",
      "--> Processing surface ipsi = 102 / 128 (ψ_norm = 0.8936)\n",
      "--> Processing surface ipsi = 101 / 128 (ψ_norm = 0.8863)\n",
      "--> Processing surface ipsi = 100 / 128 (ψ_norm = 0.8788)\n",
      "--> Processing surface ipsi = 99 / 128 (ψ_norm = 0.8710)\n",
      "--> Processing surface ipsi = 98 / 128 (ψ_norm = 0.8631)\n",
      "--> Processing surface ipsi = 97 / 128 (ψ_norm = 0.8549)\n",
      "--> Processing surface ipsi = 96 / 128 (ψ_norm = 0.8465)\n",
      "--> Processing surface ipsi = 95 / 128 (ψ_norm = 0.8379)\n",
      "--> Processing surface ipsi = 94 / 128 (ψ_norm = 0.8291)\n",
      "--> Processing surface ipsi = 93 / 128 (ψ_norm = 0.8201)\n",
      "--> Processing surface ipsi = 92 / 128 (ψ_norm = 0.8109)\n",
      "--> Processing surface ipsi = 91 / 128 (ψ_norm = 0.8015)\n",
      "--> Processing surface ipsi = 90 / 128 (ψ_norm = 0.7919)\n",
      "--> Processing surface ipsi = 89 / 128 (ψ_norm = 0.7821)\n",
      "--> Processing surface ipsi = 88 / 128 (ψ_norm = 0.7722)\n",
      "--> Processing surface ipsi = 87 / 128 (ψ_norm = 0.7621)\n",
      "--> Processing surface ipsi = 86 / 128 (ψ_norm = 0.7519)\n",
      "--> Processing surface ipsi = 85 / 128 (ψ_norm = 0.7415)\n",
      "--> Processing surface ipsi = 84 / 128 (ψ_norm = 0.7310)\n",
      "--> Processing surface ipsi = 83 / 128 (ψ_norm = 0.7203)\n",
      "--> Processing surface ipsi = 82 / 128 (ψ_norm = 0.7095)\n",
      "--> Processing surface ipsi = 81 / 128 (ψ_norm = 0.6986)\n",
      "--> Processing surface ipsi = 80 / 128 (ψ_norm = 0.6875)\n",
      "--> Processing surface ipsi = 79 / 128 (ψ_norm = 0.6763)\n",
      "--> Processing surface ipsi = 78 / 128 (ψ_norm = 0.6651)\n",
      "--> Processing surface ipsi = 77 / 128 (ψ_norm = 0.6537)\n",
      "--> Processing surface ipsi = 76 / 128 (ψ_norm = 0.6422)\n",
      "--> Processing surface ipsi = 75 / 128 (ψ_norm = 0.6307)\n",
      "--> Processing surface ipsi = 74 / 128 (ψ_norm = 0.6191)\n",
      "--> Processing surface ipsi = 73 / 128 (ψ_norm = 0.6074)\n",
      "--> Processing surface ipsi = 72 / 128 (ψ_norm = 0.5956)\n",
      "--> Processing surface ipsi = 71 / 128 (ψ_norm = 0.5838)\n",
      "--> Processing surface ipsi = 70 / 128 (ψ_norm = 0.5719)\n",
      "--> Processing surface ipsi = 69 / 128 (ψ_norm = 0.5600)\n",
      "--> Processing surface ipsi = 68 / 128 (ψ_norm = 0.5480)\n",
      "--> Processing surface ipsi = 67 / 128 (ψ_norm = 0.5360)\n",
      "--> Processing surface ipsi = 66 / 128 (ψ_norm = 0.5240)\n",
      "--> Processing surface ipsi = 65 / 128 (ψ_norm = 0.5120)\n",
      "--> Processing surface ipsi = 64 / 128 (ψ_norm = 0.5000)\n",
      "--> Processing surface ipsi = 63 / 128 (ψ_norm = 0.4880)\n",
      "--> Processing surface ipsi = 62 / 128 (ψ_norm = 0.4760)\n",
      "--> Processing surface ipsi = 61 / 128 (ψ_norm = 0.4640)\n",
      "--> Processing surface ipsi = 60 / 128 (ψ_norm = 0.4520)\n",
      "--> Processing surface ipsi = 59 / 128 (ψ_norm = 0.4400)\n",
      "--> Processing surface ipsi = 58 / 128 (ψ_norm = 0.4281)\n",
      "--> Processing surface ipsi = 57 / 128 (ψ_norm = 0.4162)\n",
      "--> Processing surface ipsi = 56 / 128 (ψ_norm = 0.4044)\n",
      "--> Processing surface ipsi = 55 / 128 (ψ_norm = 0.3926)\n",
      "--> Processing surface ipsi = 54 / 128 (ψ_norm = 0.3809)\n",
      "--> Processing surface ipsi = 53 / 128 (ψ_norm = 0.3693)\n",
      "--> Processing surface ipsi = 52 / 128 (ψ_norm = 0.3578)\n",
      "--> Processing surface ipsi = 51 / 128 (ψ_norm = 0.3463)\n",
      "--> Processing surface ipsi = 50 / 128 (ψ_norm = 0.3349)\n",
      "--> Processing surface ipsi = 49 / 128 (ψ_norm = 0.3237)\n",
      "--> Processing surface ipsi = 48 / 128 (ψ_norm = 0.3125)\n",
      "--> Processing surface ipsi = 47 / 128 (ψ_norm = 0.3014)\n",
      "--> Processing surface ipsi = 46 / 128 (ψ_norm = 0.2905)\n",
      "--> Processing surface ipsi = 45 / 128 (ψ_norm = 0.2797)\n",
      "--> Processing surface ipsi = 44 / 128 (ψ_norm = 0.2690)\n",
      "--> Processing surface ipsi = 43 / 128 (ψ_norm = 0.2585)\n",
      "--> Processing surface ipsi = 42 / 128 (ψ_norm = 0.2481)\n",
      "--> Processing surface ipsi = 41 / 128 (ψ_norm = 0.2379)\n",
      "--> Processing surface ipsi = 40 / 128 (ψ_norm = 0.2278)\n",
      "--> Processing surface ipsi = 39 / 128 (ψ_norm = 0.2179)\n",
      "--> Processing surface ipsi = 38 / 128 (ψ_norm = 0.2081)\n",
      "--> Processing surface ipsi = 37 / 128 (ψ_norm = 0.1985)\n",
      "--> Processing surface ipsi = 36 / 128 (ψ_norm = 0.1891)\n",
      "--> Processing surface ipsi = 35 / 128 (ψ_norm = 0.1799)\n",
      "--> Processing surface ipsi = 34 / 128 (ψ_norm = 0.1709)\n",
      "--> Processing surface ipsi = 33 / 128 (ψ_norm = 0.1621)\n",
      "--> Processing surface ipsi = 32 / 128 (ψ_norm = 0.1535)\n",
      "--> Processing surface ipsi = 31 / 128 (ψ_norm = 0.1451)\n",
      "--> Processing surface ipsi = 30 / 128 (ψ_norm = 0.1369)\n",
      "--> Processing surface ipsi = 29 / 128 (ψ_norm = 0.1290)\n",
      "--> Processing surface ipsi = 28 / 128 (ψ_norm = 0.1212)\n",
      "--> Processing surface ipsi = 27 / 128 (ψ_norm = 0.1137)\n",
      "--> Processing surface ipsi = 26 / 128 (ψ_norm = 0.1064)\n",
      "--> Processing surface ipsi = 25 / 128 (ψ_norm = 0.0994)\n",
      "--> Processing surface ipsi = 24 / 128 (ψ_norm = 0.0926)\n",
      "--> Processing surface ipsi = 23 / 128 (ψ_norm = 0.0860)\n",
      "--> Processing surface ipsi = 22 / 128 (ψ_norm = 0.0797)\n",
      "--> Processing surface ipsi = 21 / 128 (ψ_norm = 0.0737)\n",
      "--> Processing surface ipsi = 20 / 128 (ψ_norm = 0.0679)\n",
      "--> Processing surface ipsi = 19 / 128 (ψ_norm = 0.0623)\n",
      "--> Processing surface ipsi = 18 / 128 (ψ_norm = 0.0570)\n",
      "--> Processing surface ipsi = 17 / 128 (ψ_norm = 0.0520)\n",
      "--> Processing surface ipsi = 16 / 128 (ψ_norm = 0.0473)\n",
      "--> Processing surface ipsi = 15 / 128 (ψ_norm = 0.0428)\n",
      "--> Processing surface ipsi = 14 / 128 (ψ_norm = 0.0386)\n",
      "--> Processing surface ipsi = 13 / 128 (ψ_norm = 0.0347)\n",
      "--> Processing surface ipsi = 12 / 128 (ψ_norm = 0.0311)\n",
      "--> Processing surface ipsi = 11 / 128 (ψ_norm = 0.0277)\n",
      "--> Processing surface ipsi = 10 / 128 (ψ_norm = 0.0247)\n",
      "--> Processing surface ipsi = 9 / 128 (ψ_norm = 0.0219)\n",
      "--> Processing surface ipsi = 8 / 128 (ψ_norm = 0.0194)\n",
      "--> Processing surface ipsi = 7 / 128 (ψ_norm = 0.0172)\n",
      "--> Processing surface ipsi = 6 / 128 (ψ_norm = 0.0153)\n",
      "--> Processing surface ipsi = 5 / 128 (ψ_norm = 0.0137)\n",
      "--> Processing surface ipsi = 4 / 128 (ψ_norm = 0.0124)\n",
      "--> Processing surface ipsi = 3 / 128 (ψ_norm = 0.0113)\n",
      "--> Processing surface ipsi = 2 / 128 (ψ_norm = 0.0106)\n",
      "--> Processing surface ipsi = 1 / 128 (ψ_norm = 0.0101)\n",
      "--> Processing surface ipsi = 0 / 128 (ψ_norm = 0.0100)\n",
      "...Loop over flux surfaces finished.\n",
      "Final geometric spline 'rzphi' is fitted.\n",
      "Calculating final physics quantities (B, g_ij)...\n",
      "...done.\n",
      "--- Direct Equilibrium Processing Finished ---\n",
      "Finding q profile...\n",
      "q0: 1.0500410815499701, qmin: 1.0500410815499701, qmax: 4.084752309989664, qa: 4.395771592423873, q95: 3.2111205098723414, qmax_edge: 4.084752309989664, psiexl: [0.01, 0.99], qexl: [1.0522385895980015, 4.084752309989664], mextrema: 2\n",
      "Diagnosing Grad-Shafranov solution...\n",
      "Writing diagnostics to HDF5 files...\n",
      "--- Equilibrium Setup Complete ---\n",
      "Equilibrium reconstruction complete.\n"
     ]
    }
   ],
   "source": [
    "# 1. Define the input parameters for the equilibrium solver.\n",
    "#    - eq_filename: The name of the g-file we just created.\n",
    "#    - eq_type: \"efit\" for a standard g-file.\n",
    "#    - jac_type: \"boozer\" or \"hamada\" for the output coordinates.\n",
    "#    - mpsi, mtheta: Resolution of the output grid.\n",
    "    equil_control = JPEC.Equilibrium.EquilibriumControl(;\n",
    "    eq_filename=\"beta_1.00\",        # eq_filename\n",
    "    eq_type=\"efit\",          # eq_type\n",
    "    jac_type=\"hamada\",        # jac_type\n",
    "    grid_type=\"ldp\",\n",
    "    psilow=0.01,             # psilow\n",
    "    psihigh=0.990)             # psihigh\n",
    "equil_config = JPEC.Equilibrium.EquilibriumConfig(equil_control,JPEC.Equilibrium.EquilibriumOutput())\n",
    "# 2. Run the main equilibrium setup function.\n",
    "#    This will read the file, solve the direct problem, and return the final object.\n",
    "println(\"Starting equilibrium reconstruction...\")\n",
    "plasma_eq = JPEC.Equilibrium.setup_equilibrium(equil_config)\n",
    "#plasma_eq = JPEC.Equilibrium.setup_equilibrium(\"./DIIID_example/equil.toml\")\n",
    "println(\"Equilibrium reconstruction complete.\")"
   ]
  },
  {
   "cell_type": "code",
   "execution_count": null,
   "id": "8e5b9940",
   "metadata": {},
   "outputs": [],
   "source": [
    "fieldnames(typeof(plasma_eq.rzphi))"
   ]
  },
  {
   "cell_type": "markdown",
   "id": "007037bb",
   "metadata": {},
   "source": [
    "### CAlc. Metric"
   ]
  },
  {
   "cell_type": "code",
   "execution_count": null,
   "id": "bc5cb76b",
   "metadata": {},
   "outputs": [],
   "source": [
    "include(\"../src/DCON/fourfit.jl\")\n",
    "import .fourfit_make_metric, .MetricData, .fourfit_make_matrix, .MatrixData, .compute_eigenvalues"
   ]
  },
  {
   "cell_type": "code",
   "execution_count": null,
   "id": "eb9cb69b",
   "metadata": {},
   "outputs": [],
   "source": [
    "# Fourfit Metric Calculation Example\n",
    "println(\"📚 Fourfit Metric Calculation\")\n",
    "println(\"=\"^30)\n",
    "\n",
    "using .FourfitMetric\n",
    "\n",
    "try\n",
    "    # Metric tensor calculation\n",
    "    metric_result = FourfitMetric.fourfit_make_metric(\n",
    "        plasma_eq.rzphi,  # 2D geometry spline\n",
    "        plasma_eq.sq;     # 1D profile spline\n",
    "        mpsi=128,          # Radial grid points\n",
    "        mtheta=256,        # Poloidal grid points  \n",
    "        mband=10,          # Fourier bandwidth\n",
    "        fft_flag=true,    # Use FFT\n",
    "        verbose=true      # Detailed output\n",
    "    )\n",
    "    \n",
    "    println(\"✅ Metric calculation complete!\")\n",
    "    println(\"   Grid size: $(size(metric_result.fs))\")\n",
    "    \n",
    "\n",
    "\n",
    "\n",
    "    \n",
    "    # Evaluate at a specific point (if spline is available)\n",
    "    if metric_result.fspline !== nothing\n",
    "        psi_test = 0.5\n",
    "        theta_test = 0.5\n",
    "        \n",
    "        components = FourfitMetric.fspline_eval_metric(metric_result, psi_test, theta_test)\n",
    "        println(\"   (ψ=$psi_test, θ=$theta_test):\")\n",
    "        println(\"   g11 = $(round(components[1], digits=6))\")\n",
    "        println(\"   g22 = $(round(components[2], digits=6))\")\n",
    "        println(\"   g33 = $(round(components[3], digits=6))\")\n",
    "        println(\"   g23 = $(round(components[4], digits=6))\")\n",
    "        println(\"   g31 = $(round(components[5], digits=6))\")\n",
    "        println(\"   g12 = $(round(components[6], digits=6))\")\n",
    "\n",
    "        println(\"   jac = $(round(components[7], digits=6))\")\n",
    "        println(\"   jac1 = $(round(components[8], digits=6))\")\n",
    "\n",
    "    end\n",
    "    \n",
    "catch e\n",
    "    println(\"❌Error: $e\")\n",
    "end"
   ]
  },
  {
   "cell_type": "code",
   "execution_count": null,
   "id": "af467e4b",
   "metadata": {},
   "outputs": [],
   "source": []
  },
  {
   "cell_type": "code",
   "execution_count": null,
   "id": "b134e125",
   "metadata": {},
   "outputs": [],
   "source": []
  },
  {
   "cell_type": "code",
   "execution_count": 4,
   "id": "f13805e0",
   "metadata": {},
   "outputs": [
    {
     "name": "stderr",
     "output_type": "stream",
     "text": [
      "WARNING: replacing module FourfitMetric.\n",
      "WARNING: could not import Main.fourfit_make_metric into Main\n",
      "WARNING: could not import Main.MetricData into Main\n",
      "WARNING: could not import Main.fourfit_make_matrix into Main\n",
      "WARNING: could not import Main.MatrixData into Main\n",
      "WARNING: could not import Main.compute_eigenvalues into Main\n"
     ]
    }
   ],
   "source": [
    "include(\"../src/DCON/fourfit.jl\")\n",
    "import .fourfit_make_metric, .MetricData, .fourfit_make_matrix, .MatrixData, .compute_eigenvalues"
   ]
  },
  {
   "cell_type": "markdown",
   "id": "9babbba7",
   "metadata": {},
   "source": [
    "### Calc. Matric"
   ]
  },
  {
   "cell_type": "code",
   "execution_count": 129,
   "id": "aa818cd1",
   "metadata": {},
   "outputs": [],
   "source": [
    "using Revise"
   ]
  },
  {
   "cell_type": "code",
   "execution_count": 136,
   "id": "7878c4b0",
   "metadata": {},
   "outputs": [
    {
     "name": "stderr",
     "output_type": "stream",
     "text": [
      "WARNING: replacing module FourfitMetric.\n",
      "WARNING: could not import Main.compute_eigenvalues into Main\n"
     ]
    }
   ],
   "source": [
    "include(\"../src/DCON/fourfit.jl\")\n",
    "import .fourfit_make_metric, .MetricData, .fourfit_make_matrix, .MatrixData, .compute_eigenvalues"
   ]
  },
  {
   "cell_type": "code",
   "execution_count": 138,
   "id": "8c512204",
   "metadata": {},
   "outputs": [
    {
     "name": "stdout",
     "output_type": "stream",
     "text": [
      "🚀 Fourfit Matrix Calculation\n",
      "========================================\n",
      "2️⃣  Calculating MHD Coefficient Matrix...\n",
      "🚀 Fourfit Matrix Calculation - Complete Implementation\n",
      "============================================================\n",
      "📊 Configuration:\n",
      "   Mode range: -4 to 4 (total: 9 modes)\n",
      "   Toroidal mode: n = 1\n",
      "   Psi surfaces: 0 to 128\n",
      "   Metric data size: (129, 88)\n",
      "\n",
      "1️⃣  Allocating matrix storage...\n",
      "   ✅ Matrix dimensions: 9 × 9\n",
      "   ✅ Hermitian storage size: 44\n",
      "   ✅ K-matrix storage size: 189\n",
      "\n",
      "2️⃣  Computing matrices on each flux surface...\n",
      "   Progress: 0.0% (ipsi = 0/128, ψ = 0.01)\n",
      "   Progress: 9.4% (ipsi = 12/128, ψ = 0.0311)\n",
      "   Progress: 18.8% (ipsi = 24/128, ψ = 0.0926)\n",
      "   Progress: 28.1% (ipsi = 36/128, ψ = 0.1891)\n",
      "   Progress: 37.5% (ipsi = 48/128, ψ = 0.3125)\n",
      "   Progress: 46.9% (ipsi = 60/128, ψ = 0.452)\n",
      "   Progress: 56.2% (ipsi = 72/128, ψ = 0.5956)\n",
      "   Progress: 65.6% (ipsi = 84/128, ψ = 0.731)\n",
      "   Progress: 75.0% (ipsi = 96/128, ψ = 0.8465)\n",
      "   Progress: 84.4% (ipsi = 108/128, ψ = 0.9321)\n",
      "   Progress: 93.8% (ipsi = 120/128, ψ = 0.9806)\n",
      "\n",
      "3️⃣  Setting power factors...\n",
      "\n",
      "4️⃣  Creating spline interpolators...\n",
      "   ✅ Spline interpolators created successfully\n",
      "\n",
      "5️⃣  Processing SAS mode...\n",
      "   ❌ SAS processing failed: MethodError(getindex, ((ComplexF64[1267.9511758311253 + 0.0im 781.8219401947784 + 0.010872870507432663im 303.9129261098692 + 0.004457859531417795im 57.47270599745727 + 1.5874875916168716e-5im 23.644106605857143 + 0.00024090162093240368im -6.2572230834070375 + 0.0007055622785557876im 3.4465632415722913 + 0.00016856820633988763im -3.04387131269166 - 0.0005262168773260617im 1.9001778918391987 + 0.001442705528476617im 781.8219401947784 - 0.010872870507432663im 908.9005722365265 + 0.0im 548.4762718690312 + 0.0075241797762065216im 234.82589561268458 + 0.0032098308786360844im 34.38368811048135 + 0.000558889409419343im 19.500755942231436 - 0.0001605567671060959im -6.767695580924216 + 0.0003166004248195296im 3.8347524406505427 + 9.309599718003593e-5im -2.901500653045717 - 0.0006959579424019048im 303.9129261098692 - 0.004457859531417795im 548.4762718690312 - 0.0075241797762065216im 620.0304779623604 + 0.0im 348.06695326536067 + 0.004707922748068144im 176.2307733220396 + 0.002151750344117053im 15.089260402355753 + 0.0009744671401613448im 16.09928199535752 - 0.000519499131795724im -7.177688254107721 + 3.841066072893321e-5im 4.13821783544556 + 9.75853108454923e-5im 57.47270599745727 - 1.5874875916168716e-5im 234.82589561268458 - 0.0032098308786360844im 348.06695326536067 - 0.004707922748068144im 401.34089300862684 + 0.0im 180.59398438376712 + 0.0024240994230175276im 128.12755923793426 + 0.0012836179278606999im -0.4105771269195424 + 0.0012626080681421743im 13.439684765235402 - 0.0008359254731364805im -7.487201102957555 - 0.0001290070137160016im 23.644106605857143 - 0.00024090162093240368im 34.38368811048135 - 0.000558889409419343im 176.2307733220396 - 0.002151750344117053im 180.59398438376712 - 0.0024240994230175276im 252.83181737532598 + 0.0im 46.057365224250454 + 0.0006727098010546737im 90.51625336036857 + 0.0006054336298670252im -12.115824477344532 + 0.0014233121933618317im 11.521964251865079 - 0.0011098357911283655im -6.2572230834070375 - 0.0007055622785557876im 19.500755942231436 + 0.0001605567671060959im 15.089260402355753 - 0.0009744671401613448im 128.12755923793426 - 0.0012836179278606999im 46.057365224250454 - 0.0006727098010546737im 174.50325106245785 + 0.0im -55.54290421318933 - 0.0005462461178204175im 63.39685568934252 + 0.0001171974501360291im -20.026481648919223 + 0.0014565795158203165im 3.4465632415722913 - 0.00016856820633988763im -6.767695580924216 - 0.0003166004248195296im 16.09928199535752 + 0.000519499131795724im -0.4105771269195424 - 0.0012626080681421743im 90.51625336036857 - 0.0006054336298670252im -55.54290421318933 + 0.0005462461178204175im 166.35519407002243 + 0.0im -124.20682392855228 - 0.0012327683336077464im 46.769366224856114 - 0.0001810906113322885im -3.04387131269166 + 0.0005262168773260617im 3.8347524406505427 - 9.309599718003593e-5im -7.177688254107721 - 3.841066072893321e-5im 13.439684765235402 + 0.0008359254731364805im -12.115824477344532 - 0.0014233121933618317im 63.39685568934252 - 0.0001171974501360291im -124.20682392855228 + 0.0012327683336077464im 228.38764639801974 + 0.0im -159.93439392183834 - 0.001386856846307313im 1.9001778918391987 - 0.001442705528476617im -2.901500653045717 + 0.0006959579424019048im 4.13821783544556 - 9.75853108454923e-5im -7.487201102957555 + 0.0001290070137160016im 11.521964251865079 + 0.0011098357911283655im -20.026481648919223 - 0.0014565795158203165im 46.769366224856114 + 0.0001810906113322885im -159.93439392183834 + 0.001386856846307313im 360.60060804644974 + 0.0im], ComplexF64[-1385.0559519535163 + 0.0im 1107.8323298387622 + 43.98935162494567im 2656.4817516261937 + 12.542664539808396im 1358.8996722193824 - 4.008917894804312im 510.9471841567554 - 10.624192211733057im 27.789257852206845 - 0.7912554570124687im 26.312504320765697 + 3.577560067545873im -41.67702316155595 - 8.642692620444354im 19.59748966295888 + 15.0965718066068im 1107.8323298387622 - 43.98935162494567im 229.11827703246672 + 0.0im 1463.3372330893471 + 32.00694762800675im 2244.2888269777723 + 6.63958210581197im 1051.4543070174177 + 1.9429448230938045im 394.8086053290449 - 11.014166165168113im -6.117541453203444 + 0.8755425166437558im 26.409716105324947 + 4.438398856296856im -37.15223548518486 - 9.775828055544956im 2656.4817516261937 - 12.542664539808396im 1463.3372330893471 - 32.00694762800675im 1341.6472264176991 + 0.0im 1623.542731061545 + 21.812598979111403im 1844.9081716450564 + 1.5879374536773807im 775.1586031687509 + 6.889650032892769im 295.18307799124113 - 11.359751099907278im -33.731271318848826 + 2.297821210466698im 26.80301893496579 + 5.171082151416999im 1358.8996722193824 + 4.008917894804312im 2244.2888269777723 - 6.63958210581197im 1623.542731061545 - 21.812598979111403im 1952.5308962038944 + 0.0im 1588.448823757828 + 13.406305678259658im 1458.3397856283518 - 2.6122694165953937im 530.0125606731955 + 10.831197734592585im 212.07060214348576 - 11.660947015950551im -55.051931744690364 + 3.475580624456359im 510.9471841567554 + 10.624192211733057im 1051.4543070174177 - 1.9429448230938045im 1844.9081716450564 - 1.5879374536773807im 1588.448823757828 - 13.406305678259658im 2061.7692863895427 + 0.0im 1358.0555111783297 + 6.7880677254515im 1084.5836689273965 - 5.961038505006352im 316.01617953089055 + 13.76758792819325im 145.4711777857584 - 11.917753913297929im 27.789257852206845 + 0.7912554570124687im 394.8086053290449 + 11.014166165168113im 775.1586031687509 - 6.889650032892769im 1458.3397856283518 + 2.6122694165953937im 1358.0555111783297 - 6.7880677254515im 1669.362396976352 + 0.0im 932.3627933226344 + 1.9578851206869328im 723.6398215425043 - 8.458369811555484im 133.16945974169698 + 15.698820613694762im 26.312504320765697 - 3.577560067545873im -6.117541453203444 - 0.8755425166437558im 295.18307799124113 + 11.359751099907278im 530.0125606731955 - 10.831197734592585im 1084.5836689273965 + 5.961038505006352im 932.3627933226344 - 1.9578851206869328im 775.310227963857 + 0.0im 311.3706701909141 - 1.0842421360340453im 375.5082434736155 - 10.104263336242793im -41.67702316155595 + 8.642692620444354im 26.409716105324947 - 4.438398856296856im -33.731271318848826 - 2.297821210466698im 212.07060214348576 + 11.660947015950551im 316.01617953089055 - 13.76758792819325im 723.6398215425043 + 8.458369811555484im 311.3706701909141 + 1.0842421360340453im -620.3872206479718 + 0.0im -504.92085821701767 - 2.3383140447114346im 19.59748966295888 - 15.0965718066068im -37.15223548518486 + 9.775828055544956im 26.80301893496579 - 5.171082151416999im -55.051931744690364 - 3.475580624456359im 145.4711777857584 + 11.917753913297929im 133.16945974169698 - 15.698820613694762im 375.5082434736155 + 10.104263336242793im -504.92085821701767 + 2.3383140447114346im -2517.729948857701 + 0.0im], ComplexF64[13119.708076603578 + 0.0im -2795.9670522122424 + 175125.84591705707im 8160.791912227396 + 41054.40326919632im 98070.74674379233 - 14539.26895142989im 13153.630796572972 - 43222.46523469223im 33105.31344279041 + 2543.437752787849im -59655.73046334534 + 11652.414700786447im 51165.746714405446 - 36028.65028321028im -43050.32102311092 + 61927.068650069814im -2795.9670522122424 - 175125.84591705707im 4984.411040304618 + 0.0im 3085.391473674091 + 127945.76853549424im 12060.663012464547 + 19015.372885904133im 73258.80202656233 + 10951.523797936412im -3661.420763707739 - 47466.31912533398im 41517.11302429932 + 8833.873448174256im -57499.43817794241 + 15933.59431007246im 59820.54898983275 - 39682.569254084105im 8160.791912227396 - 41054.40326919632im 3085.391473674091 - 127945.76853549424im 58.41978438646244 + 0.0im 8820.497093530083 + 87744.47195390124im 14690.772732858484 + 98.01738109574674im 52418.65466326958 + 32239.164044207624im -18292.11839089079 - 50939.900470802335im 49277.28422310196 + 13968.192006557914im -56881.773818341746 + 19554.220031648987im 98070.74674379233 + 14539.26895142989im 12060.663012464547 - 19015.372885904133im 8820.497093530083 - 87744.47195390124im -1658.2657031282365 + 0.0im 14409.349832616934 + 54521.95617227843im 16051.121091922176 - 15697.663245229054im 35550.3046529311 + 49323.65178738395im -30738.462086133248 - 53643.20927109719im 56385.827039534226 + 17946.39342793881im 13153.630796572972 + 43222.46523469223im 73258.80202656233 - 10951.523797936412im 14690.772732858484 - 98.01738109574674im 14409.349832616934 - 54521.95617227843im -165.64542783219392 + 0.0im 19851.949696844746 + 28278.22119062594im 16141.708081323555 - 28371.668993070314im 22653.751996767132 + 62204.987027465024im -41000.45184811627 - 55576.24552621845im 33105.31344279041 - 2543.437752787849im -3661.420763707739 + 47466.31912533398im 52418.65466326958 - 32239.164044207624im 16051.121091922176 + 15697.663245229054im 19851.949696844746 - 28278.22119062594im 4536.280626458029 + 0.0im 25148.296679982952 + 9013.267008943616im 14962.533704723306 - 37923.99986242784im 13728.996694184501 + 70883.16976445117im -59655.73046334534 - 11652.414700786447im 41517.11302429932 - 8833.873448174256im -18292.11839089079 + 50939.900470802335im 35550.3046529311 - 49323.65178738395im 16141.708081323555 + 28371.668993070314im 25148.296679982952 - 9013.267008943616im 12447.512445204453 + 0.0im 30298.39078531015 - 3272.906372768545im 12513.5979640057 - 44354.65585330163im 51165.746714405446 + 36028.65028321028im -57499.43817794241 - 15933.59431007246im 49277.28422310196 - 13968.192006557914im -30738.462086133248 + 53643.20927109719im 22653.751996767132 - 62204.987027465024im 14962.533704723306 + 37923.99986242784im 30298.39078531015 + 3272.906372768545im 23568.05003766356 + 0.0im 35302.232005994905 - 8580.2989545105im -43050.32102311092 - 61927.068650069814im 59820.54898983275 + 39682.569254084105im -56881.773818341746 - 19554.220031648987im 56385.827039534226 - 17946.39342793881im -41000.45184811627 + 55576.24552621845im 13728.996694184501 - 70883.16976445117im 12513.5979640057 + 44354.65585330163im 35302.232005994905 + 8580.2989545105im 37897.89341987089 + 0.0im], ComplexF64[-1.3662073425784148e7 + 0.0im 7.108842611720864e6 + 2.0555229901838653e7im 1.4511806807221688e7 + 2.4415204038608663e7im 4.350623734922183e6 - 1.9631615318466201e6im 2.7140441559859877e6 + 1.2685403132632915e7im -615329.1444636206 - 1.1959406073476572e7im 2.158553828805509e6 + 4.701720056704914e6im -3.704498628567278e6 - 5.6468644505245425e6im 2.3498971632520286e6 + 6.026063053768306e6im 7.108842611720864e6 - 2.0555229901838653e7im -26896.234692933584 + 0.0im 1.0084730377399981e7 + 1.24142986768221e7im 1.2609597760525294e7 + 2.155405709423238e7im 4.442079185591024e6 - 6.421341606709112e6im 2.0736517836143817e6 + 1.3695587117299872e7im -1.1490571213430949e6 - 1.1864108543673117e7im 1.8272276022985633e6 + 5.241647773644409e6im -2.3776484812743813e6 - 4.234815503977863e6im 1.4511806807221688e7 - 2.4415204038608663e7im 1.0084730377399981e7 - 1.24142986768221e7im 9.51997637330551e6 + 0.0im 1.1489396968097707e7 + 5.455513229148326e6im 1.0811786136313038e7 + 1.9225396553367812e7im 4.219381568843318e6 - 1.0028137617760025e7im 1.5860895832109076e6 + 1.404012924518531e7im -1.503362546569686e6 - 1.1487212086850028e7im 1.2607383130311668e6 + 5.61959725119237e6im 4.350623734922183e6 + 1.9631615318466201e6im 1.2609597760525294e7 - 2.155405709423238e7im 1.1489396968097707e7 - 5.455513229148326e6im 1.4978544213823512e7 + 0.0im 1.1322842534982288e7 - 321126.44118332193im 9.118372094439076e6 + 1.742922241601463e7im 3.682530882716383e6 - 1.2783549564998377e7im 1.2513575387191598e6 + 1.3719029516291192e7im -1.6782454190726622e6 - 1.0828716703007592e7im 2.7140441559859877e6 - 1.2685403132632915e7im 4.442079185591024e6 + 6.421341606709112e6im 1.0811786136313038e7 - 1.9225396553367812e7im 1.1322842534982288e7 + 321126.44118332193im 1.63488073230454e7 + 0.0im 9.585067121232716e6 - 4.915620334166319e6im 7.529355563996311e6 + 1.6165534682171855e7im 2.831527132847708e6 - 1.468757744842678e7im 1.069455662604254e6 + 1.2732287930618817e7im -615329.1444636206 + 1.1959406073476572e7im 2.0736517836143817e6 - 1.3695587117299872e7im 4.219381568843318e6 + 1.0028137617760025e7im 9.118372094439076e6 - 1.742922241601463e7im 9.585067121232716e6 + 4.915620334166319e6im 1.3630765772379383e7 + 0.0im 6.276070688347026e6 - 8.327968449806374e6im 6.044736572629327e6 + 1.5434333351840794e7im 1.6663703198323627e6 - 1.5740221268041644e7im 2.158553828805509e6 - 4.701720056704914e6im -1.1490571213430949e6 + 1.1864108543673117e7im 1.5860895832109076e6 - 1.404012924518531e7im 3.682530882716383e6 + 1.2783549564998377e7im 7.529355563996311e6 - 1.6165534682171855e7im 6.276070688347026e6 + 8.327968449806374e6im 6.824419447071221e6 + 0.0im 1.3958532556805992e6 - 1.0558170788101692e7im 4.664515135538463e6 + 1.5235618425021771e7im -3.704498628567278e6 + 5.6468644505245425e6im 1.8272276022985633e6 - 5.241647773644409e6im -1.503362546569686e6 + 1.1487212086850028e7im 1.2513575387191598e6 - 1.3719029516291192e7im 2.831527132847708e6 + 1.468757744842678e7im 6.044736572629327e6 - 1.5434333351840794e7im 1.3958532556805992e6 + 1.0558170788101692e7im -4.070231562512212e6 + 0.0im -5.05558523788113e6 - 1.1606227349052275e7im 2.3498971632520286e6 - 6.026063053768306e6im -2.3776484812743813e6 + 4.234815503977863e6im 1.2607383130311668e6 - 5.61959725119237e6im -1.6782454190726622e6 + 1.0828716703007592e7im 1.069455662604254e6 - 1.2732287930618817e7im 1.6663703198323627e6 + 1.5740221268041644e7im 4.664515135538463e6 - 1.5235618425021771e7im -5.05558523788113e6 + 1.1606227349052275e7im -1.905318716617108e7 + 0.0im]), 1, Colon()), 0x0000000000006b11)\n",
      "\n",
      "6️⃣  Creating final result structure...\n",
      "\n",
      "🎉 FOURFIT MAKE MATRIX COMPLETED SUCCESSFULLY!\n",
      "   📊 Matrix storage sizes:\n",
      "      F-matrix: (129, 44)\n",
      "      G-matrix: (129, 44)\n",
      "      K-matrix: (129, 189)\n",
      "   🔧 Spline interpolators: ✅\n",
      "   🎯 Ready for eigenvalue analysis!\n",
      "3️⃣  Analyzing Results:\n",
      "   Matrix storage sizes:\n",
      "      F-matrix: (129, 44)\n",
      "      G-matrix: (129, 44)\n",
      "      K-matrix: (129, 189)\n",
      "   Mode range: -4 to 4\n",
      "   Number of modes: 9\n",
      "✅ Matrix calculation completed successfully!\n"
     ]
    }
   ],
   "source": [
    "# Fourfit Matrix Calculation - Complete Example\n",
    "println(\"🚀 Fourfit Matrix Calculation\")\n",
    "println(\"=\"^40)\n",
    "\n",
    "using .FourfitMetric\n",
    "matrix_result = nothing\n",
    "try\n",
    "    # Step 1: Matrix calculation with correct arguments\n",
    "    println(\"2️⃣  Calculating MHD Coefficient Matrix...\")\n",
    "    \n",
    "    matrix_result = FourfitMetric.fourfit_make_matrix(\n",
    "        metric_result,       # metric tensor data\n",
    "        plasma_eq.sq,        # 1D profile spline\n",
    "        plasma_eq.rzphi,     # 2D geometry spline\n",
    "        1.367;               # psio (toroidal flux normalization)\n",
    "        nn=1,                # toroidal mode number\n",
    "        mlow=-4,             # minimum poloidal mode\n",
    "        mhigh=4,             # maximum poloidal mode\n",
    "        power_flag=false,\n",
    "        feval_flag=false,\n",
    "        sas_flag=true,\n",
    "        verbose=true\n",
    "    )\n",
    "    \n",
    "    # Step 2: Analyze results\n",
    "    println(\"3️⃣  Analyzing Results:\")\n",
    "    println(\"   Matrix storage sizes:\")\n",
    "    println(\"      F-matrix: $(size(matrix_result.fmats))\")\n",
    "    println(\"      G-matrix: $(size(matrix_result.gmats))\")\n",
    "    println(\"      K-matrix: $(size(matrix_result.kmats))\")\n",
    "    println(\"   Mode range: $(matrix_result.mlow) to $(matrix_result.mhigh)\")\n",
    "    println(\"   Number of modes: $(matrix_result.mpert)\")\n",
    "    \n",
    "    println(\"✅ Matrix calculation completed successfully!\")\n",
    "    \n",
    "catch e\n",
    "    println(\"❌ Error occurred: $e\")\n",
    "    println(\"🔍 Error type: $(typeof(e))\")\n",
    "end"
   ]
  },
  {
   "cell_type": "code",
   "execution_count": 140,
   "id": "c3aa2f1d",
   "metadata": {},
   "outputs": [
    {
     "data": {
      "text/plain": [
       "81-element Vector{ComplexF64}:\n",
       "  1267.9511758311253 + 0.0im\n",
       "   781.8219401947784 + 0.010872870507432663im\n",
       "   303.9129261098692 + 0.004457859531417795im\n",
       "   57.47270599745727 + 1.5874875916168716e-5im\n",
       "  23.644106605857143 + 0.00024090162093240368im\n",
       " -6.2572230834070375 + 0.0007055622785557876im\n",
       "  3.4465632415722913 + 0.00016856820633988763im\n",
       "   -3.04387131269166 - 0.0005262168773260617im\n",
       "  1.9001778918391987 + 0.001442705528476617im\n",
       "   781.8219401947784 - 0.010872870507432663im\n",
       "                     ⋮\n",
       "  1.9001778918391987 - 0.001442705528476617im\n",
       "  -2.901500653045717 + 0.0006959579424019048im\n",
       "    4.13821783544556 - 9.75853108454923e-5im\n",
       "  -7.487201102957555 + 0.0001290070137160016im\n",
       "  11.521964251865079 + 0.0011098357911283655im\n",
       " -20.026481648919223 - 0.0014565795158203165im\n",
       "  46.769366224856114 + 0.0001810906113322885im\n",
       " -159.93439392183834 + 0.001386856846307313im\n",
       "  360.60060804644974 + 0.0im"
      ]
     },
     "metadata": {},
     "output_type": "display_data"
    }
   ],
   "source": [
    "matrix_result.amats[129,:]"
   ]
  },
  {
   "cell_type": "code",
   "execution_count": null,
   "id": "d4933ef5",
   "metadata": {},
   "outputs": [
    {
     "name": "stderr",
     "output_type": "stream",
     "text": [
      "WARNING: redefinition of constant Main._COLS. This may fail, cause incorrect answers, or produce other errors.\n"
     ]
    },
    {
     "data": {
      "text/plain": [
       "get_matrices"
      ]
     },
     "metadata": {},
     "output_type": "display_data"
    }
   ],
   "source": []
  },
  {
   "cell_type": "code",
   "execution_count": 84,
   "id": "1dd69a45",
   "metadata": {},
   "outputs": [
    {
     "data": {
      "text/plain": [
       "11×11 Matrix{ComplexF64}:\n",
       "  1697.18+0.0im            1048.1-0.014754im     …   0.84371-0.000365171im\n",
       "   1048.1+0.014754im      1267.95+0.0im             -1.21073+0.0016493im\n",
       "  383.492+0.00589584im    781.822+0.0108729im        1.97362-0.00153887im\n",
       "  84.3563-0.000654576im   303.913+0.00445786im      -2.79399+0.000908706im\n",
       "  28.5293+0.000684876im   57.4727+1.58749e-5im       4.35696-0.000182036im\n",
       " -5.64627+0.0012053im     23.6441+0.000240902im  …  -7.69623+0.000185653im\n",
       "  2.97365+0.000324002im  -6.25722+0.000705562im      10.3461+0.00134123im\n",
       "  -3.2211-0.000399483im   3.44656+0.000168568im     -24.1425-0.00136241im\n",
       "  1.80623+0.00131177im   -3.04387-0.000526217im      40.6338+0.000289431im\n",
       " -1.21483-0.0014717im     1.90018+0.00144271im      -162.726+0.00100851im\n",
       "  0.84371+0.000365171im  -1.21073-0.0016493im    …   562.994+0.0im"
      ]
     },
     "metadata": {},
     "output_type": "display_data"
    }
   ],
   "source": [
    "amat"
   ]
  },
  {
   "cell_type": "code",
   "execution_count": 86,
   "id": "3283fe40",
   "metadata": {},
   "outputs": [
    {
     "data": {
      "text/plain": [
       "ImatsReader(nψ=129, mpert=9, path=\"imats.xlsx\")"
      ]
     },
     "metadata": {},
     "output_type": "display_data"
    }
   ],
   "source": [
    "reader = ImatsReader(\"/Users/seoda-eun/Downloads/imats.xlsx\")\n"
   ]
  },
  {
   "cell_type": "code",
   "execution_count": 114,
   "id": "cb25f493",
   "metadata": {},
   "outputs": [
    {
     "data": {
      "text/plain": [
       "9×9 Matrix{ComplexF64}:\n",
       "  -0.118945-0.0422004im   …   0.00184771+0.00154368im\n",
       "   0.110639-0.00936398im     -0.00199582-0.0024498im\n",
       "   -0.19425+1.02247im         0.00453243+0.00651789im\n",
       "   0.200172-0.634382im        0.00391739+0.00632055im\n",
       "  -0.238284+0.319389im        -0.0187432-0.0266332im\n",
       "   0.113082-0.200648im    …    0.0451592+0.132577im\n",
       " -0.0208233+0.0476807im       -0.0680512-0.377339im\n",
       " -0.0760364+0.163342im          0.149316+0.0131044im\n",
       "    1.06312+0.383654im         -0.132691-0.000533044im"
      ]
     },
     "metadata": {},
     "output_type": "display_data"
    }
   ],
   "source": [
    "emat./reader.E[129,:,:]"
   ]
  },
  {
   "cell_type": "code",
   "execution_count": 103,
   "id": "4acee0cb",
   "metadata": {},
   "outputs": [
    {
     "data": {
      "text/plain": [
       "9×9 Matrix{ComplexF64}:\n",
       "          0.0+444.795im  -0.00289458+221.132im  …    0.0219038-2.62937im\n",
       " -0.000947784+221.132im          0.0+326.355im      -0.0185437+3.97792im\n",
       "   -0.0224506-62.6758im   0.00289458+221.132im       0.0368239-5.68721im\n",
       "   0.00211571+28.051im    -0.0192685-62.6773im      -0.0323863+10.2128im\n",
       "     -0.00725-15.5791im  0.000835468+28.0522im      0.00779263-15.5317im\n",
       "    0.0285525+10.2662im  -0.00731782-15.5732im  …   0.00812624+28.0606im\n",
       "   -0.0236906-5.68057im    0.0290317+10.2595im     -0.00300596-62.6879im\n",
       "    0.0326906+3.97923im   -0.0253323-5.6814im       -0.0297911+221.131im\n",
       "  -0.00819469-2.63033im    0.0309223+3.97907im             0.0-502.726im"
      ]
     },
     "metadata": {},
     "output_type": "display_data"
    }
   ],
   "source": [
    "reader.B[129,:,:]"
   ]
  },
  {
   "cell_type": "code",
   "execution_count": 50,
   "id": "54a8ecbe",
   "metadata": {},
   "outputs": [],
   "source": [
    "using FFTW"
   ]
  },
  {
   "cell_type": "markdown",
   "id": "2467b56d",
   "metadata": {},
   "source": [
    "### Redaing imats(original DCON output)"
   ]
  },
  {
   "cell_type": "code",
   "execution_count": 144,
   "id": "379e60e0",
   "metadata": {},
   "outputs": [
    {
     "name": "stderr",
     "output_type": "stream",
     "text": [
      "WARNING: redefinition of constant Main._COLS. This may fail, cause incorrect answers, or produce other errors.\n"
     ]
    },
    {
     "data": {
      "text/plain": [
       "get_matrices"
      ]
     },
     "metadata": {},
     "output_type": "display_data"
    }
   ],
   "source": [
    "# ────────────────────────────────────────────────────────────────\n",
    "# Internal constants - Excel column positions (1-based)\n",
    "const _COLS = Dict(\n",
    "    :A => (4, 5),\n",
    "    :B => (6, 7),\n",
    "    :C => (8, 9),\n",
    "    :D => (10, 11),\n",
    "    :E => (12, 13),\n",
    "    :H => (14, 15),\n",
    ")\n",
    "# ────────────────────────────────────────────────────────────────\n",
    "mutable struct ImatsReader\n",
    "    path      :: String\n",
    "    psi       :: Vector{Float64}\n",
    "    m_values  :: Vector{Int}\n",
    "    npsi      :: Int\n",
    "    mpert     :: Int\n",
    "    A         :: Array{ComplexF64,3}\n",
    "    B         :: Array{ComplexF64,3}\n",
    "    C         :: Array{ComplexF64,3}\n",
    "    D         :: Array{ComplexF64,3}\n",
    "    E         :: Array{ComplexF64,3}\n",
    "    H         :: Array{ComplexF64,3}\n",
    "end\n",
    "\n",
    "function ImatsReader(path::AbstractString)\n",
    "    isfile(path) || throw(ArgumentError(\"File not found: $path\"))\n",
    "    # Temporary storage for variables\n",
    "    temp_storage = []\n",
    "    # 1) Open Excel file and read all data rows temporarily\n",
    "    XLSX.openxlsx(path) do xf\n",
    "        sheet = xf[1]\n",
    "        # Use XLSX.eachtablerow to iterate through rows\n",
    "        for row in XLSX.eachtablerow(sheet)\n",
    "            # Skip if first column value is not a number (header or empty row)\n",
    "            ψ = row[1]\n",
    "            isa(ψ, Number) || continue\n",
    "            # Read mi, mj and other values from the row\n",
    "            mi = Int(row[2])\n",
    "            mj = Int(row[3])\n",
    "            # Store entire row data (columns containing real/imaginary parts of A~H)\n",
    "            # Read data up to 15th column\n",
    "            row_data = [row[c] for c in 1:15]\n",
    "            push!(temp_storage, (ψ, mi, mj, row_data))\n",
    "        end\n",
    "    end # End of XLSX.openxlsx do block\n",
    "    isempty(temp_storage) && error(\"No numeric data rows found in $path\")\n",
    "    \n",
    "    # 2) Organize ψ / m lists\n",
    "    psi_vals = sort(unique(getindex.(temp_storage, 1)))\n",
    "    m_vals_all = vcat(getindex.(temp_storage, 2), getindex.(temp_storage, 3))\n",
    "    m_vals   = sort(unique(m_vals_all))\n",
    "    nψ       = length(psi_vals)\n",
    "    mpert    = length(m_vals)\n",
    "    \n",
    "    # Create dictionaries for value -> index conversion\n",
    "    ψidx = Dict(v => i for (i, v) in enumerate(psi_vals))\n",
    "    midx = Dict(v => i for (i, v) in enumerate(m_vals))\n",
    "    \n",
    "    # 3) Initialize empty arrays to store final matrices\n",
    "    shp = (nψ, mpert, mpert)\n",
    "    mats = Dict(name => zeros(ComplexF64, shp) for name in keys(_COLS))\n",
    "    \n",
    "    # 4) Fill arrays with temporarily stored data\n",
    "    for (ψ, mi, mj, row_cells) in temp_storage\n",
    "        k = ψidx[ψ]\n",
    "        i = midx[mi]\n",
    "        j = midx[mj]\n",
    "        for (name, (recol, imcol)) in _COLS\n",
    "            # row_cells has 1-based indexing\n",
    "            real_val = row_cells[recol]\n",
    "            imag_val = row_cells[imcol]\n",
    "            # Handle empty cells (nothing) or non-numeric values as 0.0\n",
    "            re = isa(real_val, Number) ? Float64(real_val) : 0.0\n",
    "            im = isa(imag_val, Number) ? Float64(imag_val) : 0.0\n",
    "            mats[name][k, i, j] = ComplexF64(re, im)\n",
    "        end\n",
    "    end\n",
    "    \n",
    "    # Create and return final object\n",
    "    return ImatsReader(String(path), psi_vals, m_vals, nψ, mpert,\n",
    "               mats[:A], mats[:B], mats[:C], mats[:D], mats[:E], mats[:H])\n",
    "end\n",
    "\n",
    "# ────────────────────────────────────────────────────────────────\n",
    "# Internal: ψ index interpretation\n",
    "function _ψindex(r::ImatsReader; ψ_index::Union{Nothing,Int}=nothing,\n",
    "                                   ψ_value::Union{Nothing,Real}=nothing)\n",
    "    ψ_index !== nothing && return ψ_index\n",
    "    ψ_value !== nothing || error(\"Either ψ_index or ψ_value must be specified\")\n",
    "    return argmin(abs.(r.psi .- ψ_value))\n",
    "end\n",
    "\n",
    "# ────────────────────────────────────────────────────────────────\n",
    "\"Return single matrix: name ∈ (:A,:B,:C,:D,:E,:H)\"\n",
    "function get_matrix(r::ImatsReader, name::Symbol;\n",
    "                    ψ_index::Union{Nothing,Int}=nothing,\n",
    "                    ψ_value::Union{Nothing,Real}=nothing)\n",
    "    name = Symbol(uppercase(String(name)))\n",
    "    hasproperty(r, name) || error(\"unknown matrix $name\")\n",
    "    k = _ψindex(r; ψ_index, ψ_value)\n",
    "    return getfield(r, name)[k, :, :]\n",
    "end\n",
    "\n",
    "\"Return one ψ cross-section (6 matrices) as Dict\"\n",
    "function get_matrices(r::ImatsReader; ψ_index::Union{Nothing,Int}=nothing,\n",
    "                                         ψ_value::Union{Nothing,Real}=nothing)\n",
    "    k = _ψindex(r; ψ_index, ψ_value)\n",
    "    return Dict(name => getfield(r, name)[k, :, :] for name in (:A,:B,:C,:D,:E,:H))\n",
    "end"
   ]
  },
  {
   "cell_type": "code",
   "execution_count": 146,
   "id": "ba45d674",
   "metadata": {},
   "outputs": [
    {
     "data": {
      "text/plain": [
       "ImatsReader(nψ=129, mpert=9, path=\"imats.xlsx\")"
      ]
     },
     "metadata": {},
     "output_type": "display_data"
    }
   ],
   "source": [
    "read=ImatsReader(\"/Users/seoda-eun/Downloads/imats.xlsx\")"
   ]
  },
  {
   "cell_type": "code",
   "execution_count": 147,
   "id": "31b0cd78",
   "metadata": {},
   "outputs": [
    {
     "data": {
      "text/plain": [
       "9×9 Matrix{ComplexF64}:\n",
       "   1267.5+0.0im          782.052+0.0595154im  …   1.91602+0.00606395im\n",
       "  782.052-0.0595154im    908.889+0.0im           -2.92174-0.0226763im\n",
       "  304.578-0.0522503im    548.816-0.0442843im      4.13194+0.0194073im\n",
       "  57.8667-0.0157114im    235.391-0.0418065im     -7.47055-0.0216927im\n",
       "  23.7925-0.0309502im    34.6922-0.0110717im      11.5202+0.00579372im\n",
       " -6.25002+0.00870424im   19.6032-0.0223199im  …  -19.9741+0.00320115im\n",
       "  3.43404-0.00853435im  -6.75865+0.0139202im      46.8702+0.00275821im\n",
       " -3.06309+0.024506im     3.82547-0.0143416im     -160.067-0.018649im\n",
       "  1.91602-0.00606395im  -2.92174+0.0226763im      359.946+0.0im"
      ]
     },
     "metadata": {},
     "output_type": "display_data"
    }
   ],
   "source": [
    "read.A[end,:,:]"
   ]
  },
  {
   "cell_type": "code",
   "execution_count": null,
   "id": "4ee5faa3",
   "metadata": {},
   "outputs": [
    {
     "data": {
      "text/plain": [
       "9×9 Matrix{ComplexF64}:\n",
       "  1.00036+0.0im          0.999706-8.99822e-5im   …  0.991719-0.00389162im\n",
       " 0.999706+8.99822e-5im    1.00001+0.0im             0.993011-0.0079452im\n",
       " 0.997816+0.000185811im  0.999381+9.43505e-5im        1.0015-0.00472755im\n",
       " 0.993191+0.000269936im  0.997599+0.000190814im      1.00222-0.00292748im\n",
       " 0.993759+0.00130284im   0.991106+0.000332411im      1.00016-0.00040666im\n",
       "  1.00115+0.00128139im   0.994771+0.00112444im   …   1.00262+0.000233608im\n",
       "  1.00364+0.00254335im    1.00133+0.00201552im      0.997848-5.48575e-5im\n",
       " 0.993661+0.00812152im    1.00241+0.00378235im      0.999171-0.000125075im\n",
       " 0.991719+0.00389162im   0.993011+0.0079452im        1.00182+0.0im"
      ]
     },
     "metadata": {},
     "output_type": "display_data"
    }
   ],
   "source": [
    "reshape(matrix_result.amats[129, :], 9, 9)./read.A[end,:,:]"
   ]
  }
 ],
 "metadata": {
  "kernelspec": {
   "display_name": "Julia 1.11.6",
   "language": "julia",
   "name": "julia-1.11"
  },
  "language_info": {
   "file_extension": ".jl",
   "mimetype": "application/julia",
   "name": "julia",
   "version": "1.11.6"
  }
 },
 "nbformat": 4,
 "nbformat_minor": 5
}
