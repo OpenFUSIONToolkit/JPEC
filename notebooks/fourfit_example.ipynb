{
 "cells": [
  {
   "cell_type": "code",
   "execution_count": null,
   "id": "56af0346",
   "metadata": {},
   "outputs": [],
   "source": [
    "using Pkg\n",
    "using Revise\n",
    "Pkg.activate(\"..\") \n",
    "Pkg.instantiate()\n",
    "using JPEC, Plots\n",
    "gr() "
   ]
  },
  {
   "cell_type": "code",
   "execution_count": null,
   "id": "2601740e",
   "metadata": {},
   "outputs": [],
   "source": [
    "using Revise\n",
    "include(\"../src/DCON/fourfit.jl\")\n",
    "import .fourfit_make_metric, .MetricData, .fourfit_make_matrix, .MatrixData, .compute_eigenvalues"
   ]
  },
  {
   "cell_type": "markdown",
   "id": "6e46cb63",
   "metadata": {},
   "source": [
    "### Reading Eq"
   ]
  },
  {
   "cell_type": "code",
   "execution_count": null,
   "id": "2ca7c929",
   "metadata": {},
   "outputs": [],
   "source": [
    "# 1. Define the input parameters for the equilibrium solver.\n",
    "#    - eq_filename: The name of the g-file we just created.\n",
    "#    - eq_type: \"efit\" for a standard g-file.\n",
    "#    - jac_type: \"boozer\" or \"hamada\" for the output coordinates.\n",
    "#    - mpsi, mtheta: Resolution of the output grid.\n",
    "    equil_control = JPEC.Equilibrium.EquilibriumControl(;\n",
    "    eq_filename=\"beta_1.00\",        # eq_filename\n",
    "    eq_type=\"efit\",          # eq_type\n",
    "    jac_type=\"hamada\",        # jac_type\n",
    "    grid_type=\"ldp\",\n",
    "    psilow=0.01,             # psilow\n",
    "    psihigh=0.990)             # psihigh\n",
    "equil_config = JPEC.Equilibrium.EquilibriumConfig(equil_control,JPEC.Equilibrium.EquilibriumOutput())\n",
    "# 2. Run the main equilibrium setup function.\n",
    "#    This will read the file, solve the direct problem, and return the final object.\n",
    "println(\"Starting equilibrium reconstruction...\")\n",
    "plasma_eq = JPEC.Equilibrium.setup_equilibrium(equil_config)\n",
    "#plasma_eq = JPEC.Equilibrium.setup_equilibrium(\"./DIIID_example/equil.toml\")\n",
    "println(\"Equilibrium reconstruction complete.\")"
   ]
  },
  {
   "cell_type": "code",
   "execution_count": null,
   "id": "8e5b9940",
   "metadata": {},
   "outputs": [],
   "source": [
    "fieldnames(typeof(plasma_eq.rzphi))"
   ]
  },
  {
   "cell_type": "markdown",
   "id": "007037bb",
   "metadata": {},
   "source": [
    "### CAlc. Metric"
   ]
  },
  {
   "cell_type": "code",
   "execution_count": null,
   "id": "bc5cb76b",
   "metadata": {},
   "outputs": [],
   "source": [
    "include(\"../src/DCON/fourfit.jl\")\n",
    "import .fourfit_make_metric, .MetricData, .fourfit_make_matrix, .MatrixData, .compute_eigenvalues"
   ]
  },
  {
   "cell_type": "code",
   "execution_count": null,
   "id": "eb9cb69b",
   "metadata": {},
   "outputs": [],
   "source": [
    "# Fourfit Metric Calculation Example\n",
    "println(\"📚 Fourfit Metric Calculation\")\n",
    "println(\"=\"^30)\n",
    "\n",
    "using .FourfitMetric\n",
    "metric_result = nothing\n",
    "try\n",
    "    # Metric tensor calculation\n",
    "    metric_result = FourfitMetric.fourfit_make_metric(\n",
    "        plasma_eq.rzphi,  # 2D geometry spline\n",
    "        plasma_eq.sq;     # 1D profile spline\n",
    "        mpsi=128,          # Radial grid points\n",
    "        mtheta=256,        # Poloidal grid points  \n",
    "        mband=10,          # Fourier bandwidth\n",
    "        fft_flag=true,    # Use FFT\n",
    "        verbose=true      # Detailed output\n",
    "    )\n",
    "    \n",
    "    println(\"✅ Metric calculation complete!\")\n",
    "    println(\"   Grid size: $(size(metric_result.fs))\")\n",
    " \n",
    "catch e\n",
    "    println(\"❌Error: $e\")\n",
    "end"
   ]
  },
  {
   "cell_type": "code",
   "execution_count": null,
   "id": "f13805e0",
   "metadata": {},
   "outputs": [],
   "source": [
    "include(\"../src/DCON/fourfit.jl\")\n",
    "import .fourfit_make_metric, .MetricData, .fourfit_make_matrix, .MatrixData, .compute_eigenvalues"
   ]
  },
  {
   "cell_type": "markdown",
   "id": "9babbba7",
   "metadata": {},
   "source": [
    "### Calc. Matric"
   ]
  },
  {
   "cell_type": "code",
   "execution_count": null,
   "id": "aa818cd1",
   "metadata": {},
   "outputs": [],
   "source": [
    "using Revise"
   ]
  },
  {
   "cell_type": "code",
   "execution_count": null,
   "id": "7878c4b0",
   "metadata": {},
   "outputs": [],
   "source": [
    "include(\"../src/DCON/fourfit.jl\")\n",
    "import .fourfit_make_metric, .MetricData, .fourfit_make_matrix, .MatrixData, .compute_eigenvalues"
   ]
  },
  {
   "cell_type": "code",
   "execution_count": null,
   "id": "8c512204",
   "metadata": {},
   "outputs": [],
   "source": [
    "# Fourfit Matrix Calculation - Complete Example\n",
    "println(\"🚀 Fourfit Matrix Calculation\")\n",
    "println(\"=\"^40)\n",
    "\n",
    "using .FourfitMetric\n",
    "matrix_result = nothing\n",
    "try\n",
    "    # Step 1: Matrix calculation with correct arguments\n",
    "    println(\"2️⃣  Calculating MHD Coefficient Matrix...\")\n",
    "    \n",
    "    matrix_result = FourfitMetric.fourfit_make_matrix(\n",
    "        metric_result,       # metric tensor data\n",
    "        plasma_eq.sq,        # 1D profile spline\n",
    "        plasma_eq.rzphi,     # 2D geometry spline\n",
    "        1.367;               # psio (toroidal flux normalization)\n",
    "        nn=1,                # toroidal mode number\n",
    "        mlow=-4,             # minimum poloidal mode\n",
    "        mhigh=4,             # maximum poloidal mode\n",
    "        power_flag=false,\n",
    "        feval_flag=false,\n",
    "        sas_flag=true,\n",
    "        verbose=true\n",
    "    )\n",
    "    \n",
    "    # Step 2: Analyze results\n",
    "    println(\"3️⃣  Analyzing Results:\")\n",
    "    println(\"   Matrix storage sizes:\")\n",
    "    println(\"      F-matrix: $(size(matrix_result.fmats))\")\n",
    "    println(\"      G-matrix: $(size(matrix_result.gmats))\")\n",
    "    println(\"      K-matrix: $(size(matrix_result.kmats))\")\n",
    "    println(\"   Mode range: $(matrix_result.mlow) to $(matrix_result.mhigh)\")\n",
    "    println(\"   Number of modes: $(matrix_result.mpert)\")\n",
    "    \n",
    "    println(\"✅ Matrix calculation completed successfully!\")\n",
    "    \n",
    "catch e\n",
    "    println(\"❌ Error occurred: $e\")\n",
    "    println(\"🔍 Error type: $(typeof(e))\")\n",
    "end"
   ]
  },
  {
   "cell_type": "markdown",
   "id": "2467b56d",
   "metadata": {},
   "source": [
    "### Redaing imats(original DCON output)"
   ]
  },
  {
   "cell_type": "code",
   "execution_count": null,
   "id": "ded4fde3",
   "metadata": {},
   "outputs": [],
   "source": [
    "using XLSX"
   ]
  },
  {
   "cell_type": "code",
   "execution_count": null,
   "id": "29d5768d",
   "metadata": {},
   "outputs": [],
   "source": [
    "# ────────────────────────────────────────────────────────────────\n",
    "# Internal constants - Excel column positions (1-based)\n",
    "const _COLS = Dict(\n",
    "    :A => (4, 5),\n",
    "    :B => (6, 7),\n",
    "    :C => (8, 9),\n",
    "    :D => (10, 11),\n",
    "    :E => (12, 13),\n",
    "    :H => (14, 15),\n",
    ")\n",
    "# ────────────────────────────────────────────────────────────────\n",
    "mutable struct ImatsReader\n",
    "    path      :: String\n",
    "    psi       :: Vector{Float64}\n",
    "    m_values  :: Vector{Int}\n",
    "    npsi      :: Int\n",
    "    mpert     :: Int\n",
    "    A         :: Array{ComplexF64,3}\n",
    "    B         :: Array{ComplexF64,3}\n",
    "    C         :: Array{ComplexF64,3}\n",
    "    D         :: Array{ComplexF64,3}\n",
    "    E         :: Array{ComplexF64,3}\n",
    "    H         :: Array{ComplexF64,3}\n",
    "end\n",
    "\n",
    "function ImatsReader(path::AbstractString)\n",
    "    isfile(path) || throw(ArgumentError(\"File not found: $path\"))\n",
    "    # Temporary storage for variables\n",
    "    temp_storage = []\n",
    "    # 1) Open Excel file and read all data rows temporarily\n",
    "    XLSX.openxlsx(path) do xf\n",
    "        sheet = xf[1]\n",
    "        # Use XLSX.eachtablerow to iterate through rows\n",
    "        for row in XLSX.eachtablerow(sheet)\n",
    "            # Skip if first column value is not a number (header or empty row)\n",
    "            ψ = row[1]\n",
    "            isa(ψ, Number) || continue\n",
    "            # Read mi, mj and other values from the row\n",
    "            mi = Int(row[2])\n",
    "            mj = Int(row[3])\n",
    "            # Store entire row data (columns containing real/imaginary parts of A~H)\n",
    "            # Read data up to 15th column\n",
    "            row_data = [row[c] for c in 1:15]\n",
    "            push!(temp_storage, (ψ, mi, mj, row_data))\n",
    "        end\n",
    "    end # End of XLSX.openxlsx do block\n",
    "    isempty(temp_storage) && error(\"No numeric data rows found in $path\")\n",
    "    \n",
    "    # 2) Organize ψ / m lists\n",
    "    psi_vals = sort(unique(getindex.(temp_storage, 1)))\n",
    "    m_vals_all = vcat(getindex.(temp_storage, 2), getindex.(temp_storage, 3))\n",
    "    m_vals   = sort(unique(m_vals_all))\n",
    "    nψ       = length(psi_vals)\n",
    "    mpert    = length(m_vals)\n",
    "    \n",
    "    # Create dictionaries for value -> index conversion\n",
    "    ψidx = Dict(v => i for (i, v) in enumerate(psi_vals))\n",
    "    midx = Dict(v => i for (i, v) in enumerate(m_vals))\n",
    "    \n",
    "    # 3) Initialize empty arrays to store final matrices\n",
    "    shp = (nψ, mpert, mpert)\n",
    "    mats = Dict(name => zeros(ComplexF64, shp) for name in keys(_COLS))\n",
    "    \n",
    "    # 4) Fill arrays with temporarily stored data\n",
    "    for (ψ, mi, mj, row_cells) in temp_storage\n",
    "        k = ψidx[ψ]\n",
    "        i = midx[mi]\n",
    "        j = midx[mj]\n",
    "        for (name, (recol, imcol)) in _COLS\n",
    "            # row_cells has 1-based indexing\n",
    "            real_val = row_cells[recol]\n",
    "            imag_val = row_cells[imcol]\n",
    "            # Handle empty cells (nothing) or non-numeric values as 0.0\n",
    "            re = isa(real_val, Number) ? Float64(real_val) : 0.0\n",
    "            im = isa(imag_val, Number) ? Float64(imag_val) : 0.0\n",
    "            mats[name][k, i, j] = ComplexF64(re, im)\n",
    "        end\n",
    "    end\n",
    "    \n",
    "    # Create and return final object\n",
    "    return ImatsReader(String(path), psi_vals, m_vals, nψ, mpert,\n",
    "               mats[:A], mats[:B], mats[:C], mats[:D], mats[:E], mats[:H])\n",
    "end\n",
    "\n",
    "# ────────────────────────────────────────────────────────────────\n",
    "# Internal: ψ index interpretation\n",
    "function _ψindex(r::ImatsReader; ψ_index::Union{Nothing,Int}=nothing,\n",
    "                                   ψ_value::Union{Nothing,Real}=nothing)\n",
    "    ψ_index !== nothing && return ψ_index\n",
    "    ψ_value !== nothing || error(\"Either ψ_index or ψ_value must be specified\")\n",
    "    return argmin(abs.(r.psi .- ψ_value))\n",
    "end\n",
    "\n",
    "# ────────────────────────────────────────────────────────────────\n",
    "\"Return single matrix: name ∈ (:A,:B,:C,:D,:E,:H)\"\n",
    "function get_matrix(r::ImatsReader, name::Symbol;\n",
    "                    ψ_index::Union{Nothing,Int}=nothing,\n",
    "                    ψ_value::Union{Nothing,Real}=nothing)\n",
    "    name = Symbol(uppercase(String(name)))\n",
    "    hasproperty(r, name) || error(\"unknown matrix $name\")\n",
    "    k = _ψindex(r; ψ_index, ψ_value)\n",
    "    return getfield(r, name)[k, :, :]\n",
    "end\n",
    "\n",
    "\"Return one ψ cross-section (6 matrices) as Dict\"\n",
    "function get_matrices(r::ImatsReader; ψ_index::Union{Nothing,Int}=nothing,\n",
    "                                         ψ_value::Union{Nothing,Real}=nothing)\n",
    "    k = _ψindex(r; ψ_index, ψ_value)\n",
    "    return Dict(name => getfield(r, name)[k, :, :] for name in (:A,:B,:C,:D,:E,:H))\n",
    "end"
   ]
  },
  {
   "cell_type": "code",
   "execution_count": null,
   "id": "3283fe40",
   "metadata": {},
   "outputs": [],
   "source": [
    "reader = ImatsReader(\"../src/DCON/validate/imats.xlsx\")\n"
   ]
  },
  {
   "cell_type": "code",
   "execution_count": null,
   "id": "4ee5faa3",
   "metadata": {},
   "outputs": [],
   "source": [
    "reshape(matrix_result.amats[129, :], 9, 9)./reader.A[end,:,:]"
   ]
  },
  {
   "cell_type": "code",
   "execution_count": null,
   "id": "b2c6fe59",
   "metadata": {},
   "outputs": [],
   "source": []
  }
 ],
 "metadata": {
  "kernelspec": {
   "display_name": "Julia 1.11.6",
   "language": "julia",
   "name": "julia-1.11"
  },
  "language_info": {
   "file_extension": ".jl",
   "mimetype": "application/julia",
   "name": "julia",
   "version": "1.11.6"
  }
 },
 "nbformat": 4,
 "nbformat_minor": 5
}
