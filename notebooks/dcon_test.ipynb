{
 "cells": [
  {
   "cell_type": "code",
   "execution_count": 1,
   "id": "710e987d",
   "metadata": {},
   "outputs": [
    {
     "name": "stderr",
     "output_type": "stream",
     "text": [
      "\u001b[32m\u001b[1m  Activating\u001b[22m\u001b[39m project at `~/Github/JPEC`\n",
      "\u001b[32m\u001b[1m  No Changes\u001b[22m\u001b[39m to `~/Github/JPEC/Project.toml`\n",
      "\u001b[32m\u001b[1m  No Changes\u001b[22m\u001b[39m to `~/Github/JPEC/Manifest.toml`\n",
      "\u001b[92m\u001b[1mPrecompiling\u001b[22m\u001b[39m project...\n",
      "   5427.4 ms\u001b[32m  ✓ \u001b[39mJPEC\n",
      "  1 dependency successfully precompiled in 7 seconds. 450 already precompiled.\n"
     ]
    }
   ],
   "source": [
    "using Pkg\n",
    "Pkg.activate(\"..\")\n",
    "Pkg.resolve()\n",
    "Pkg.instantiate()\n",
    "using JPEC, Plots\n",
    "# test"
   ]
  },
  {
   "cell_type": "code",
   "execution_count": 2,
   "id": "d8bcf5be",
   "metadata": {},
   "outputs": [
    {
     "data": {
      "text/plain": [
       "JPEC.DconMod"
      ]
     },
     "metadata": {},
     "output_type": "display_data"
    }
   ],
   "source": [
    "JPEC.DconMod"
   ]
  }
 ],
 "metadata": {
  "kernelspec": {
   "display_name": "Julia 1.11.5",
   "language": "julia",
   "name": "julia-1.11"
  },
  "language_info": {
   "file_extension": ".jl",
   "mimetype": "application/julia",
   "name": "julia",
   "version": "1.11.5"
  }
 },
 "nbformat": 4,
 "nbformat_minor": 5
}
