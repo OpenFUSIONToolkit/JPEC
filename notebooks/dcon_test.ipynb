{
 "cells": [
  {
   "cell_type": "code",
   "execution_count": null,
   "id": "710e987d",
   "metadata": {},
   "outputs": [],
   "source": [
    "using Pkg\n",
    "Pkg.activate(\"..\")\n",
    "Pkg.resolve()\n",
    "Pkg.instantiate()\n",
    "using JPEC"
   ]
  },
  {
   "cell_type": "code",
   "execution_count": null,
   "id": "d8bcf5be",
   "metadata": {},
   "outputs": [],
   "source": [
    "JPEC.DconMod.MainProgram(\"DIIID_example\")"
   ]
  },
  {
   "cell_type": "code",
   "execution_count": null,
   "id": "18cbc50a",
   "metadata": {},
   "outputs": [],
   "source": []
  }
 ],
 "metadata": {
  "kernelspec": {
   "display_name": "Julia 1.11.6",
   "language": "julia",
   "name": "julia-1.11"
  },
  "language_info": {
   "file_extension": ".jl",
   "mimetype": "application/julia",
   "name": "julia",
   "version": "1.11.6"
  }
 },
 "nbformat": 4,
 "nbformat_minor": 5
}
