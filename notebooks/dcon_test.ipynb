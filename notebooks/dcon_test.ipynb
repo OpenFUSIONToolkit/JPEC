{
 "cells": [
  {
   "cell_type": "code",
   "execution_count": 1,
   "id": "710e987d",
   "metadata": {},
   "outputs": [],
   "source": [
    "# using Pkg\n",
    "# Pkg.activate(\"..\")\n",
    "# Pkg.resolve()\n",
    "# Pkg.instantiate()\n",
    "using JPEC, Plots\n",
    "# test"
   ]
  },
  {
   "cell_type": "code",
   "execution_count": 2,
   "id": "d8bcf5be",
   "metadata": {},
   "outputs": [
    {
     "name": "stdout",
     "output_type": "stream",
     "text": [
      "DCON START -> vJULIA-PORT-1.0\n"
     ]
    },
    {
     "ename": "UndefVarError",
     "evalue": "UndefVarError: `EquilInput` not defined in `JPEC.Equilibrium`\nSuggestion: check for spelling errors or missing imports.",
     "output_type": "error",
     "traceback": [
      "UndefVarError: `EquilInput` not defined in `JPEC.Equilibrium`\n",
      "Suggestion: check for spelling errors or missing imports.\n",
      "\n",
      "Stacktrace:\n",
      " [1] getproperty\n",
      "   @ ./Base.jl:42 [inlined]\n",
      " [2] LoadEquilibrium()\n",
      "   @ JPEC.DconMod ~/Github/JPEC/src/DCON/dcon.jl:232\n",
      " [3] MainProgram()\n",
      "   @ JPEC.DconMod ~/Github/JPEC/src/DCON/dcon.jl:28\n",
      " [4] top-level scope\n",
      "   @ ~/Github/JPEC/notebooks/jl_notebook_cell_df34fa98e69747e1a8f8a730347b8e2f_X12sZmlsZQ==.jl:1"
     ]
    }
   ],
   "source": [
    "JPEC.DconMod.MainProgram()"
   ]
  },
  {
   "cell_type": "code",
   "execution_count": null,
   "id": "18cbc50a",
   "metadata": {},
   "outputs": [],
   "source": []
  }
 ],
 "metadata": {
  "kernelspec": {
   "display_name": "Julia 1.11.5",
   "language": "julia",
   "name": "julia-1.11"
  },
  "language_info": {
   "file_extension": ".jl",
   "mimetype": "application/julia",
   "name": "julia",
   "version": "1.11.5"
  }
 },
 "nbformat": 4,
 "nbformat_minor": 5
}
