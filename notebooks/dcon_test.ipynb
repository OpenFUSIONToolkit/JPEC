{
 "cells": [
  {
   "cell_type": "markdown",
   "id": "b792c57b",
   "metadata": {},
   "source": [
    "### This notebook can be used as a basic example to show how to run the main DCON program"
   ]
  },
  {
   "cell_type": "code",
   "execution_count": null,
   "id": "710e987d",
   "metadata": {},
   "outputs": [],
   "source": [
    "using Pkg\n",
    "Pkg.activate(\"..\")\n",
    "using JPEC"
   ]
  },
  {
   "cell_type": "code",
   "execution_count": null,
   "id": "d8bcf5be",
   "metadata": {},
   "outputs": [],
   "source": [
    "JPEC.DCON.Main(\"DIIID_example\")"
   ]
  },
  {
   "cell_type": "code",
   "execution_count": null,
   "id": "18cbc50a",
   "metadata": {},
   "outputs": [],
   "source": []
  }
 ],
 "metadata": {
  "kernelspec": {
   "display_name": "Julia 1.11.6",
   "language": "julia",
   "name": "julia-1.11"
  },
  "language_info": {
   "file_extension": ".jl",
   "mimetype": "application/julia",
   "name": "julia",
   "version": "1.11.6"
  }
 },
 "nbformat": 4,
 "nbformat_minor": 5
}
