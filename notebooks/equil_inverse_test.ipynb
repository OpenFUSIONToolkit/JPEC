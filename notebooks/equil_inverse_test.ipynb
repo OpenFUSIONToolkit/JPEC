{
 "cells": [
  {
   "cell_type": "code",
   "execution_count": null,
   "id": "814db625",
   "metadata": {},
   "outputs": [],
   "source": [
    "# Test inverse.jl using the file inverse.inverse_chease4_run\n",
    "using Pkg\n",
    "Pkg.activate(\"..\") \n",
    "Pkg.instantiate()\n",
    "using JPEC, Plots\n",
    "gr() "
   ]
  },
  {
   "cell_type": "code",
   "execution_count": null,
   "id": "94c3d4e9",
   "metadata": {},
   "outputs": [],
   "source": [
    "# 1. Define the input parameters for the equilibrium solver.\n",
    "#    - eq_filename: The name of the g-file we just created.\n",
    "#    - eq_type: \"efit\" for a standard g-file.\n",
    "#    - jac_type: \"boozer\" or \"hamada\" for the output coordinates.\n",
    "#    - mpsi, mtheta: Resolution of the output grid.\n",
    "equil_input = JPEC.Equilibrium.EquilibriumConfig(control=JPEC.Equilibrium.EquilControl(;eq_filename=\"inverse.chease.10\",\n",
    "    eq_type=\"chease2\", jac_type=\"hamada\", mpsi=128, mtheta=256),\n",
    "    output=JPEC.Equilibrium.EquilibriumOutput())\n",
    "\n",
    "# 2. Run the main equilibrium setup function.\n",
    "#    This will read the file, solve the direct problem, and return the final object.\n",
    "println(\"Starting equilibrium reconstruction...\")\n",
    "plasma_eq = JPEC.Equilibrium.setup_equilibrium(equil_input)\n",
    "println(\"Equilibrium reconstruction complete.\")\n"
   ]
  },
  {
   "cell_type": "code",
   "execution_count": null,
   "id": "97a529f4",
   "metadata": {},
   "outputs": [],
   "source": [
    "# The plasma_eq object contains the final 1D profile spline, `sq`.\n",
    "# We will evaluate it on a fine grid to get smooth plot lines.\n",
    "psi_norm_grid = range(0.0, 1.0, length=200)\n",
    "\n",
    "# spline_eval returns the function values (and derivatives if requested).\n",
    "# For sq, the quantities are: 1:F, 2:P*mu0, 3:Toroidal Flux, 4:q\n",
    "f_profiles = JPEC.spline_eval(plasma_eq.sq, collect(psi_norm_grid))\n",
    "\n",
    "# Extract each profile into its own variable for clarity\n",
    "F_profile      = f_profiles[:, 1]\n",
    "P_profile      = f_profiles[:, 2]\n",
    "tor_flux_prof  = f_profiles[:, 3]\n",
    "q_profile      = f_profiles[:, 4]"
   ]
  },
  {
   "cell_type": "code",
   "execution_count": null,
   "id": "131e2883",
   "metadata": {},
   "outputs": [],
   "source": [
    "\n",
    "p = plot(layout=(2, 2), size=(900, 700), margin=5Plots.mm)\n",
    "\n",
    "# Plot 1: F = R*B_phi\n",
    "plot!(p[1], psi_norm_grid, F_profile,\n",
    "    xlabel=\"Normalized Poloidal Flux (ψ_norm)\",\n",
    "    ylabel=\"F [T⋅m]\",\n",
    "    title=\"Toroidal Field Function (F)\",\n",
    "    legend=false,\n",
    "    lw=2\n",
    ")\n",
    "\n",
    "# Plot 2: Pressure\n",
    "plot!(p[2], psi_norm_grid, P_profile,\n",
    "    xlabel=\"Normalized Poloidal Flux (ψ_norm)\",\n",
    "    ylabel=\"μ₀P [T²]\",\n",
    "    title=\"Pressure Profile\",\n",
    "    legend=false,\n",
    "    lw=2\n",
    ")\n",
    "\n",
    "# Plot 3: Safety Factor (q)\n",
    "plot!(p[3], psi_norm_grid, q_profile,\n",
    "    xlabel=\"Normalized Poloidal Flux (ψ_norm)\",\n",
    "    ylabel=\"q\",\n",
    "    title=\"Safety Factor (q) Profile\",\n",
    "    legend=false,\n",
    "    lw=2\n",
    ")\n",
    "\n",
    "# Plot 4: Toroidal Flux\n",
    "plot!(p[4], psi_norm_grid, tor_flux_prof,\n",
    "    xlabel=\"Normalized Poloidal Flux (ψ_norm)\",\n",
    "    ylabel=\"Φ / (2π)² [Wb]\",\n",
    "    title=\"Toroidal Flux Profile\",\n",
    "    legend=false,\n",
    "    lw=2\n",
    ")\n",
    "\n",
    "# Display the final plot\n",
    "p"
   ]
  },
  {
   "cell_type": "code",
   "execution_count": null,
   "id": "d74a45e4",
   "metadata": {},
   "outputs": [],
   "source": [
    "# block 6\n",
    "# --- Plot Straight-Field-Line Angle (θ) Contours ---\n",
    "\n",
    "p_theta = contour(\n",
    "    R_grid, \n",
    "    Z_grid, \n",
    "    THETA_values_on_grid,\n",
    "    title=\"Straight-Field-Line Angle (θ) Contours\",\n",
    "    xlabel=\"R [m]\",\n",
    "    ylabel=\"Z [m]\",\n",
    "    levels=20,\n",
    "    c=:hsv,\n",
    "    colorbar_title=\"Normalized θ\",\n",
    "    aspect_ratio=:equal,\n",
    "    linewidth=1.5\n",
    ")\n",
    "\n",
    "# Mark the magnetic axis\n",
    "scatter!(p_theta, [plasma_eq.ro], [plasma_eq.zo], label=\"Magnetic Axis\", mc=:black, ms=5)\n",
    "\n",
    "display(p_theta)"
   ]
  },
  {
   "cell_type": "code",
   "execution_count": null,
   "id": "a79bf309",
   "metadata": {},
   "outputs": [],
   "source": []
  },
  {
   "cell_type": "code",
   "execution_count": null,
   "id": "9859d659",
   "metadata": {},
   "outputs": [],
   "source": []
  },
  {
   "cell_type": "code",
   "execution_count": null,
   "id": "2c625a4a",
   "metadata": {},
   "outputs": [],
   "source": []
  },
  {
   "cell_type": "code",
   "execution_count": null,
   "id": "3b359ecb",
   "metadata": {},
   "outputs": [],
   "source": []
  },
  {
   "cell_type": "code",
   "execution_count": null,
   "id": "d8ba8174",
   "metadata": {},
   "outputs": [],
   "source": []
  }
 ],
 "metadata": {
  "kernelspec": {
   "display_name": "Julia 1.11.6",
   "language": "julia",
   "name": "julia-1.11"
  },
  "language_info": {
   "file_extension": ".jl",
   "mimetype": "application/julia",
   "name": "julia",
   "version": "1.11.6"
  }
 },
 "nbformat": 4,
 "nbformat_minor": 5
}
