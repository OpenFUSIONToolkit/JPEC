{
 "cells": [
  {
   "cell_type": "code",
   "execution_count": 1,
   "id": "814db625",
   "metadata": {},
   "outputs": [
    {
     "name": "stderr",
     "output_type": "stream",
     "text": [
      "\u001b[32m\u001b[1m  Activating\u001b[22m\u001b[39m project at `~/Documents/GitHub/JPEC`\n",
      "\u001b[92m\u001b[1mPrecompiling\u001b[22m\u001b[39m project...\n",
      "   5353.1 ms\u001b[32m  ✓ \u001b[39mJPEC\n",
      "  1 dependency successfully precompiled in 7 seconds. 457 already precompiled.\n"
     ]
    },
    {
     "data": {
      "text/plain": [
       "Plots.GRBackend()"
      ]
     },
     "metadata": {},
     "output_type": "display_data"
    }
   ],
   "source": [
    "# Test inverse.jl using the file inverse.inverse_chease4_run\n",
    "\n",
    "using Revise\n",
    "using Pkg\n",
    "Pkg.activate(\"..\") \n",
    "Pkg.instantiate()\n",
    "using JPEC, Plots\n",
    "gr() "
   ]
  },
  {
   "cell_type": "code",
   "execution_count": 2,
   "id": "94c3d4e9",
   "metadata": {},
   "outputs": [
    {
     "name": "stdout",
     "output_type": "stream",
     "text": [
      "Starting equilibrium reconstruction...\n",
      "--- Julia Equilibrium Setup ---\n",
      "Equilibrium file: inverse.chease.10\n",
      "Type = chease2, Jac_type = hamada\n",
      "----------------------------------------\n",
      "--> Processing EFIT g-file: inverse.chease.10\n",
      "--> Parsed from header: nw=401, nh=0\n"
     ]
    },
    {
     "name": "stderr",
     "output_type": "stream",
     "text": [
      "┌ Warning: Parsing error for substring: '10E-01 0.6266570'. Error: ArgumentError(\"cannot parse \\\"10E-01 0.6266570\\\" as Float64\"). Skipping.\n",
      "└ @ JPEC.Equilibrium.IO /Users/bursche/Documents/GitHub/JPEC/src/Equilibrium/io.jl:89\n",
      "┌ Warning: Parsing error for substring: '68657750E-02 0.1'. Error: ArgumentError(\"cannot parse \\\"68657750E-02 0.1\\\" as Float64\"). Skipping.\n",
      "└ @ JPEC.Equilibrium.IO /Users/bursche/Documents/GitHub/JPEC/src/Equilibrium/io.jl:89\n",
      "┌ Warning: Parsing error for substring: '07307694852068E+'. Error: ArgumentError(\"cannot parse \\\"07307694852068E+\\\" as Float64\"). Skipping.\n",
      "└ @ JPEC.Equilibrium.IO /Users/bursche/Documents/GitHub/JPEC/src/Equilibrium/io.jl:89\n",
      "┌ Warning: Parsing error for substring: '01-0.81403995909'. Error: ArgumentError(\"cannot parse \\\"01-0.81403995909\\\" as Float64\"). Skipping.\n",
      "└ @ JPEC.Equilibrium.IO /Users/bursche/Documents/GitHub/JPEC/src/Equilibrium/io.jl:89\n",
      "┌ Warning: Parsing error for substring: '6157E-02 0.10000'. Error: ArgumentError(\"cannot parse \\\"6157E-02 0.10000\\\" as Float64\"). Skipping.\n",
      "└ @ JPEC.Equilibrium.IO /Users/bursche/Documents/GitHub/JPEC/src/Equilibrium/io.jl:89\n",
      "┌ Warning: Parsing error for substring: '0000000000E+01 0'. Error: ArgumentError(\"cannot parse \\\"0000000000E+01 0\\\" as Float64\"). Skipping.\n",
      "└ @ JPEC.Equilibrium.IO /Users/bursche/Documents/GitHub/JPEC/src/Equilibrium/io.jl:89\n",
      "┌ Warning: Parsing error for substring: 'E-01 0.222831834'. Error: ArgumentError(\"cannot parse \\\"E-01 0.222831834\\\" as Float64\"). Skipping.\n",
      "└ @ JPEC.Equilibrium.IO /Users/bursche/Documents/GitHub/JPEC/src/Equilibrium/io.jl:89\n",
      "┌ Warning: Parsing error for substring: '467358E-01 0.222'. Error: ArgumentError(\"cannot parse \\\"467358E-01 0.222\\\" as Float64\"). Skipping.\n",
      "└ @ JPEC.Equilibrium.IO /Users/bursche/Documents/GitHub/JPEC/src/Equilibrium/io.jl:89\n",
      "┌ Warning: Parsing error for substring: '35E-01 0.2216716'. Error: ArgumentError(\"cannot parse \\\"35E-01 0.2216716\\\" as Float64\"). Skipping.\n",
      "└ @ JPEC.Equilibrium.IO /Users/bursche/Documents/GitHub/JPEC/src/Equilibrium/io.jl:89\n",
      "┌ Warning: Parsing error for substring: '98143921E-01 0.2'. Error: ArgumentError(\"cannot parse \\\"98143921E-01 0.2\\\" as Float64\"). Skipping.\n",
      "└ @ JPEC.Equilibrium.IO /Users/bursche/Documents/GitHub/JPEC/src/Equilibrium/io.jl:89\n",
      "┌ Warning: Parsing error for substring: '21031023285028E-'. Error: ArgumentError(\"cannot parse \\\"21031023285028E-\\\" as Float64\"). Skipping.\n",
      "└ @ JPEC.Equilibrium.IO /Users/bursche/Documents/GitHub/JPEC/src/Equilibrium/io.jl:89\n",
      "┌ Warning: Parsing error for substring: '01 0.22026525267'. Error: ArgumentError(\"cannot parse \\\"01 0.22026525267\\\" as Float64\"). Skipping.\n",
      "└ @ JPEC.Equilibrium.IO /Users/bursche/Documents/GitHub/JPEC/src/Equilibrium/io.jl:89\n",
      "┌ Warning: Parsing error for substring: '4305E-01 0.21937'. Error: ArgumentError(\"cannot parse \\\"4305E-01 0.21937\\\" as Float64\"). Skipping.\n",
      "└ @ JPEC.Equilibrium.IO /Users/bursche/Documents/GitHub/JPEC/src/Equilibrium/io.jl:89\n",
      "┌ Warning: Parsing error for substring: '5737301998E-01 0'. Error: ArgumentError(\"cannot parse \\\"5737301998E-01 0\\\" as Float64\"). Skipping.\n",
      "└ @ JPEC.Equilibrium.IO /Users/bursche/Documents/GitHub/JPEC/src/Equilibrium/io.jl:89\n",
      "┌ Warning: Parsing error for substring: 'E-01 0.217231525'. Error: ArgumentError(\"cannot parse \\\"E-01 0.217231525\\\" as Float64\"). Skipping.\n",
      "└ @ JPEC.Equilibrium.IO /Users/bursche/Documents/GitHub/JPEC/src/Equilibrium/io.jl:89\n",
      "┌ Warning: Parsing error for substring: '982240E-01 0.215'. Error: ArgumentError(\"cannot parse \\\"982240E-01 0.215\\\" as Float64\"). Skipping.\n",
      "└ @ JPEC.Equilibrium.IO /Users/bursche/Documents/GitHub/JPEC/src/Equilibrium/io.jl:89\n",
      "┌ Warning: Parsing error for substring: '25E-01 0.2131285'. Error: ArgumentError(\"cannot parse \\\"25E-01 0.2131285\\\" as Float64\"). Skipping.\n",
      "└ @ JPEC.Equilibrium.IO /Users/bursche/Documents/GitHub/JPEC/src/Equilibrium/io.jl:89\n",
      "┌ Warning: Parsing error for substring: '50852588E-01 0.2'. Error: ArgumentError(\"cannot parse \\\"50852588E-01 0.2\\\" as Float64\"). Skipping.\n",
      "└ @ JPEC.Equilibrium.IO /Users/bursche/Documents/GitHub/JPEC/src/Equilibrium/io.jl:89\n",
      "┌ Warning: Parsing error for substring: '11532396668289E-'. Error: ArgumentError(\"cannot parse \\\"11532396668289E-\\\" as Float64\"). Skipping.\n",
      "└ @ JPEC.Equilibrium.IO /Users/bursche/Documents/GitHub/JPEC/src/Equilibrium/io.jl:89\n",
      "┌ Warning: Parsing error for substring: '01 0.20982569131'. Error: ArgumentError(\"cannot parse \\\"01 0.20982569131\\\" as Float64\"). Skipping.\n",
      "└ @ JPEC.Equilibrium.IO /Users/bursche/Documents/GitHub/JPEC/src/Equilibrium/io.jl:89\n",
      "┌ Warning: Expected 20 values, but only read 7.\n",
      "└ @ JPEC.Equilibrium.IO /Users/bursche/Documents/GitHub/JPEC/src/Equilibrium/io.jl:95\n"
     ]
    },
    {
     "ename": "BoundsError",
     "evalue": "BoundsError: attempt to access 7-element Vector{Float64} at index [6:9]",
     "output_type": "error",
     "traceback": [
      "BoundsError: attempt to access 7-element Vector{Float64} at index [6:9]\n",
      "\n",
      "Stacktrace:\n",
      " [1] throw_boundserror(A::Vector{Float64}, I::Tuple{UnitRange{Int64}})\n",
      "   @ Base ./essentials.jl:14\n",
      " [2] checkbounds\n",
      "   @ ./abstractarray.jl:699 [inlined]\n",
      " [3] getindex\n",
      "   @ ./array.jl:936 [inlined]\n",
      " [4] _read_efit(equil_in::JPEC.Equilibrium.Types.EquilInput)\n",
      "   @ JPEC.Equilibrium.IO ~/Documents/GitHub/JPEC/src/Equilibrium/io.jl:123\n",
      " [5] prepare_solver_input\n",
      "   @ ~/Documents/GitHub/JPEC/src/Equilibrium/io.jl:0 [inlined]\n",
      " [6] setup_equilibrium(equil_input::JPEC.Equilibrium.Types.EquilInput)\n",
      "   @ JPEC.Equilibrium ~/Documents/GitHub/JPEC/src/Equilibrium/Equilibrium.jl:49\n",
      " [7] top-level scope\n",
      "   @ ~/Documents/GitHub/JPEC/notebooks/jl_notebook_cell_df34fa98e69747e1a8f8a730347b8e2f_X14sZmlsZQ==.jl:19"
     ]
    }
   ],
   "source": [
    "# 1. Define the input parameters for the equilibrium solver.\n",
    "#    - eq_filename: The name of the g-file we just created.\n",
    "#    - eq_type: \"efit\" for a standard g-file.\n",
    "#    - jac_type: \"boozer\" or \"hamada\" for the output coordinates.\n",
    "#    - mpsi, mtheta: Resolution of the output grid.\n",
    "equil_input = JPEC.Equilibrium.EquilInput(\n",
    "    \"inverse.chease.10\",        # eq_filename\n",
    "    \"chease2\",          # eq_type\n",
    "    \"hamada\",        # jac_type\n",
    "    1e-4,             # psilow\n",
    "    0.999,             # psihigh\n",
    "    128,             # mpsi (number of radial grid points)\n",
    "    256              # mtheta (number of poloidal grid points)\n",
    ")\n",
    "\n",
    "# 2. Run the main equilibrium setup function.\n",
    "#    This will read the file, solve the direct problem, and return the final object.\n",
    "println(\"Starting equilibrium reconstruction...\")\n",
    "plasma_eq = JPEC.Equilibrium.setup_equilibrium(equil_input)\n",
    "println(\"Equilibrium reconstruction complete.\")\n"
   ]
  },
  {
   "cell_type": "code",
   "execution_count": 3,
   "id": "97a529f4",
   "metadata": {},
   "outputs": [],
   "source": [
    "# The plasma_eq object contains the final 1D profile spline, `sq`.\n",
    "# We will evaluate it on a fine grid to get smooth plot lines.\n",
    "psi_norm_grid = range(0.0, 1.0, length=200)\n",
    "\n",
    "# spline_eval returns the function values (and derivatives if requested).\n",
    "# For sq, the quantities are: 1:F, 2:P*mu0, 3:Toroidal Flux, 4:q\n",
    "f_profiles = JPEC.spline_eval(plasma_eq.sq, collect(psi_norm_grid))\n",
    "\n",
    "# Extract each profile into its own variable for clarity\n",
    "F_profile      = f_profiles[:, 1]\n",
    "P_profile      = f_profiles[:, 2]\n",
    "tor_flux_prof  = f_profiles[:, 3]\n",
    "q_profile      = f_profiles[:, 4]"
   ]
  },
  {
   "cell_type": "code",
   "execution_count": 4,
   "id": "131e2883",
   "metadata": {},
   "outputs": [],
   "source": [
    "\n",
    "p = plot(layout=(2, 2), size=(900, 700), margin=5Plots.mm)\n",
    "\n",
    "# Plot 1: F = R*B_phi\n",
    "plot!(p[1], psi_norm_grid, F_profile,\n",
    "    xlabel=\"Normalized Poloidal Flux (ψ_norm)\",\n",
    "    ylabel=\"F [T⋅m]\",\n",
    "    title=\"Toroidal Field Function (F)\",\n",
    "    legend=false,\n",
    "    lw=2\n",
    ")\n",
    "\n",
    "# Plot 2: Pressure\n",
    "plot!(p[2], psi_norm_grid, P_profile,\n",
    "    xlabel=\"Normalized Poloidal Flux (ψ_norm)\",\n",
    "    ylabel=\"μ₀P [T²]\",\n",
    "    title=\"Pressure Profile\",\n",
    "    legend=false,\n",
    "    lw=2\n",
    ")\n",
    "\n",
    "# Plot 3: Safety Factor (q)\n",
    "plot!(p[3], psi_norm_grid, q_profile,\n",
    "    xlabel=\"Normalized Poloidal Flux (ψ_norm)\",\n",
    "    ylabel=\"q\",\n",
    "    title=\"Safety Factor (q) Profile\",\n",
    "    legend=false,\n",
    "    lw=2\n",
    ")\n",
    "\n",
    "# Plot 4: Toroidal Flux\n",
    "plot!(p[4], psi_norm_grid, tor_flux_prof,\n",
    "    xlabel=\"Normalized Poloidal Flux (ψ_norm)\",\n",
    "    ylabel=\"Φ / (2π)² [Wb]\",\n",
    "    title=\"Toroidal Flux Profile\",\n",
    "    legend=false,\n",
    "    lw=2\n",
    ")\n",
    "\n",
    "# Display the final plot\n",
    "p"
   ]
  },
  {
   "cell_type": "code",
   "execution_count": 5,
   "id": "d74a45e4",
   "metadata": {},
   "outputs": [],
   "source": [
    "# block 6\n",
    "# --- Plot Straight-Field-Line Angle (θ) Contours ---\n",
    "\n",
    "p_theta = contour(\n",
    "    R_grid, \n",
    "    Z_grid, \n",
    "    THETA_values_on_grid,\n",
    "    title=\"Straight-Field-Line Angle (θ) Contours\",\n",
    "    xlabel=\"R [m]\",\n",
    "    ylabel=\"Z [m]\",\n",
    "    levels=20,\n",
    "    c=:hsv,\n",
    "    colorbar_title=\"Normalized θ\",\n",
    "    aspect_ratio=:equal,\n",
    "    linewidth=1.5\n",
    ")\n",
    "\n",
    "# Mark the magnetic axis\n",
    "scatter!(p_theta, [plasma_eq.ro], [plasma_eq.zo], label=\"Magnetic Axis\", mc=:black, ms=5)\n",
    "\n",
    "display(p_theta)"
   ]
  },
  {
   "cell_type": "code",
   "execution_count": 6,
   "id": "a79bf309",
   "metadata": {},
   "outputs": [],
   "source": []
  },
  {
   "cell_type": "code",
   "execution_count": 7,
   "id": "9859d659",
   "metadata": {},
   "outputs": [],
   "source": []
  },
  {
   "cell_type": "code",
   "execution_count": 8,
   "id": "2c625a4a",
   "metadata": {},
   "outputs": [],
   "source": []
  },
  {
   "cell_type": "code",
   "execution_count": 9,
   "id": "3b359ecb",
   "metadata": {},
   "outputs": [],
   "source": []
  },
  {
   "cell_type": "code",
   "execution_count": 10,
   "id": "d8ba8174",
   "metadata": {},
   "outputs": [],
   "source": []
  }
 ],
 "metadata": {
  "kernelspec": {
   "display_name": "Julia 1.11.6",
   "language": "julia",
   "name": "julia-1.11"
  },
  "language_info": {
   "file_extension": ".jl",
   "mimetype": "application/julia",
   "name": "julia",
   "version": "1.11.6"
  }
 },
 "nbformat": 4,
 "nbformat_minor": 5
}
