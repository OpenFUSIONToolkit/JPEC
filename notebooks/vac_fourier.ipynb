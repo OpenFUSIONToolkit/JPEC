{
 "cells": [
  {
   "cell_type": "code",
   "execution_count": 61,
   "id": "d11e5382",
   "metadata": {},
   "outputs": [
    {
     "name": "stderr",
     "output_type": "stream",
     "text": [
      "\u001b[32m\u001b[1m  Activating\u001b[22m\u001b[39m project at `~/Projects/Perturbed-Equilibrium/JPEC.worktrees/vacuum_julia`\n"
     ]
    }
   ],
   "source": [
    "using Pkg\n",
    "Pkg.activate(\"..\")\n",
    "Pkg.instantiate()\n",
    "using JPEC, Plots"
   ]
  },
  {
   "cell_type": "code",
   "execution_count": 62,
   "id": "7762f2e4",
   "metadata": {},
   "outputs": [
    {
     "data": {
      "text/plain": [
       "fouran! (generic function with 1 method)"
      ]
     },
     "execution_count": 62,
     "metadata": {},
     "output_type": "execute_result"
    }
   ],
   "source": [
    "function fouran!(\n",
    "    gij::Matrix{Float64},\n",
    "    gil::Matrix{Float64},\n",
    "    cs::Matrix{Float64},\n",
    "    m00::Int,\n",
    "    l00::Int,\n",
    "    lmin::Vector{Int},\n",
    "    lmax::Vector{Int},\n",
    "    mth::Int\n",
    ")\n",
    "    # Compute jmax1 like Fortran\n",
    "    jmax1 = lmax[1] - lmin[1] + 1\n",
    "\n",
    "    # Zero out relevant gil block\n",
    "    for l1 in 1:jmax1\n",
    "        for i in 1:mth\n",
    "            gil[m00 + i, l00 + l1] = 0.0\n",
    "        end\n",
    "    end\n",
    "\n",
    "    # Accumulate with ll offset (critical to match Fortran)\n",
    "    for l1 in 1:jmax1\n",
    "        ll = l1 - 1 + lmin[1]\n",
    "        for j in 1:mth\n",
    "            for i in 1:mth\n",
    "                gil[m00 + i, l00 + l1] += cs[j, l1] * gij[i, j]\n",
    "            end\n",
    "        end\n",
    "    end\n",
    "\n",
    "    return nothing\n",
    "end"
   ]
  },
  {
   "cell_type": "code",
   "execution_count": 63,
   "id": "a43cb17b",
   "metadata": {},
   "outputs": [
    {
     "data": {
      "text/plain": [
       "foranv! (generic function with 3 methods)"
      ]
     },
     "execution_count": 63,
     "metadata": {},
     "output_type": "execute_result"
    }
   ],
   "source": [
    "function foranv!(gil::Matrix{Float64}, gll::Matrix{Float64}, cs::Matrix{Float64},\n",
    "                 m00::Int, l00::Int, mth::Int, lmin::Int, lmax::Int,\n",
    "                 dth::Float64, twopi::Float64)\n",
    "\n",
    "    jmax1 = lmax - lmin + 1\n",
    "\n",
    "    # Zero out gll block\n",
    "    for l1 in 1:jmax1\n",
    "        for l2 in 1:jmax1\n",
    "            gll[l2, l1] = 0.0\n",
    "        end\n",
    "    end\n",
    "\n",
    "    # Main accumulation (note: gll[l2, l1], not gll[l1, l2])\n",
    "    for l1 in 1:jmax1\n",
    "        for l2 in 1:jmax1\n",
    "            for i in 1:mth\n",
    "                gll[l2, l1] += dth * cs[i, l2] * gil[m00+i, l00+l1] * twopi\n",
    "            end\n",
    "        end\n",
    "    end\n",
    "\n",
    "    return gll\n",
    "end\n"
   ]
  },
  {
   "cell_type": "code",
   "execution_count": 64,
   "id": "a6abcbea",
   "metadata": {},
   "outputs": [
    {
     "name": "stdout",
     "output_type": "stream",
     "text": [
      "gil(1:5,1:5) submatrix starting at (109+1,33+1):\n",
      "[0.0, 5.758492623190696, 8.519982775454418, 10.099787086819953, 11.7302450407185]\n",
      "[0.0, 5.756099490628109, 8.512536094163833, 10.087290470562392, 11.713017282668279]\n",
      "[0.0, 5.753747610409246, 8.505220197384235, 10.075014410727995, 11.696094147093449]\n",
      "[0.0, 5.75143592692491, 8.49803167245637, 10.062953123235024, 11.679467630240492]\n",
      "[0.0, 5.749163420208127, 8.490967224332074, 10.051101024364383, 11.663130006138648]\n",
      "gll(1:5,1:5) matrix:\n",
      "[2.3789313086264325, 5.239419792794563, 7.826355667110261, 10.284593399378773, 12.795304525965333]\n",
      "[5.239419792794563, 10.009696479612979, 13.986576309804287, 17.813106486393192, 21.751528156905444]\n",
      "[7.8263556671102545, 13.986576309804267, 18.84118428634243, 23.555201297958067, 28.43403506496631]\n",
      "[10.284593399378766, 17.81310648639312, 23.555201297958053, 29.161845740032398, 34.9837133827433]\n",
      "[12.795304525965348, 21.75152815690543, 28.434035064966384, 34.98371338274334, 41.80016994126332]\n"
     ]
    }
   ],
   "source": [
    "function test_fourier()\n",
    "    # Parameters\n",
    "    mtheta = 200\n",
    "    mthvac = 900\n",
    "    mpert  = 34\n",
    "\n",
    "    # After defglo/global_alloc\n",
    "    nths  = 905\n",
    "    nths2 = 1810\n",
    "    nfm   = 34\n",
    "    nfm2  = 68\n",
    "\n",
    "    m00 = 0\n",
    "    l00 = 34\n",
    "\n",
    "    # Define lmin/lmax like in arrays.f (dummy example: from 1 to nfm)\n",
    "    lmin = [1]\n",
    "    lmax = [nfm]\n",
    "\n",
    "    # Allocate arrays\n",
    "    gij = zeros(Float64, nths, nths)\n",
    "    gil = zeros(Float64, nths2, nfm2)\n",
    "    cs  = zeros(Float64, nths, nfm)\n",
    "    x   = zeros(Float64, nths)\n",
    "\n",
    "    # Allocate gll for foranv test\n",
    "    gll = zeros(Float64, nfm, nfm)\n",
    "\n",
    "    # Fill x(i) = 6.28 / i\n",
    "    for i in 1:nths\n",
    "        x[i] = 6.28 / i\n",
    "    end\n",
    "\n",
    "    # Fill gij(i,j) and cs(i,j)\n",
    "    for i in 1:nths\n",
    "        for j in 1:nths\n",
    "            gij[i,j] = sin(x[i] + x[j])\n",
    "        end\n",
    "        for j in 1:nfm\n",
    "            cs[i,j] = (sin(j * x[i]))^2\n",
    "        end\n",
    "    end\n",
    "\n",
    "    # Call your Fourier routine\n",
    "    fouran!(gij, gil, cs, m00, l00, lmin, lmax, nths)\n",
    "\n",
    "    println(\"gil(1:5,1:5) submatrix starting at (109+1,33+1):\")\n",
    "    for i in 1:5\n",
    "        println([gil[109+i, 33+j] for j in 1:5])\n",
    "    end\n",
    "\n",
    "    mth = nths\n",
    "    twopi = 2π\n",
    "    dth = twopi / mth\n",
    "    gll = zeros(Float64, nfm, nfm)\n",
    "\n",
    "    foranv!(gil, gll, cs, m00, l00, mth, lmin[1], lmax[1], dth, twopi)\n",
    "\n",
    "    println(\"gll(1:5,1:5) matrix:\")\n",
    "    for i in 1:5\n",
    "        println([gll[i,j] for j in 1:5])\n",
    "    end\n",
    "\n",
    "end\n",
    "\n",
    "test_fourier()\n"
   ]
  }
 ],
 "metadata": {
  "kernelspec": {
   "display_name": "Julia 1.11.6",
   "language": "julia",
   "name": "julia-1.11"
  },
  "language_info": {
   "file_extension": ".jl",
   "mimetype": "application/julia",
   "name": "julia",
   "version": "1.11.6"
  }
 },
 "nbformat": 4,
 "nbformat_minor": 5
}
