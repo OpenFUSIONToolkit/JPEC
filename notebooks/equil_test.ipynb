{
 "cells": [
  {
   "cell_type": "code",
   "execution_count": 1,
   "id": "814db625",
   "metadata": {},
   "outputs": [
    {
     "name": "stderr",
     "output_type": "stream",
     "text": [
      "\u001b[32m\u001b[1m  Activating\u001b[22m\u001b[39m project at `c:\\Users\\thlmi\\OneDrive\\바탕 화면\\서울대\\대학원\\codes\\JPEC\\JPEC-github0708\\JPEC`\n",
      "\u001b[92m\u001b[1mPrecompiling\u001b[22m\u001b[39m project...\n",
      "  12152.0 ms\u001b[32m  ✓ \u001b[39mJPEC\n",
      "  1 dependency successfully precompiled in 17 seconds. 453 already precompiled.\n"
     ]
    },
    {
     "data": {
      "text/plain": [
       "Plots.GRBackend()"
      ]
     },
     "metadata": {},
     "output_type": "display_data"
    }
   ],
   "source": [
    "using Pkg\n",
    "Pkg.activate(\"..\") \n",
    "Pkg.instantiate()\n",
    "using JPEC, Plots\n",
    "gr() "
   ]
  },
  {
   "cell_type": "code",
   "execution_count": 2,
   "id": "94c3d4e9",
   "metadata": {},
   "outputs": [
    {
     "name": "stdout",
     "output_type": "stream",
     "text": [
      "Starting equilibrium reconstruction...\n",
      "--- Julia Equilibrium Setup ---\n",
      "Equilibrium file: beta_1.00\n",
      "Type = efit, Jac_type = boozer\n",
      "----------------------------------------\n",
      "--> Processing EFIT g-file: beta_1.00\n",
      "--> Parsed from header: nw=129, nh=128\n",
      "--> All main data blocks parsed successfully.\n",
      "--> Creating 1D profile splines...\n",
      "--> 1D Spline fitting complete.\n",
      "--> Creating 2D psi spline...\n",
      "--> 2D Spline fitting complete.\n",
      "--- Starting Direct Equilibrium Processing ---\n",
      "Finding magnetic axis...\n"
     ]
    },
    {
     "ename": "UndefVarError",
     "evalue": "UndefVarError: `bicube_eval!` not defined in `JPEC.SplinesMod`\nSuggestion: check for spelling errors or missing imports.",
     "output_type": "error",
     "traceback": [
      "UndefVarError: `bicube_eval!` not defined in `JPEC.SplinesMod`\n",
      "Suggestion: check for spelling errors or missing imports.\n",
      "\n",
      "Stacktrace:\n",
      " [1] direct_get_bfield!(bf_out::JPEC.Equilibrium.Direct.DirectBField, r::Float64, z::Float64, psi_in::JPEC.SplinesMod.BicubicSpline.BicubicSplineType, sq_in::JPEC.SplinesMod.CubicSpline.RealSplineType, psio::Float64; derivs::Int64)\n",
      "   @ JPEC.Equilibrium.Direct C:\\Users\\thlmi\\OneDrive\\바탕 화면\\서울대\\대학원\\codes\\JPEC\\JPEC-github0708\\JPEC\\src\\Equilibrium\\direct.jl:98\n",
      " [2] direct_position(psi_in::JPEC.SplinesMod.BicubicSpline.BicubicSplineType, sq_in::JPEC.SplinesMod.CubicSpline.RealSplineType, psio::Float64, ro_guess::Float64, zo_guess::Float64, rmin::Float64, rmax::Float64)\n",
      "   @ JPEC.Equilibrium.Direct C:\\Users\\thlmi\\OneDrive\\바탕 화면\\서울대\\대학원\\codes\\JPEC\\JPEC-github0708\\JPEC\\src\\Equilibrium\\direct.jl:183\n",
      " [3] direct_run(raw_profile::JPEC.Equilibrium.Types.DirectRunInput)\n",
      "   @ JPEC.Equilibrium.Direct C:\\Users\\thlmi\\OneDrive\\바탕 화면\\서울대\\대학원\\codes\\JPEC\\JPEC-github0708\\JPEC\\src\\Equilibrium\\direct.jl:447\n",
      " [4] _run_solver(input::JPEC.Equilibrium.Types.DirectRunInput)\n",
      "   @ JPEC.Equilibrium C:\\Users\\thlmi\\OneDrive\\바탕 화면\\서울대\\대학원\\codes\\JPEC\\JPEC-github0708\\JPEC\\src\\Equilibrium\\Equilibrium.jl:26\n",
      " [5] setup_equilibrium(equil_input::JPEC.Equilibrium.Types.EquilInput)\n",
      "   @ JPEC.Equilibrium C:\\Users\\thlmi\\OneDrive\\바탕 화면\\서울대\\대학원\\codes\\JPEC\\JPEC-github0708\\JPEC\\src\\Equilibrium\\Equilibrium.jl:51\n",
      " [6] top-level scope\n",
      "   @ c:\\Users\\thlmi\\OneDrive\\바탕 화면\\서울대\\대학원\\codes\\JPEC\\JPEC-github0708\\JPEC\\notebooks\\equil_test.ipynb:19"
     ]
    }
   ],
   "source": [
    "# 1. Define the input parameters for the equilibrium solver.\n",
    "#    - eq_filename: The name of the g-file we just created.\n",
    "#    - eq_type: \"efit\" for a standard g-file.\n",
    "#    - jac_type: \"boozer\" or \"hamada\" for the output coordinates.\n",
    "#    - mpsi, mtheta: Resolution of the output grid.\n",
    "equil_input = JPEC.Equilibrium.EquilInput(\n",
    "    \"beta_1.00\",        # eq_filename\n",
    "    \"efit\",          # eq_type\n",
    "    \"boozer\",        # jac_type\n",
    "    0.0,             # psilow\n",
    "    1.0,             # psihigh\n",
    "    100,             # mpsi (number of radial grid points)\n",
    "    128              # mtheta (number of poloidal grid points)\n",
    ")\n",
    "\n",
    "# 2. Run the main equilibrium setup function.\n",
    "#    This will read the file, solve the direct problem, and return the final object.\n",
    "println(\"Starting equilibrium reconstruction...\")\n",
    "plasma_eq = JPEC.Equilibrium.setup_equilibrium(equil_input)\n",
    "println(\"Equilibrium reconstruction complete.\")"
   ]
  },
  {
   "cell_type": "code",
   "execution_count": 3,
   "id": "97a529f4",
   "metadata": {},
   "outputs": [],
   "source": [
    "# The plasma_eq object contains the final 1D profile spline, `sq`.\n",
    "# We will evaluate it on a fine grid to get smooth plot lines.\n",
    "psi_norm_grid = range(0.0, 1.0, length=200)\n",
    "\n",
    "# spline_eval returns the function values (and derivatives if requested).\n",
    "# For sq, the quantities are: 1:F, 2:P*mu0, 3:Toroidal Flux, 4:q\n",
    "f_profiles = JPEC.spline_eval(plasma_eq.sq, collect(psi_norm_grid))\n",
    "\n",
    "# Extract each profile into its own variable for clarity\n",
    "F_profile      = f_profiles[:, 1]\n",
    "P_profile      = f_profiles[:, 2]\n",
    "tor_flux_prof  = f_profiles[:, 3]\n",
    "q_profile      = f_profiles[:, 4]"
   ]
  },
  {
   "cell_type": "code",
   "execution_count": 4,
   "id": "131e2883",
   "metadata": {},
   "outputs": [],
   "source": [
    "\n",
    "p = plot(layout=(2, 2), size=(900, 700), margin=5Plots.mm)\n",
    "\n",
    "# Plot 1: F = R*B_phi\n",
    "plot!(p[1], psi_norm_grid, F_profile,\n",
    "    xlabel=\"Normalized Poloidal Flux (ψ_norm)\",\n",
    "    ylabel=\"F [T⋅m]\",\n",
    "    title=\"Toroidal Field Function (F)\",\n",
    "    legend=false,\n",
    "    lw=2\n",
    ")\n",
    "\n",
    "# Plot 2: Pressure\n",
    "plot!(p[2], psi_norm_grid, P_profile,\n",
    "    xlabel=\"Normalized Poloidal Flux (ψ_norm)\",\n",
    "    ylabel=\"μ₀P [T²]\",\n",
    "    title=\"Pressure Profile\",\n",
    "    legend=false,\n",
    "    lw=2\n",
    ")\n",
    "\n",
    "# Plot 3: Safety Factor (q)\n",
    "plot!(p[3], psi_norm_grid, q_profile,\n",
    "    xlabel=\"Normalized Poloidal Flux (ψ_norm)\",\n",
    "    ylabel=\"q\",\n",
    "    title=\"Safety Factor (q) Profile\",\n",
    "    legend=false,\n",
    "    lw=2\n",
    ")\n",
    "\n",
    "# Plot 4: Toroidal Flux\n",
    "plot!(p[4], psi_norm_grid, tor_flux_prof,\n",
    "    xlabel=\"Normalized Poloidal Flux (ψ_norm)\",\n",
    "    ylabel=\"Φ / (2π)² [Wb]\",\n",
    "    title=\"Toroidal Flux Profile\",\n",
    "    legend=false,\n",
    "    lw=2\n",
    ")\n",
    "\n",
    "# Display the final plot\n",
    "p"
   ]
  },
  {
   "cell_type": "code",
   "execution_count": 5,
   "id": "d74a45e4",
   "metadata": {},
   "outputs": [],
   "source": [
    "# block 6\n",
    "# --- Plot Straight-Field-Line Angle (θ) Contours ---\n",
    "\n",
    "p_theta = contour(\n",
    "    R_grid, \n",
    "    Z_grid, \n",
    "    THETA_values_on_grid,\n",
    "    title=\"Straight-Field-Line Angle (θ) Contours\",\n",
    "    xlabel=\"R [m]\",\n",
    "    ylabel=\"Z [m]\",\n",
    "    levels=20,\n",
    "    c=:hsv,\n",
    "    colorbar_title=\"Normalized θ\",\n",
    "    aspect_ratio=:equal,\n",
    "    linewidth=1.5\n",
    ")\n",
    "\n",
    "# Mark the magnetic axis\n",
    "scatter!(p_theta, [plasma_eq.ro], [plasma_eq.zo], label=\"Magnetic Axis\", mc=:black, ms=5)\n",
    "\n",
    "display(p_theta)"
   ]
  },
  {
   "cell_type": "code",
   "execution_count": 6,
   "id": "a79bf309",
   "metadata": {},
   "outputs": [],
   "source": []
  },
  {
   "cell_type": "code",
   "execution_count": 7,
   "id": "9859d659",
   "metadata": {},
   "outputs": [],
   "source": []
  },
  {
   "cell_type": "code",
   "execution_count": 8,
   "id": "2c625a4a",
   "metadata": {},
   "outputs": [],
   "source": []
  },
  {
   "cell_type": "code",
   "execution_count": 9,
   "id": "3b359ecb",
   "metadata": {},
   "outputs": [],
   "source": []
  },
  {
   "cell_type": "code",
   "execution_count": 10,
   "id": "d8ba8174",
   "metadata": {},
   "outputs": [],
   "source": []
  }
 ],
 "metadata": {
  "kernelspec": {
   "display_name": "Julia 1.11.5",
   "language": "julia",
   "name": "julia-1.11"
  },
  "language_info": {
   "file_extension": ".jl",
   "mimetype": "application/julia",
   "name": "julia",
   "version": "1.11.5"
  }
 },
 "nbformat": 4,
 "nbformat_minor": 5
}
