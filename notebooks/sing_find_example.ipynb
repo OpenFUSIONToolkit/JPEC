{
 "cells": [
  {
   "cell_type": "code",
   "execution_count": null,
   "id": "3162f30d",
   "metadata": {},
   "outputs": [
    {
     "name": "stderr",
     "output_type": "stream",
     "text": [
      "\u001b[32m\u001b[1m  Activating\u001b[22m\u001b[39m project at `~/Github/JPEC`\n"
     ]
    },
    {
     "data": {
      "text/plain": [
       "Plots.GRBackend()"
      ]
     },
     "metadata": {},
     "output_type": "display_data"
    }
   ],
   "source": [
    "# using Pkg\n",
    "# Pkg.activate(\"..\") \n",
    "# Pkg.instantiate()\n",
    "using JPEC, Plots\n",
    "gr() "
   ]
  },
  {
   "cell_type": "code",
   "execution_count": 6,
   "id": "cbcbbf1a",
   "metadata": {},
   "outputs": [],
   "source": [
    "using LinearAlgebra\n",
    "using FFTW\n",
    "using Printf\n",
    "using Plots"
   ]
  },
  {
   "cell_type": "markdown",
   "id": "1a4b93da",
   "metadata": {},
   "source": [
    "### read Equil"
   ]
  },
  {
   "cell_type": "code",
   "execution_count": 7,
   "id": "91adefe3",
   "metadata": {},
   "outputs": [
    {
     "name": "stdout",
     "output_type": "stream",
     "text": [
      "Starting equilibrium reconstruction...\n",
      "--- Julia Equilibrium Setup ---\n",
      "Equilibrium file: beta_1.00\n",
      "Type = efit, Jac_type = boozer\n",
      "----------------------------------------\n",
      "--> Processing EFIT g-file: beta_1.00\n",
      "--> Parsed from header: nw=129, nh=128\n",
      "--> All main data blocks parsed successfully.\n",
      "--> Creating 1D profile splines...\n",
      "--> 1D Spline fitting complete.\n",
      "--> Creating 2D psi spline...\n",
      "--> 2D Spline fitting complete.\n",
      "--- Starting Direct Equilibrium Processing ---\n",
      "Finding magnetic axis...\n",
      "  Iter  1: R = 3.115238, Z = 0.000008, |ΔR|=1.15e-01, |ΔZ|=1.11e-05\n",
      "  Iter  2: R = 3.117635, Z = -0.000003, |ΔR|=2.40e-03, |ΔZ|=1.10e-05\n",
      "  Iter  3: R = 3.117636, Z = -0.000003, |ΔR|=1.07e-06, |ΔZ|=1.04e-09\n",
      "  Iter  4: R = 3.117636, Z = -0.000003, |ΔR|=2.12e-13, |ΔZ|=5.62e-16\n",
      "Magnetic axis found at R=3.1176357129137466, Z=-2.9184696943092166e-6.\n",
      "Finding inboard separatrix crossing...\n",
      "  Restart attempt 1/6 with initial R = 2.675802\n",
      "inboard separatrix found at R=1.5000175239830411.\n",
      "Finding outboard separatrix crossing...\n",
      "  Restart attempt 1/6 with initial R = 3.500684\n",
      "outboard separatrix found at R=4.499995001114418.\n",
      "Starting loop over flux surfaces...\n",
      "--> Processing surface ipsi = 100 / 100 (ψ_norm = 1.0000)\n",
      "--> Processing surface ipsi = 99 / 100 (ψ_norm = 0.9998)\n",
      "--> Processing surface ipsi = 98 / 100 (ψ_norm = 0.9990)\n",
      "--> Processing surface ipsi = 97 / 100 (ψ_norm = 0.9978)\n",
      "--> Processing surface ipsi = 96 / 100 (ψ_norm = 0.9961)\n",
      "--> Processing surface ipsi = 95 / 100 (ψ_norm = 0.9939)\n",
      "--> Processing surface ipsi = 94 / 100 (ψ_norm = 0.9912)\n",
      "--> Processing surface ipsi = 93 / 100 (ψ_norm = 0.9881)\n",
      "--> Processing surface ipsi = 92 / 100 (ψ_norm = 0.9844)\n",
      "--> Processing surface ipsi = 91 / 100 (ψ_norm = 0.9803)\n",
      "--> Processing surface ipsi = 90 / 100 (ψ_norm = 0.9758)\n",
      "--> Processing surface ipsi = 89 / 100 (ψ_norm = 0.9707)\n",
      "--> Processing surface ipsi = 88 / 100 (ψ_norm = 0.9652)\n",
      "--> Processing surface ipsi = 87 / 100 (ψ_norm = 0.9593)\n",
      "--> Processing surface ipsi = 86 / 100 (ψ_norm = 0.9529)\n",
      "--> Processing surface ipsi = 85 / 100 (ψ_norm = 0.9460)\n",
      "--> Processing surface ipsi = 84 / 100 (ψ_norm = 0.9388)\n",
      "--> Processing surface ipsi = 83 / 100 (ψ_norm = 0.9311)\n",
      "--> Processing surface ipsi = 82 / 100 (ψ_norm = 0.9229)\n",
      "--> Processing surface ipsi = 81 / 100 (ψ_norm = 0.9144)\n",
      "--> Processing surface ipsi = 80 / 100 (ψ_norm = 0.9055)\n",
      "--> Processing surface ipsi = 79 / 100 (ψ_norm = 0.8961)\n",
      "--> Processing surface ipsi = 78 / 100 (ψ_norm = 0.8864)\n",
      "--> Processing surface ipsi = 77 / 100 (ψ_norm = 0.8763)\n",
      "--> Processing surface ipsi = 76 / 100 (ψ_norm = 0.8658)\n",
      "--> Processing surface ipsi = 75 / 100 (ψ_norm = 0.8550)\n",
      "--> Processing surface ipsi = 74 / 100 (ψ_norm = 0.8439)\n",
      "--> Processing surface ipsi = 73 / 100 (ψ_norm = 0.8323)\n",
      "--> Processing surface ipsi = 72 / 100 (ψ_norm = 0.8205)\n",
      "--> Processing surface ipsi = 71 / 100 (ψ_norm = 0.8084)\n",
      "--> Processing surface ipsi = 70 / 100 (ψ_norm = 0.7960)\n",
      "--> Processing surface ipsi = 69 / 100 (ψ_norm = 0.7832)\n",
      "--> Processing surface ipsi = 68 / 100 (ψ_norm = 0.7702)\n",
      "--> Processing surface ipsi = 67 / 100 (ψ_norm = 0.7570)\n",
      "--> Processing surface ipsi = 66 / 100 (ψ_norm = 0.7435)\n",
      "--> Processing surface ipsi = 65 / 100 (ψ_norm = 0.7297)\n",
      "--> Processing surface ipsi = 64 / 100 (ψ_norm = 0.7158)\n",
      "--> Processing surface ipsi = 63 / 100 (ψ_norm = 0.7016)\n",
      "--> Processing surface ipsi = 62 / 100 (ψ_norm = 0.6872)\n",
      "--> Processing surface ipsi = 61 / 100 (ψ_norm = 0.6727)\n",
      "--> Processing surface ipsi = 60 / 100 (ψ_norm = 0.6580)\n",
      "--> Processing surface ipsi = 59 / 100 (ψ_norm = 0.6431)\n",
      "--> Processing surface ipsi = 58 / 100 (ψ_norm = 0.6281)\n",
      "--> Processing surface ipsi = 57 / 100 (ψ_norm = 0.6130)\n",
      "--> Processing surface ipsi = 56 / 100 (ψ_norm = 0.5978)\n",
      "--> Processing surface ipsi = 55 / 100 (ψ_norm = 0.5824)\n",
      "--> Processing surface ipsi = 54 / 100 (ψ_norm = 0.5670)\n",
      "--> Processing surface ipsi = 53 / 100 (ψ_norm = 0.5516)\n",
      "--> Processing surface ipsi = 52 / 100 (ψ_norm = 0.5361)\n",
      "--> Processing surface ipsi = 51 / 100 (ψ_norm = 0.5205)\n",
      "--> Processing surface ipsi = 50 / 100 (ψ_norm = 0.5050)\n",
      "--> Processing surface ipsi = 49 / 100 (ψ_norm = 0.4895)\n",
      "--> Processing surface ipsi = 48 / 100 (ψ_norm = 0.4739)\n",
      "--> Processing surface ipsi = 47 / 100 (ψ_norm = 0.4584)\n",
      "--> Processing surface ipsi = 46 / 100 (ψ_norm = 0.4430)\n",
      "--> Processing surface ipsi = 45 / 100 (ψ_norm = 0.4276)\n",
      "--> Processing surface ipsi = 44 / 100 (ψ_norm = 0.4122)\n",
      "--> Processing surface ipsi = 43 / 100 (ψ_norm = 0.3970)\n",
      "--> Processing surface ipsi = 42 / 100 (ψ_norm = 0.3819)\n",
      "--> Processing surface ipsi = 41 / 100 (ψ_norm = 0.3669)\n",
      "--> Processing surface ipsi = 40 / 100 (ψ_norm = 0.3520)\n",
      "--> Processing surface ipsi = 39 / 100 (ψ_norm = 0.3373)\n",
      "--> Processing surface ipsi = 38 / 100 (ψ_norm = 0.3228)\n",
      "--> Processing surface ipsi = 37 / 100 (ψ_norm = 0.3084)\n",
      "--> Processing surface ipsi = 36 / 100 (ψ_norm = 0.2942)\n",
      "--> Processing surface ipsi = 35 / 100 (ψ_norm = 0.2803)\n",
      "--> Processing surface ipsi = 34 / 100 (ψ_norm = 0.2665)\n",
      "--> Processing surface ipsi = 33 / 100 (ψ_norm = 0.2530)\n",
      "--> Processing surface ipsi = 32 / 100 (ψ_norm = 0.2398)\n",
      "--> Processing surface ipsi = 31 / 100 (ψ_norm = 0.2268)\n",
      "--> Processing surface ipsi = 30 / 100 (ψ_norm = 0.2140)\n",
      "--> Processing surface ipsi = 29 / 100 (ψ_norm = 0.2016)\n",
      "--> Processing surface ipsi = 28 / 100 (ψ_norm = 0.1895)\n",
      "--> Processing surface ipsi = 27 / 100 (ψ_norm = 0.1777)\n",
      "--> Processing surface ipsi = 26 / 100 (ψ_norm = 0.1661)\n",
      "--> Processing surface ipsi = 25 / 100 (ψ_norm = 0.1550)\n",
      "--> Processing surface ipsi = 24 / 100 (ψ_norm = 0.1442)\n",
      "--> Processing surface ipsi = 23 / 100 (ψ_norm = 0.1337)\n",
      "--> Processing surface ipsi = 22 / 100 (ψ_norm = 0.1236)\n",
      "--> Processing surface ipsi = 21 / 100 (ψ_norm = 0.1139)\n",
      "--> Processing surface ipsi = 20 / 100 (ψ_norm = 0.1045)\n",
      "--> Processing surface ipsi = 19 / 100 (ψ_norm = 0.0956)\n",
      "--> Processing surface ipsi = 18 / 100 (ψ_norm = 0.0871)\n",
      "--> Processing surface ipsi = 17 / 100 (ψ_norm = 0.0789)\n",
      "--> Processing surface ipsi = 16 / 100 (ψ_norm = 0.0712)\n",
      "--> Processing surface ipsi = 15 / 100 (ψ_norm = 0.0640)\n",
      "--> Processing surface ipsi = 14 / 100 (ψ_norm = 0.0571)\n",
      "--> Processing surface ipsi = 13 / 100 (ψ_norm = 0.0507)\n",
      "--> Processing surface ipsi = 12 / 100 (ψ_norm = 0.0448)\n",
      "--> Processing surface ipsi = 11 / 100 (ψ_norm = 0.0393)\n",
      "--> Processing surface ipsi = 10 / 100 (ψ_norm = 0.0342)\n",
      "--> Processing surface ipsi = 9 / 100 (ψ_norm = 0.0297)\n",
      "--> Processing surface ipsi = 8 / 100 (ψ_norm = 0.0256)\n",
      "--> Processing surface ipsi = 7 / 100 (ψ_norm = 0.0219)\n",
      "--> Processing surface ipsi = 6 / 100 (ψ_norm = 0.0188)\n",
      "--> Processing surface ipsi = 5 / 100 (ψ_norm = 0.0161)\n",
      "--> Processing surface ipsi = 4 / 100 (ψ_norm = 0.0139)\n",
      "--> Processing surface ipsi = 3 / 100 (ψ_norm = 0.0122)\n",
      "--> Processing surface ipsi = 2 / 100 (ψ_norm = 0.0110)\n",
      "--> Processing surface ipsi = 1 / 100 (ψ_norm = 0.0102)\n",
      "--> Processing surface ipsi = 0 / 100 (ψ_norm = 0.0100)\n",
      "...Loop over flux surfaces finished.\n",
      "Final geometric spline 'rzphi' is fitted.\n",
      "Calculating final physics quantities (B, g_ij)...\n",
      "...done.\n",
      "--- Direct Equilibrium Processing Finished ---\n",
      "--- Equilibrium Setup Complete ---\n",
      "Equilibrium reconstruction complete.\n"
     ]
    }
   ],
   "source": [
    "# 1. Define the input parameters for the equilibrium solver.\n",
    "#    - eq_filename: The name of the g-file we just created.\n",
    "#    - eq_type: \"efit\" for a standard g-file.\n",
    "#    - jac_type: \"boozer\" or \"hamada\" for the output coordinates.\n",
    "#    - mpsi, mtheta: Resolution of the output grid.\n",
    "equil_input = JPEC.Equilibrium.EquilInput(\n",
    "    \"beta_1.00\",        # eq_filename\n",
    "    \"efit\",          # eq_type\n",
    "    \"boozer\",        # jac_type\n",
    "    0.01,             # psilow\n",
    "    1.0,             # psihigh\n",
    "    100,             # mpsi (number of radial grid points)\n",
    "    128              # mtheta (number of poloidal grid points)\n",
    ")\n",
    "\n",
    "# 2. Run the main equilibrium setup function.\n",
    "#    This will read the file, solve the direct problem, and return the final object.\n",
    "println(\"Starting equilibrium reconstruction...\")\n",
    "plasma_eq = JPEC.Equilibrium.setup_equilibrium(equil_input)\n",
    "println(\"Equilibrium reconstruction complete.\")"
   ]
  },
  {
   "cell_type": "markdown",
   "id": "c34090af",
   "metadata": {},
   "source": [
    "### Use spline_eval \n",
    "sq!!"
   ]
  },
  {
   "cell_type": "code",
   "execution_count": null,
   "id": "9fc11a8e",
   "metadata": {},
   "outputs": [],
   "source": [
    "# The plasma_eq object contains the final 1D profile spline, `sq`.\n",
    "# We will evaluate it on a fine grid to get smooth plot lines.\n",
    "psi_norm_grid = range(0.0, 1.0, length=200)\n",
    "\n",
    "# spline_eval returns the function values (and derivatives if requested).\n",
    "# For sq, the quantities are: 1:F, 2:P*mu0, 3:Toroidal Flux, 4:q\n",
    "f_profiles = JPEC.SplinesMod.spline_eval(plasma_eq., collect(psi_norm_grid))\n",
    "\n",
    "# Extract each profile into its own variable for clarity\n",
    "F_profile      = f_profiles[:, 1]\n",
    "P_profile      = f_profiles[:, 2]\n",
    "tor_flux_prof  = f_profiles[:, 3]\n",
    "q_profile      = f_profiles[:, 4];"
   ]
  },
  {
   "cell_type": "code",
   "execution_count": 55,
   "id": "98c9a307",
   "metadata": {},
   "outputs": [
    {
     "data": {
      "text/plain": [
       "10.16821181688277"
      ]
     },
     "metadata": {},
     "output_type": "display_data"
    }
   ],
   "source": [
    "JPEC.SplinesMod.spline_eval(plasma_eq.sq, psi_norm_grid[10])[4]"
   ]
  },
  {
   "cell_type": "code",
   "execution_count": 113,
   "id": "ded14b61",
   "metadata": {},
   "outputs": [
    {
     "data": {
      "text/plain": [
       "sing_find"
      ]
     },
     "metadata": {},
     "output_type": "display_data"
    }
   ],
   "source": [
    "\"\"\"\n",
    "sing_find(mex, nn, plasma_eq; itmax=200, nsing=1000)\n",
    "\n",
    "Finds rational surfaces (where m = n*q) in a plasma equilibrium profile.\n",
    "- Uses binary search between intervals defined in psi.\n",
    "- Returns NamedTuples with (m, q, q1, psifac, rho).\n",
    "\n",
    "Arguments:\n",
    "  mex::Int           : Number of q profile intervals/extrema (count + 1; e.g. length of qex and psiex)\n",
    "  nn::Int            : n-number (toroidal mode)\n",
    "  plasma_eq          : Should support, e.g., JPEC.SplinesMod.spline_eval(plasma_eq.sq, psi, deriv)\n",
    "  itmax::Int         : Maximum number of bisection steps (default 200)\n",
    "  nsing::Int         : Max number of rational surfaces (default 1000)\n",
    "Returns:\n",
    "  surfaces::Vector{NamedTuple}\n",
    "\"\"\"\n",
    "function sing_find(mex, nn, plasma_eq; itmax=200, nsing=1000)\n",
    "    # Setup storage for the singular surfaces found\n",
    "    surfaces = NamedTuple[]\n",
    "    # Choose a set of search points for psi (resolution much higher than number of extrema!)\n",
    "    psigrid = range(0.0, 1.0, length=200) |> collect\n",
    "\n",
    "    # Evaluate q(psi) at all grid points\n",
    "    qvals = [JPEC.SplinesMod.spline_eval(plasma_eq.sq, psi, 0)[4] for psi in psigrid]\n",
    "\n",
    "    # Loop over intervals (each extrema is a pair of adjacent grid points)\n",
    "    for iex in 2:mex\n",
    "        \n",
    "        # For each interval between psi[i-1] and psi[i]:\n",
    "        # --- Find the values at endpoints\n",
    "        psi0, psi1 = psigrid[iex-1], psigrid[iex]\n",
    "        q0,   q1   = qvals[iex-1], qvals[iex]\n",
    "        dq = q1 - q0\n",
    "\n",
    "        println(\"Processing interval $iex: psi0=$(psi0), psi1=$(psi1), q0=$(q0), q1=$(q1), dq=$(dq)\")\n",
    "\n",
    "        # Skip intervals with no range or (dangerously) no sign change\n",
    "        if abs(dq) < 1e-10\n",
    "            continue\n",
    "        end\n",
    "        \n",
    "        # Compute m at psi0 for this interval, follow DCON convention for m and step direction dm\n",
    "        m = round(Int, nn * q0)\n",
    "        if dq > 0\n",
    "            m += 1\n",
    "        end\n",
    "        dm = sign(dq * nn)\n",
    "        \n",
    "        # The interval in m values: as long as m is between m0=nn*q0 and m1=nn*q1 (inclusive):\n",
    "        while (m - nn * q0)*(m - nn * q1) <= 0            # while m is in [nn*q0, nn*q1]\n",
    "            # Root-finding for this m: search psi in [psi0, psi1] where m = nn * q(psi)\n",
    "            low, high = psi0, psi1        # bisection interval\n",
    "            it = 0\n",
    "            found = false\n",
    "            # Bisection to solve m = nn*q(psi)\n",
    "            while it < itmax\n",
    "                it += 1\n",
    "                mid = 0.5*(low+high)\n",
    "                qmid = JPEC.SplinesMod.spline_eval(plasma_eq.sq, mid, 0)[4]\n",
    "                singfac = (m - nn*qmid)*dm\n",
    "                # Root cross found if singfac nearly zero\n",
    "                if abs(singfac) < 1e-12\n",
    "                    found = true\n",
    "                    break\n",
    "                # Decide which half to keep\n",
    "                elseif singfac > 0\n",
    "                    low = mid\n",
    "                else\n",
    "                    high = mid\n",
    "                end\n",
    "                # If width is tiny, accept\n",
    "                if abs(high-low) < 1e-12\n",
    "                    found = true\n",
    "                    break\n",
    "                end\n",
    "            end\n",
    "            if !found\n",
    "                @warn \"sing_find: bisection did not converge for m=$m in [psi=$(low),psi=$(high)]\"\n",
    "                break\n",
    "            end\n",
    "\n",
    "            # Evaluate q' (derivative) at the found surface\n",
    "            q1val = JPEC.SplinesMod.spline_eval(plasma_eq.sq, mid, 1)[4]\n",
    "\n",
    "            # Store this singular surface\n",
    "            push!(surfaces, (\n",
    "                m       = m,\n",
    "                q       = m/nn,\n",
    "                q1      = q1val,\n",
    "                psifac  = mid,\n",
    "                rho     = sqrt(mid)\n",
    "            ))\n",
    "            # If we reach nsing, bail out\n",
    "            if length(surfaces) >= nsing\n",
    "                @warn \"sing_find: reached nsing=$nsing surfaces, stopping early.\"\n",
    "                return surfaces\n",
    "            end\n",
    "            # Move to next m in direction dm\n",
    "            m += dm\n",
    "        end\n",
    "    end\n",
    "    return surfaces\n",
    "end"
   ]
  },
  {
   "cell_type": "code",
   "execution_count": 114,
   "id": "3899bb00",
   "metadata": {},
   "outputs": [
    {
     "name": "stdout",
     "output_type": "stream",
     "text": [
      "Processing interval 2: psi0=0.0, psi1=0.005025125628140704, q0=10.117814093315939, q1=10.18941109902143, dq=0.07159700570549177\n",
      "Processing interval 3: psi0=0.005025125628140704, psi1=0.010050251256281407, q0=10.18941109902143, q1=10.1970473696912, dq=0.007636270669769019\n",
      "Processing interval 4: psi0=0.010050251256281407, psi1=0.01507537688442211, q0=10.1970473696912, q1=10.192122777369232, dq=-0.004924592321968291\n",
      "Processing interval 5: psi0=0.01507537688442211, psi1=0.020100502512562814, q0=10.192122777369232, q1=10.187786602670085, dq=-0.004336174699146156\n",
      "Processing interval 6: psi0=0.020100502512562814, psi1=0.02512562814070352, q0=10.187786602670085, q1=10.183322591217255, dq=-0.004464011452830263\n",
      "Processing interval 7: psi0=0.02512562814070352, psi1=0.03015075376884422, q0=10.183322591217255, q1=10.179364571781797, dq=-0.003958019435458482\n",
      "Processing interval 8: psi0=0.03015075376884422, psi1=0.035175879396984924, q0=10.179364571781797, q1=10.175409279374447, dq=-0.003955292407349376\n",
      "Processing interval 9: psi0=0.035175879396984924, psi1=0.04020100502512563, q0=10.175409279374447, q1=10.17159788305277, dq=-0.0038113963216765967\n",
      "Processing interval 10: psi0=0.04020100502512563, psi1=0.04522613065326633, q0=10.17159788305277, q1=10.16821181688277, dq=-0.003386066170000035\n",
      "Processing interval 11: psi0=0.04522613065326633, psi1=0.05025125628140704, q0=10.16821181688277, q1=10.16477086183185, dq=-0.003440955050921346\n",
      "Processing interval 12: psi0=0.05025125628140704, psi1=0.05527638190954774, q0=10.16477086183185, q1=10.161581250740676, dq=-0.0031896110911731057\n",
      "Processing interval 13: psi0=0.05527638190954774, psi1=0.06030150753768844, q0=10.161581250740676, q1=10.15866021260958, dq=-0.0029210381310953437\n",
      "Processing interval 14: psi0=0.06030150753768844, psi1=0.06532663316582915, q0=10.15866021260958, q1=10.15589284609892, dq=-0.0027673665106604517\n",
      "Processing interval 15: psi0=0.06532663316582915, psi1=0.07035175879396985, q0=10.15589284609892, q1=10.15326538043971, dq=-0.0026274656592111256\n",
      "Processing interval 16: psi0=0.07035175879396985, psi1=0.07537688442211055, q0=10.15326538043971, q1=10.150886790075882, dq=-0.002378590363827371\n",
      "Processing interval 17: psi0=0.07537688442211055, psi1=0.08040201005025126, q0=10.150886790075882, q1=10.148699703223707, dq=-0.0021870868521745024\n",
      "Processing interval 18: psi0=0.08040201005025126, psi1=0.08542713567839195, q0=10.148699703223707, q1=10.146657210996882, dq=-0.0020424922268258427\n",
      "Processing interval 19: psi0=0.08542713567839195, psi1=0.09045226130653267, q0=10.146657210996882, q1=10.144850971732863, dq=-0.001806239264018572\n",
      "Processing interval 20: psi0=0.09045226130653267, psi1=0.09547738693467336, q0=10.144850971732863, q1=10.143258168106504, dq=-0.0015928036263588297\n"
     ]
    },
    {
     "data": {
      "text/plain": [
       "NamedTuple[]"
      ]
     },
     "metadata": {},
     "output_type": "display_data"
    }
   ],
   "source": [
    "sing_find(20, 1, plasma_eq)"
   ]
  },
  {
   "cell_type": "code",
   "execution_count": null,
   "id": "fea33c45",
   "metadata": {},
   "outputs": [],
   "source": []
  }
 ],
 "metadata": {
  "kernelspec": {
   "display_name": "Julia 1.11.5",
   "language": "julia",
   "name": "julia-1.11"
  },
  "language_info": {
   "file_extension": ".jl",
   "mimetype": "application/julia",
   "name": "julia",
   "version": "1.11.5"
  }
 },
 "nbformat": 4,
 "nbformat_minor": 5
}
