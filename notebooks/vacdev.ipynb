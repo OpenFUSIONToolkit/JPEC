{
 "cells": [
  {
   "cell_type": "code",
   "execution_count": 1,
   "id": "d11e5382",
   "metadata": {},
   "outputs": [
    {
     "name": "stderr",
     "output_type": "stream",
     "text": [
      "\u001b[32m\u001b[1m  Activating\u001b[22m\u001b[39m project at `~/Projects/GPEC_dev/julia/JPEC.worktrees/unit_tests`\n",
      "\u001b[92m\u001b[1mPrecompiling\u001b[22m\u001b[39m project...\n",
      "   4554.9 ms\u001b[32m  ✓ \u001b[39mJPEC\n",
      "  1 dependency successfully precompiled in 5 seconds. 181 already precompiled.\n",
      "  \u001b[33m1\u001b[39m dependency had output during precompilation:\u001b[33m\n",
      "┌ \u001b[39mJPEC\u001b[33m\n",
      "│  \u001b[39mgfortran -fPIC -frecursive -c defs.f -o defs.o\u001b[33m\n",
      "│  \u001b[39mgfortran -fPIC -frecursive -c spline.f -o spline.o\u001b[33m\n",
      "│  \u001b[39mgfortran -fPIC -frecursive -c cspline.f -o cspline.o\u001b[33m\n",
      "│  \u001b[39mgfortran -fPIC -frecursive -c bicube.f -o bicube.o\u001b[33m\n",
      "│  \u001b[39mgfortran -fPIC -frecursive -c spline_c_api.f -o spline_c_api.o\u001b[33m\n",
      "│  \u001b[39mgfortran -shared -o libspline.dylib defs.o spline.o cspline.o bicube.o spline_c_api.o -framework Accelerate\u001b[33m\n",
      "│  \u001b[39mmv libspline.dylib ../../../deps/\u001b[33m\n",
      "│  \u001b[39m\u001b[36m\u001b[1m[ \u001b[22m\u001b[39m\u001b[36m\u001b[1mInfo: \u001b[22m\u001b[39mSplines-fortran compiled well\u001b[33m\n",
      "│  \u001b[39mgfortran -fPIC -finit-local-zero -frecursive -std=legacy -c vacuum_global.f -o vacuum_global.o\u001b[33m\n",
      "│  \u001b[39mcc    -c -o bzio.o bzio.c\u001b[33m\n",
      "│  \u001b[39mgfortran -fPIC -finit-local-zero -frecursive -std=legacy -c aleg_new.f -o aleg_new.o\u001b[33m\n",
      "│  \u001b[39mgfortran -fPIC -finit-local-zero -frecursive -std=legacy -c vacuum_io.f -o vacuum_io.o\u001b[33m\n",
      "│  \u001b[39mgfortran -fPIC -finit-local-zero -frecursive -std=legacy -c vacuum_ma.f -o vacuum_ma.o\u001b[33m\n",
      "│  \u001b[39mgfortran -fPIC -finit-local-zero -frecursive -std=legacy -c vacuum_math.f -o vacuum_math.o\u001b[33m\n",
      "│  \u001b[39mgfortran -fPIC -finit-local-zero -frecursive -std=legacy -c vacuum_penn.f -o vacuum_penn.o\u001b[33m\n",
      "│  \u001b[39mgfortran -fPIC -finit-local-zero -frecursive -std=legacy -c vacuum_sprk2.f -o vacuum_sprk2.o\u001b[33m\n",
      "│  \u001b[39mgfortran -fPIC -finit-local-zero -frecursive -std=legacy -c vacuum_ut.f -o vacuum_ut.o\u001b[33m\n",
      "│  \u001b[39mgfortran -fPIC -finit-local-zero -frecursive -std=legacy -c vacuum_vac.f -o vacuum_vac.o\u001b[33m\n",
      "│  \u001b[39mvacuum_vac.f:578:24:\u001b[33m\n",
      "│  \u001b[39m\u001b[33m\n",
      "│  \u001b[39m  578 |          call zwr(iovac,rmatr,mtots,1,lgivup,999)\u001b[33m\n",
      "│  \u001b[39m      |                        1\u001b[33m\n",
      "│  \u001b[39m......\u001b[33m\n",
      "│  \u001b[39m 2442 |       call zwr(iovac,real(lmn,r8),1,nadres,lgivup,999)\u001b[33m\n",
      "│  \u001b[39m      |                     2   \u001b[33m\n",
      "│  \u001b[39mWarning: Rank mismatch between actual argument at (1) and actual argument at (2) (scalar and rank-2)\u001b[33m\n",
      "│  \u001b[39mgfortran -shared -o libvac.dylib bzio.o aleg_new.o vacuum_global.o vacuum_io.o vacuum_ma.o vacuum_math.o vacuum_penn.o vacuum_sprk2.o vacuum_ut.o vacuum_vac.o -framework Accelerate\u001b[33m\n",
      "│  \u001b[39mmv libvac.dylib ../../../deps/\u001b[33m\n",
      "│  \u001b[39m\u001b[36m\u001b[1m[ \u001b[22m\u001b[39m\u001b[36m\u001b[1mInfo: \u001b[22m\u001b[39mVacuum-fortran compiled well\u001b[33m\n",
      "│  \u001b[39m\u001b[36m\u001b[1m[ \u001b[22m\u001b[39m\u001b[36m\u001b[1mInfo: \u001b[22m\u001b[39mAll Fortran builds succeeded!\u001b[33m\n",
      "└  \u001b[39m\n"
     ]
    }
   ],
   "source": [
    "using Pkg\n",
    "Pkg.activate(\"..\")\n",
    "Pkg.instantiate()\n",
    "using JPEC, Plots"
   ]
  },
  {
   "cell_type": "code",
   "execution_count": 2,
   "id": "7762f2e4",
   "metadata": {},
   "outputs": [
    {
     "data": {
      "text/plain": [
       "false"
      ]
     },
     "metadata": {},
     "output_type": "display_data"
    }
   ],
   "source": [
    "# Detect OS\n",
    "is_linux   = Sys.islinux()\n",
    "is_macos   = Sys.isapple()\n",
    "is_windows = Sys.iswindows()"
   ]
  },
  {
   "cell_type": "code",
   "execution_count": 3,
   "id": "a6abcbea",
   "metadata": {},
   "outputs": [
    {
     "data": {
      "text/plain": [
       "(false, true, false)"
      ]
     },
     "metadata": {},
     "output_type": "display_data"
    }
   ],
   "source": [
    "is_linux, is_macos, is_windows"
   ]
  }
 ],
 "metadata": {
  "kernelspec": {
   "display_name": "Julia 1.11.4",
   "language": "julia",
   "name": "julia-1.11"
  },
  "language_info": {
   "file_extension": ".jl",
   "mimetype": "application/julia",
   "name": "julia",
   "version": "1.11.4"
  }
 },
 "nbformat": 4,
 "nbformat_minor": 5
}
