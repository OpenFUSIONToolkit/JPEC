{
 "cells": [
  {
   "cell_type": "code",
   "execution_count": 1,
   "id": "d11e5382",
   "metadata": {},
   "outputs": [
    {
     "name": "stderr",
     "output_type": "stream",
     "text": [
      "\u001b[32m\u001b[1m  Activating\u001b[22m\u001b[39m project at `~/Desktop/code/GPEC_hackaton/JPEC`\n"
     ]
    }
   ],
   "source": [
    "using Pkg\n",
    "Pkg.activate(\"..\")\n",
    "Pkg.instantiate()\n",
    "using JPEC, Plots"
   ]
  },
  {
   "cell_type": "code",
   "execution_count": 2,
   "id": "7762f2e4",
   "metadata": {},
   "outputs": [
    {
     "data": {
      "text/plain": [
       "false"
      ]
     },
     "execution_count": 2,
     "metadata": {},
     "output_type": "execute_result"
    }
   ],
   "source": [
    "# Detect OS\n",
    "is_linux   = Sys.islinux()\n",
    "is_macos   = Sys.isapple()\n",
    "is_windows = Sys.iswindows()"
   ]
  },
  {
   "cell_type": "code",
   "execution_count": 3,
   "id": "a6abcbea",
   "metadata": {},
   "outputs": [
    {
     "data": {
      "text/plain": [
       "(false, true, false)"
      ]
     },
     "execution_count": 3,
     "metadata": {},
     "output_type": "execute_result"
    }
   ],
   "source": [
    "is_linux, is_macos, is_windows"
   ]
  },
  {
   "cell_type": "code",
   "execution_count": 4,
   "id": "2139c5fa",
   "metadata": {},
   "outputs": [
    {
     "name": "stdout",
     "output_type": "stream",
     "text": [
      "Testing set_dcon_params…\n",
      "set_dcon_params OK!\n"
     ]
    }
   ],
   "source": [
    "\n",
    "mthin, lmin, lmax, nnin = Int32(4), Int32(1), Int32(4), Int32(2)\n",
    "qa1in = 1.23\n",
    "xin = rand(Float64, lmax - lmin + 1)\n",
    "zin = rand(Float64, lmax - lmin + 1)\n",
    "deltain = rand(Float64, lmax - lmin + 1)\n",
    "\n",
    "println(\"Testing set_dcon_params…\")\n",
    "JPEC.VacuumMod.set_dcon_params(mthin, lmin, lmax, nnin, qa1in, xin, zin, deltain)\n",
    "println(\"set_dcon_params OK!\")\n",
    "\n"
   ]
  },
  {
   "cell_type": "code",
   "execution_count": null,
   "id": "91d8cd04",
   "metadata": {},
   "outputs": [],
   "source": [
    "# mscvac sample variables\n",
    "mpert    = Int32(3)\n",
    "mtheta   = Int32(3)\n",
    "mthvac   = Int32(3)\n",
    "wv       = zeros(ComplexF64, mpert, mpert)        \n",
    "complex_flag = true                               \n",
    "kernelsignin = 2.0\n",
    "wall_flag    = false\n",
    "farwal_flag  = true\n",
    "grrio    = rand(Float64, 2*(mthvac+5), mpert*2)  \n",
    "xzptso   = rand(Float64, mthvac+5, 4)             \n",
    "op_ahgfile = \"ahg_testfile.out\"                  \n",
    "\n",
    "println(\"Testing mscvac…\")\n",
    "JPEC.VacuumMod.mscvac(\n",
    "    wv, mpert, mtheta, mthvac,\n",
    "    complex_flag, kernelsignin,\n",
    "    wall_flag, farwal_flag,\n",
    "    grrio, xzptso, op_ahgfile\n",
    ")\n",
    "println(\"mscvac OK!\")\n"
   ]
  },
  {
   "cell_type": "code",
   "execution_count": null,
   "id": "461f4991",
   "metadata": {},
   "outputs": [],
   "source": []
  }
 ],
 "metadata": {
  "kernelspec": {
   "display_name": "Julia 1.11.4",
   "language": "julia",
   "name": "julia-1.11"
  },
  "language_info": {
   "file_extension": ".jl",
   "mimetype": "application/julia",
   "name": "julia",
   "version": "1.11.4"
  }
 },
 "nbformat": 4,
 "nbformat_minor": 5
}
