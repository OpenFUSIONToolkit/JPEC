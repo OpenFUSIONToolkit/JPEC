{
 "cells": [
  {
   "cell_type": "code",
   "execution_count": 1,
   "id": "d11e5382",
   "metadata": {},
   "outputs": [
    {
     "name": "stderr",
     "output_type": "stream",
     "text": [
      "\u001b[32m\u001b[1m  Activating\u001b[22m\u001b[39m project at `/private/tmp/pharr/JPEC.worktrees/vacuum_fortran`\n"
     ]
    }
   ],
   "source": [
    "using Pkg\n",
    "Pkg.activate(\"..\")\n",
    "Pkg.instantiate()\n",
    "using JPEC, Plots"
   ]
  },
  {
   "cell_type": "code",
   "execution_count": 2,
   "id": "2139c5fa",
   "metadata": {},
   "outputs": [
    {
     "name": "stdout",
     "output_type": "stream",
     "text": [
      "Testing set_dcon_params…\n",
      "set_dcon_params OK!\n"
     ]
    }
   ],
   "source": [
    "# Set dcon parameters\n",
    "# Copy ../test/vac.in to notebooks/vac.in if it doesn't exist\n",
    "if !isfile(\"../notebooks/vac.in\")\n",
    "    cp(\"../test/vac.in\", \"../notebooks/vac.in\")\n",
    "end\n",
    "\n",
    "mthin, lmin, lmax, nnin = Int32(4), Int32(1), Int32(4), Int32(2)\n",
    "qa1in = 1.23\n",
    "xin = rand(Float64, lmax - lmin + 1)\n",
    "zin = rand(Float64, lmax - lmin + 1)\n",
    "deltain = rand(Float64, lmax - lmin + 1)\n",
    "\n",
    "println(\"Testing set_dcon_params…\")\n",
    "JPEC.VacuumMod.set_dcon_params(mthin, lmin, lmax, nnin, qa1in, xin, zin, deltain)\n",
    "println(\"set_dcon_params OK!\")"
   ]
  },
  {
   "cell_type": "code",
   "execution_count": 3,
   "id": "91d8cd04",
   "metadata": {},
   "outputs": [
    {
     "name": "stdout",
     "output_type": "stream",
     "text": [
      "Testing mscvac…\n",
      "   > Vacuum code overriding r 1.00E+00 from vac.in, to be 0\n",
      "mscvac OK!\n"
     ]
    }
   ],
   "source": [
    "# Run mscvac with sample variables\n",
    "# mscvac sample variables\n",
    "mpert    = Int32(5)\n",
    "mtheta   = Int32(256)\n",
    "mthvac   = Int32(256)\n",
    "wv       = zeros(ComplexF64, mpert, mpert)        \n",
    "complex_flag = true                               \n",
    "kernelsignin = -1.0\n",
    "wall_flag    = false\n",
    "farwal_flag  = true\n",
    "grrio    = rand(Float64, 2*(mthvac+5), mpert*2)  \n",
    "xzptso   = rand(Float64, mthvac+5, 4)             \n",
    "op_ahgfile = \"aaaa\"                  \n",
    "\n",
    "println(\"Testing mscvac…\")\n",
    "JPEC.VacuumMod.mscvac(\n",
    "    wv, mpert, mtheta, mthvac,\n",
    "    complex_flag, kernelsignin,\n",
    "    wall_flag, farwal_flag,\n",
    "    grrio, xzptso, op_ahgfile\n",
    ")\n",
    "println(\"mscvac OK!\")\n"
   ]
  },
  {
   "cell_type": "code",
   "execution_count": 4,
   "id": "461f4991",
   "metadata": {},
   "outputs": [
    {
     "data": {
      "text/plain": [
       "5×5 Matrix{ComplexF64}:\n",
       "  66.1842+0.000662444im  …  -1.25386-2.16701im      0.0+0.0im\n",
       "  3.70403+5.6659im           4.99869-2.48114im      0.0+0.0im\n",
       "  6.36218+6.35146im         -6.36387+0.447014im     0.0+0.0im\n",
       " -1.25386+2.16816im          20.4963+0.000809433im  0.0+0.0im\n",
       "      0.0+0.0im                  0.0+0.0im          0.0+0.0im"
      ]
     },
     "metadata": {},
     "output_type": "display_data"
    }
   ],
   "source": [
    "display(wv)"
   ]
  }
 ],
 "metadata": {
  "kernelspec": {
   "display_name": "Julia 1.11.4",
   "language": "julia",
   "name": "julia-1.11"
  },
  "language_info": {
   "file_extension": ".jl",
   "mimetype": "application/julia",
   "name": "julia",
   "version": "1.11.4"
  }
 },
 "nbformat": 4,
 "nbformat_minor": 5
}
