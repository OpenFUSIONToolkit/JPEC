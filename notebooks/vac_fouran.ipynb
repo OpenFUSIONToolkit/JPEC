{
 "cells": [
  {
   "cell_type": "code",
   "execution_count": 19,
   "id": "d11e5382",
   "metadata": {},
   "outputs": [
    {
     "name": "stderr",
     "output_type": "stream",
     "text": [
      "\u001b[32m\u001b[1m  Activating\u001b[22m\u001b[39m project at `~/Projects/Perturbed-Equilibrium/JPEC.worktrees/vacuum_julia`\n"
     ]
    }
   ],
   "source": [
    "using Pkg\n",
    "Pkg.activate(\"..\")\n",
    "Pkg.instantiate()\n",
    "using JPEC, Plots"
   ]
  },
  {
   "cell_type": "code",
   "execution_count": 20,
   "id": "7762f2e4",
   "metadata": {},
   "outputs": [
    {
     "data": {
      "text/plain": [
       "fouran! (generic function with 1 method)"
      ]
     },
     "execution_count": 20,
     "metadata": {},
     "output_type": "execute_result"
    }
   ],
   "source": [
    "function fouran!(\n",
    "    gij::Matrix{Float64},\n",
    "    gil::Matrix{Float64},\n",
    "    cs::Matrix{Float64},\n",
    "    m00::Int,\n",
    "    l00::Int,\n",
    "    lmin::Vector{Int},\n",
    "    lmax::Vector{Int},\n",
    "    mth::Int\n",
    ")\n",
    "    # Compute jmax1 like Fortran\n",
    "    jmax1 = lmax[1] - lmin[1] + 1\n",
    "\n",
    "    # Zero out relevant gil block\n",
    "    for l1 in 1:jmax1\n",
    "        for i in 1:mth\n",
    "            gil[m00 + i, l00 + l1] = 0.0\n",
    "        end\n",
    "    end\n",
    "\n",
    "    # Accumulate with ll offset (critical to match Fortran)\n",
    "    for l1 in 1:jmax1\n",
    "        ll = l1 - 1 + lmin[1]\n",
    "        for j in 1:mth\n",
    "            for i in 1:mth\n",
    "                gil[m00 + i, l00 + l1] += cs[j, l1] * gij[i, j]\n",
    "            end\n",
    "        end\n",
    "    end\n",
    "\n",
    "    return nothing\n",
    "end"
   ]
  },
  {
   "cell_type": "code",
   "execution_count": 21,
   "id": "a6abcbea",
   "metadata": {},
   "outputs": [
    {
     "name": "stdout",
     "output_type": "stream",
     "text": [
      "gil(1:5,1:5) submatrix starting at (109+1,33+1):\n",
      "[0.0, 5.758492623190696, 8.519982775454418, 10.099787086819953, 11.7302450407185]\n",
      "[0.0, 5.756099490628109, 8.512536094163833, 10.087290470562392, 11.713017282668279]\n",
      "[0.0, 5.753747610409246, 8.505220197384235, 10.075014410727995, 11.696094147093449]\n",
      "[0.0, 5.75143592692491, 8.49803167245637, 10.062953123235024, 11.679467630240492]\n",
      "[0.0, 5.749163420208127, 8.490967224332074, 10.051101024364383, 11.663130006138648]\n"
     ]
    }
   ],
   "source": [
    "function test_fourier()\n",
    "    # Parameters\n",
    "    mtheta = 200\n",
    "    mthvac = 900\n",
    "    mpert  = 34\n",
    "\n",
    "    # After defglo/global_alloc\n",
    "    nths  = 905\n",
    "    nths2 = 1810\n",
    "    nfm   = 34\n",
    "    nfm2  = 68\n",
    "\n",
    "    m00 = 0\n",
    "    l00 = 34\n",
    "\n",
    "    # Define lmin/lmax like in arrays.f (dummy example: from 1 to nfm)\n",
    "    lmin = [1]\n",
    "    lmax = [nfm]\n",
    "\n",
    "    # Allocate arrays\n",
    "    gij = zeros(Float64, nths, nths)\n",
    "    gil = zeros(Float64, nths2, nfm2)\n",
    "    cs  = zeros(Float64, nths, nfm)\n",
    "    x   = zeros(Float64, nths)\n",
    "\n",
    "    # Fill x(i) = 6.28 / i\n",
    "    for i in 1:nths\n",
    "        x[i] = 6.28 / i\n",
    "    end\n",
    "\n",
    "    # Fill gij(i,j) and cs(i,j)\n",
    "    for i in 1:nths\n",
    "        for j in 1:nths\n",
    "            gij[i,j] = sin(x[i] + x[j])\n",
    "        end\n",
    "        for j in 1:nfm\n",
    "            cs[i,j] = (sin(j * x[i]))^2\n",
    "        end\n",
    "    end\n",
    "\n",
    "    # Call your Fourier routine\n",
    "    fouran!(gij, gil, cs, m00, l00, lmin, lmax, nths)\n",
    "\n",
    "    println(\"gil(1:5,1:5) submatrix starting at (109+1,33+1):\")\n",
    "    for i in 1:5\n",
    "        println([gil[109+i, 33+j] for j in 1:5])\n",
    "    end\n",
    "end\n",
    "\n",
    "test_fourier()\n"
   ]
  }
 ],
 "metadata": {
  "kernelspec": {
   "display_name": "Julia 1.11.6",
   "language": "julia",
   "name": "julia-1.11"
  },
  "language_info": {
   "file_extension": ".jl",
   "mimetype": "application/julia",
   "name": "julia",
   "version": "1.11.6"
  }
 },
 "nbformat": 4,
 "nbformat_minor": 5
}
