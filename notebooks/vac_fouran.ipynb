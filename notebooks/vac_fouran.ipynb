{
 "cells": [
  {
   "cell_type": "code",
   "execution_count": 1,
   "id": "d11e5382",
   "metadata": {},
   "outputs": [
    {
     "name": "stderr",
     "output_type": "stream",
     "text": [
      "\u001b[32m\u001b[1m  Activating\u001b[22m\u001b[39m project at `~/Projects/Perturbed-Equilibrium/JPEC.worktrees/vacuum_julia`\n",
      "\u001b[92m\u001b[1mPrecompiling\u001b[22m\u001b[39m project...\n",
      "   4615.6 ms\u001b[32m  ✓ \u001b[39mJPEC\n",
      "  1 dependency successfully precompiled in 6 seconds. 181 already precompiled.\n",
      "  \u001b[33m1\u001b[39m dependency had output during precompilation:\u001b[33m\n",
      "┌ \u001b[39mJPEC\u001b[33m\n",
      "│  \u001b[39mgfortran -fPIC -frecursive -c defs.f -o defs.o\u001b[33m\n",
      "│  \u001b[39mgfortran -fPIC -frecursive -c spline.f -o spline.o\u001b[33m\n",
      "│  \u001b[39mgfortran -fPIC -frecursive -c cspline.f -o cspline.o\u001b[33m\n",
      "│  \u001b[39mgfortran -fPIC -frecursive -c bicube.f -o bicube.o\u001b[33m\n",
      "│  \u001b[39mgfortran -fPIC -frecursive -c spline_c_api.f -o spline_c_api.o\u001b[33m\n",
      "│  \u001b[39mgfortran -shared -o libspline.dylib defs.o spline.o cspline.o bicube.o spline_c_api.o -framework Accelerate\u001b[33m\n",
      "│  \u001b[39mmv libspline.dylib ../../../deps/\u001b[33m\n",
      "│  \u001b[39m\u001b[36m\u001b[1m[ \u001b[22m\u001b[39m\u001b[36m\u001b[1mInfo: \u001b[22m\u001b[39mSplines-fortran compiled well\u001b[33m\n",
      "│  \u001b[39mgfortran -fPIC -finit-local-zero -frecursive -std=legacy -c vacuum_global.f -o vacuum_global.o\u001b[33m\n",
      "│  \u001b[39mcc    -c -o bzio.o bzio.c\u001b[33m\n",
      "│  \u001b[39mgfortran -fPIC -finit-local-zero -frecursive -std=legacy -c aleg_new.f -o aleg_new.o\u001b[33m\n",
      "│  \u001b[39mgfortran -fPIC -finit-local-zero -frecursive -std=legacy -c vacuum_io.f -o vacuum_io.o\u001b[33m\n",
      "│  \u001b[39mgfortran -fPIC -finit-local-zero -frecursive -std=legacy -c vacuum_ma.f -o vacuum_ma.o\u001b[33m\n",
      "│  \u001b[39mgfortran -fPIC -finit-local-zero -frecursive -std=legacy -c vacuum_math.f -o vacuum_math.o\u001b[33m\n",
      "│  \u001b[39mgfortran -fPIC -finit-local-zero -frecursive -std=legacy -c vacuum_penn.f -o vacuum_penn.o\u001b[33m\n",
      "│  \u001b[39mgfortran -fPIC -finit-local-zero -frecursive -std=legacy -c vacuum_sprk2.f -o vacuum_sprk2.o\u001b[33m\n",
      "│  \u001b[39mgfortran -fPIC -finit-local-zero -frecursive -std=legacy -c vacuum_ut.f -o vacuum_ut.o\u001b[33m\n",
      "│  \u001b[39mgfortran -fPIC -finit-local-zero -frecursive -std=legacy -c vacuum_vac.f -o vacuum_vac.o\u001b[33m\n",
      "│  \u001b[39mvacuum_vac.f:578:24:\u001b[33m\n",
      "│  \u001b[39m\u001b[33m\n",
      "│  \u001b[39m  578 |          call zwr(iovac,rmatr,mtots,1,lgivup,999)\u001b[33m\n",
      "│  \u001b[39m      |                        1\u001b[33m\n",
      "│  \u001b[39m......\u001b[33m\n",
      "│  \u001b[39m 2442 |       call zwr(iovac,real(lmn,r8),1,nadres,lgivup,999)\u001b[33m\n",
      "│  \u001b[39m      |                     2   \u001b[33m\n",
      "│  \u001b[39mWarning: Rank mismatch between actual argument at (1) and actual argument at (2) (scalar and rank-2)\u001b[33m\n",
      "│  \u001b[39mgfortran -shared -o libvac.dylib bzio.o aleg_new.o vacuum_global.o vacuum_io.o vacuum_ma.o vacuum_math.o vacuum_penn.o vacuum_sprk2.o vacuum_ut.o vacuum_vac.o -framework Accelerate\u001b[33m\n",
      "│  \u001b[39mmv libvac.dylib ../../../deps/\u001b[33m\n",
      "│  \u001b[39m\u001b[36m\u001b[1m[ \u001b[22m\u001b[39m\u001b[36m\u001b[1mInfo: \u001b[22m\u001b[39mVacuum-fortran compiled well\u001b[33m\n",
      "│  \u001b[39m\u001b[36m\u001b[1m[ \u001b[22m\u001b[39m\u001b[36m\u001b[1mInfo: \u001b[22m\u001b[39mAll Fortran builds succeeded!\u001b[33m\n",
      "└  \u001b[39m\n"
     ]
    }
   ],
   "source": [
    "using Pkg\n",
    "Pkg.activate(\"..\")\n",
    "Pkg.instantiate()\n",
    "using JPEC, Plots"
   ]
  },
  {
   "cell_type": "code",
   "execution_count": 2,
   "id": "7762f2e4",
   "metadata": {},
   "outputs": [
    {
     "data": {
      "text/plain": [
       "fouran! (generic function with 1 method)"
      ]
     },
     "execution_count": 2,
     "metadata": {},
     "output_type": "execute_result"
    }
   ],
   "source": [
    "function fouran!(gij::Matrix{Float64}, gil::Matrix{Float64},\n",
    "                 cs::Matrix{Float64}, m00::Int, l00::Int,\n",
    "                 lmin::Vector{Int}, lmax::Vector{Int}, mth::Int)\n",
    "\n",
    "    jmax1 = lmax[1] - lmin[1] + 1\n",
    "\n",
    "    for l1 in 1:jmax1\n",
    "        coeffs = cs[1:mth, l1]        # vector of Fourier coefficients\n",
    "        gil[m00+1:m00+mth, l00+l1] .= gij[1:mth, 1:mth] * coeffs\n",
    "    end\n",
    "\n",
    "    return nothing\n",
    "end"
   ]
  },
  {
   "cell_type": "code",
   "execution_count": 3,
   "id": "a6abcbea",
   "metadata": {},
   "outputs": [],
   "source": [
    "mth   = 4\n",
    "lmin  = [1]\n",
    "lmax  = [3]\n",
    "m00   = 0\n",
    "l00   = 0\n",
    "\n",
    "gij = rand(mth, mth)\n",
    "cs  = rand(mth, lmax[1]-lmin[1]+1)\n",
    "gil = zeros(mth+5, lmax[1]-lmin[1]+1+5)\n",
    "\n",
    "fouran!(gij, gil, cs, m00, l00, lmin, lmax, mth)"
   ]
  },
  {
   "cell_type": "code",
   "execution_count": 4,
   "id": "6b1b1922",
   "metadata": {},
   "outputs": [
    {
     "name": "stdout",
     "output_type": "stream",
     "text": [
      "gil = \n",
      "[1.2370464504822327 0.9710577475774792 1.6605253351633293 0.0 0.0 0.0 0.0 0.0; 1.401412366543789 1.0931911451284595 1.587421851433778 0.0 0.0 0.0 0.0 0.0; 1.0040394857217434 0.7916542262236212 1.5582565368976629 0.0 0.0 0.0 0.0 0.0; 1.286034191514505 1.0122538611854093 1.4101994842108636 0.0 0.0 0.0 0.0 0.0; 0.0 0.0 0.0 0.0 0.0 0.0 0.0 0.0; 0.0 0.0 0.0 0.0 0.0 0.0 0.0 0.0; 0.0 0.0 0.0 0.0 0.0 0.0 0.0 0.0; 0.0 0.0 0.0 0.0 0.0 0.0 0.0 0.0; 0.0 0.0 0.0 0.0 0.0 0.0 0.0 0.0]\n"
     ]
    }
   ],
   "source": [
    "println(\"gil = \")\n",
    "println(gil)              # prints entire matrix"
   ]
  },
  {
   "cell_type": "code",
   "execution_count": 8,
   "id": "c329dc91",
   "metadata": {},
   "outputs": [
    {
     "data": {
      "text/plain": [
       "foranv! (generic function with 1 method)"
      ]
     },
     "execution_count": 8,
     "metadata": {},
     "output_type": "execute_result"
    }
   ],
   "source": [
    "function foranv!(gil::Array{Float64,2}, gll::Array{Float64,2}, cs::Array{Float64,2},\n",
    "                 m00::Int, l00::Int, mth::Int, lmin::Int, lmax::Int,\n",
    "                 dth::Float64, twopi::Float64)\n",
    "\n",
    "    jmax1 = lmax - lmin + 1\n",
    "\n",
    "    # Zero out the block of gll that will be filled\n",
    "    for l1 in 1:jmax1\n",
    "        for l2 in 1:jmax1\n",
    "            gll[l2,l1] = 0.0\n",
    "        end\n",
    "    end\n",
    "\n",
    "    # Main summation\n",
    "    for l1 in 1:jmax1\n",
    "        for l2 in 1:jmax1\n",
    "            for i in 1:mth\n",
    "                gll[l2,l1] += dth * cs[i,l2] * gil[m00+i, l00+l1] * twopi\n",
    "            end\n",
    "        end\n",
    "    end\n",
    "\n",
    "    return gll\n",
    "end"
   ]
  },
  {
   "cell_type": "code",
   "execution_count": 9,
   "id": "4c4023bd",
   "metadata": {},
   "outputs": [
    {
     "name": "stdout",
     "output_type": "stream",
     "text": [
      "gil =\n",
      "[-0.03452597379267958 0.18542481155615056 0.3489552341269621 -1.6302928838910598 0.1970510381999457 -0.14839230883842439 0.6868958872740458 0.8018696175202392; 0.21234697522738297 0.36521820041418884 -1.1389408929473268 -0.644368133270796 1.5422434589276723 0.5224457644864959 -0.3472448121838069 1.820327980622333; -1.7926704402682423 -0.4723779434940146 -1.0521827337912817 0.7243418043370197 0.2623182743792517 -0.6013527382565595 -0.6107343232713054 -0.07842667121856375; -0.02504098322377936 -0.0978845520940032 0.3274843473694329 1.746540800846818 1.6919974041613146 -1.051818337454954 -0.4005815980107553 1.7568263771400678; 1.7330979635266064 -0.7636319618264513 -1.7013420120354399 -0.6031823388340101 -1.4555767071288348 1.6096792755805884 -0.006406050108533869 0.1708537206125385; 2.8172009264222604 0.16741026442238352 0.9695025466518253 0.519654124893962 -0.2347661032771603 0.2582513894925455 0.32102772053953793 0.7969326053065734; 1.4328325918979419 0.04917604446312788 0.24727672840715584 -1.1145382670111932 0.7943107748598434 -1.2846257377526613 0.39409656266256055 -1.5551378121015185; -1.1122519863595366 -0.08104431451859762 2.1812795156390026 -0.3817830574785062 0.4490903706231912 0.7013382854861104 -0.8755785543538755 -0.10970648252734144]\n",
      "\n",
      "cs =\n",
      "[0.05289301615780555 -0.16964805969500268 -0.7386912289863501 -1.1965252196835643; 0.9882539364309815 -0.35229276593599207 -0.5512262765947843 0.42574886261970785; -1.5749534107107752 -1.085080526569867 0.2540310245463965 2.3763487354532455; -2.1117866897585507 1.275935022471599 -1.487911463943399 0.09515193333833945]\n",
      "\n",
      "gll result =\n",
      "[1.9379103976295877 0.8302730179745722 -0.0889346091513632 0.0; 1.1588016326689166 0.1429758231671832 1.1948059953600545 0.0; -0.3202428596904512 -0.1964404311757309 -0.2415952581778034 0.0; 0.0 0.0 0.0 0.0]\n"
     ]
    },
    {
     "data": {
      "text/plain": [
       "4×4 Matrix{Float64}:\n",
       "  1.93791    0.830273  -0.0889346  0.0\n",
       "  1.1588     0.142976   1.19481    0.0\n",
       " -0.320243  -0.19644   -0.241595   0.0\n",
       "  0.0        0.0        0.0        0.0"
      ]
     },
     "execution_count": 9,
     "metadata": {},
     "output_type": "execute_result"
    }
   ],
   "source": [
    "function test_foranv()\n",
    "    # Example parameters (adjust to match your case)\n",
    "    mth   = 4        # number of poloidal points\n",
    "    lmin  = 1\n",
    "    lmax  = 3\n",
    "    m00   = 0\n",
    "    l00   = 0\n",
    "    dth   = 0.1\n",
    "    twopi = 2π\n",
    "\n",
    "    nths2, nfm2 = 8, 8  # dimensions for gil\n",
    "    nfm         = 4     # dimension for cs and gll\n",
    "\n",
    "    # Dummy input data\n",
    "    gil = randn(nths2, nfm2)\n",
    "    cs  = randn(mth, nfm)\n",
    "    gll = zeros(nfm, nfm)\n",
    "\n",
    "    # Run the translation\n",
    "    result = foranv!(gil, gll, cs, m00, l00, mth, lmin, lmax, dth, twopi)\n",
    "\n",
    "    println(\"gil =\")\n",
    "    println(gil)\n",
    "    println(\"\\ncs =\")\n",
    "    println(cs)\n",
    "    println(\"\\ngll result =\")\n",
    "    println(result)\n",
    "\n",
    "    return result\n",
    "end\n",
    "\n",
    "# Run test\n",
    "test_foranv()\n"
   ]
  }
 ],
 "metadata": {
  "kernelspec": {
   "display_name": "Julia 1.11.6",
   "language": "julia",
   "name": "julia-1.11"
  },
  "language_info": {
   "file_extension": ".jl",
   "mimetype": "application/julia",
   "name": "julia",
   "version": "1.11.6"
  }
 },
 "nbformat": 4,
 "nbformat_minor": 5
}
