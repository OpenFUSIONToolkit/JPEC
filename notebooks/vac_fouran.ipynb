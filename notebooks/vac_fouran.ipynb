{
 "cells": [
  {
   "cell_type": "code",
   "execution_count": 12,
   "id": "d11e5382",
   "metadata": {},
   "outputs": [
    {
     "name": "stderr",
     "output_type": "stream",
     "text": [
      "\u001b[32m\u001b[1m  Activating\u001b[22m\u001b[39m project at `~/Projects/Perturbed-Equilibrium/JPEC.worktrees/vacuum_julia`\n"
     ]
    }
   ],
   "source": [
    "using Pkg\n",
    "Pkg.activate(\"..\")\n",
    "Pkg.instantiate()\n",
    "using JPEC, Plots"
   ]
  },
  {
   "cell_type": "code",
   "execution_count": 15,
   "id": "7762f2e4",
   "metadata": {},
   "outputs": [
    {
     "data": {
      "text/plain": [
       "fouran! (generic function with 1 method)"
      ]
     },
     "execution_count": 15,
     "metadata": {},
     "output_type": "execute_result"
    }
   ],
   "source": [
    "function fouran!(\n",
    "    gij::Matrix{Float64},\n",
    "    gil::Matrix{Float64},\n",
    "    cs::Matrix{Float64},\n",
    "    m00::Int,\n",
    "    l00::Int,\n",
    "    lmin::Vector{Int},\n",
    "    lmax::Vector{Int},\n",
    "    mth::Int\n",
    ")\n",
    "    # Compute jmax1 like Fortran\n",
    "    jmax1 = lmax[1] - lmin[1] + 1\n",
    "\n",
    "    # Zero out relevant gil block\n",
    "    for l1 in 1:jmax1\n",
    "        for i in 1:mth\n",
    "            gil[m00 + i, l00 + l1] = 0.0\n",
    "        end\n",
    "    end\n",
    "\n",
    "    # Accumulate with ll offset (critical to match Fortran)\n",
    "    for l1 in 1:jmax1\n",
    "        ll = l1 - 1 + lmin[1]\n",
    "        for j in 1:mth\n",
    "            for i in 1:mth\n",
    "                gil[m00 + i, l00 + l1] += cs[j, l1] * gij[i, j]\n",
    "            end\n",
    "        end\n",
    "    end\n",
    "\n",
    "    return nothing\n",
    "end"
   ]
  },
  {
   "cell_type": "code",
   "execution_count": null,
   "id": "a6abcbea",
   "metadata": {},
   "outputs": [
    {
     "name": "stdout",
     "output_type": "stream",
     "text": [
      "gil(1:5,1:5) submatrix starting at (109+1,33+1):\n",
      "[0.0, 5.758492623190696, 0.0, 0.0, 0.0]\n",
      "[0.0, 5.756099490628109, 0.0, 0.0, 0.0]\n",
      "[0.0, 5.753747610409246, 0.0, 0.0, 0.0]\n",
      "[0.0, 5.75143592692491, 0.0, 0.0, 0.0]\n",
      "[0.0, 5.749163420208127, 0.0, 0.0, 0.0]\n"
     ]
    }
   ],
   "source": [
    "function test_fourier()\n",
    "    # Parameters\n",
    "    mtheta = 200\n",
    "    mthvac = 900\n",
    "    mpert  = 34\n",
    "\n",
    "    # After defglo/global_alloc\n",
    "    nths  = 905\n",
    "    nths2 = 1810\n",
    "    nfm   = 34\n",
    "    nfm2  = 68\n",
    "\n",
    "    m00 = 0\n",
    "    l00 = 34\n",
    "\n",
    "    # Define lmin/lmax like in arrays.f (dummy example: from 1 to nfm)\n",
    "    lmin = [1]\n",
    "    lmax = [nfm]\n",
    "\n",
    "    # Allocate arrays\n",
    "    gij = zeros(Float64, nths, nths)\n",
    "    gil = zeros(Float64, nths2, nfm2)\n",
    "    cs  = zeros(Float64, nths, nfm)\n",
    "    x   = zeros(Float64, nths)\n",
    "\n",
    "    # Fill x(i) = 6.28 / i\n",
    "    for i in 1:nths\n",
    "        x[i] = 6.28 / i\n",
    "    end\n",
    "\n",
    "    # Fill gij(i,j) and cs(i,j)\n",
    "    for i in 1:nths\n",
    "        for j in 1:nths\n",
    "            gij[i,j] = sin(x[i] + x[j])\n",
    "        end\n",
    "        for j in 1:nfm\n",
    "            cs[i,j] = (sin(j * x[i]))^2\n",
    "        end\n",
    "    end\n",
    "\n",
    "    # Call your Fourier routine\n",
    "    fouran!(gij, gil, cs, m00, l00, lmin, lmax, nths)\n",
    "\n",
    "    println(\"gil(1:5,1:5) submatrix starting at (109+1,33+1):\")\n",
    "    for i in 1:5\n",
    "        println([gil[109+i, 33+j] for j in 1:5])\n",
    "    end\n",
    "end\n",
    "\n",
    "test_fourier()\n"
   ]
  },
  {
   "cell_type": "code",
   "execution_count": 17,
   "id": "c329dc91",
   "metadata": {},
   "outputs": [
    {
     "data": {
      "text/plain": [
       "foranv! (generic function with 2 methods)"
      ]
     },
     "execution_count": 17,
     "metadata": {},
     "output_type": "execute_result"
    }
   ],
   "source": [
    "function foranv!(gil::Array{Float64,2}, gll::Array{Float64,2}, cs::Array{Float64,2},\n",
    "                 m00::Int, l00::Int, mth::Int, lmin::Int, lmax::Int,\n",
    "                 dth::Float64)\n",
    "\n",
    "    jmax1 = lmax - lmin + 1\n",
    "\n",
    "    # Zero out the block of gll that will be filled\n",
    "    for l1 in 1:jmax1\n",
    "        for l2 in 1:jmax1\n",
    "            gll[l2,l1] = 0.0\n",
    "        end\n",
    "    end\n",
    "\n",
    "    # Main summation\n",
    "    for l1 in 1:jmax1\n",
    "        for l2 in 1:jmax1\n",
    "            for i in 1:mth\n",
    "                gll[l2,l1] += dth * cs[i,l2] * gil[m00+i, l00+l1] * 2π\n",
    "            end\n",
    "        end\n",
    "    end\n",
    "\n",
    "    return gll\n",
    "end"
   ]
  },
  {
   "cell_type": "code",
   "execution_count": 18,
   "id": "4c4023bd",
   "metadata": {},
   "outputs": [
    {
     "name": "stdout",
     "output_type": "stream",
     "text": [
      "gil =\n",
      "[0.9689672392890408 0.9121767008774335 0.09856309894024685 -0.7162631237574117 -0.3191565025919801 1.3922171529885254 -0.1256348671099153 0.6275632040148752; 0.7772682899932158 0.7174260497145164 0.4339418920704299 1.6457444805739103 -0.22547799771931396 -0.4873835583830081 -1.0804410429171751 -1.1545538277945562; -0.6058275070385057 -0.8575971748105143 -0.2001402411718884 -1.7946304268873379 0.5217103318242219 0.9258561305161837 0.471636948874507 -1.8829855354869278; -0.14591032292568135 -0.30068622900827113 0.10843884742819349 -0.39888903119790436 -0.8310931447358131 -0.24955451631242462 -0.01147022190718461 0.6699081021584657; 1.4590735953920912 -0.8132024654348188 0.3107257577196023 0.28997927692216435 1.4638767736245855 0.876520376929424 1.2562190354012197 -0.8389054853686562; 1.1437859459856663 -0.6201704601707787 -0.4575163605576846 -0.5943593511755471 0.5019110082943155 1.6720330503888658 1.0477218699712174 0.32703636872068714; 0.9091924061377582 -1.0229483643752972 0.4470067015028348 -1.5163528046928603 2.432654990278389 0.742493713681344 0.8171419998771171 0.4571031117015914; 0.005599018540066433 0.323461704484989 -0.6511356823507933 0.10011274242671439 -0.1274261078192483 -0.6543881783699224 0.0156354266950532 -0.14008442096156964]\n",
      "\n",
      "cs =\n",
      "[0.40845709319898293 -1.658423594174031 2.781916324864913 0.033144868498558425; -0.04336166808492705 -0.08121465963186114 0.686418694302602 -0.7505444829739631; -0.35718341407338233 -0.0362129011446138 0.08705917069336921 -1.04921485847114; 1.5099162448348002 -0.10856567375430029 -1.1593903076374459 1.144531910415959]\n",
      "\n",
      "gll result =\n",
      "[0.22503671945873763 0.12175852960466599 0.1612659334041261 0.0; -1.0256069056877266 -0.947090025098995 -0.12769122069186578 0.0; 2.102065681921051 2.075967509505884 0.26949406691268285 0.0; 0.0 0.0 0.0 0.0]\n"
     ]
    },
    {
     "data": {
      "text/plain": [
       "4×4 Matrix{Float64}:\n",
       "  0.225037   0.121759   0.161266  0.0\n",
       " -1.02561   -0.94709   -0.127691  0.0\n",
       "  2.10207    2.07597    0.269494  0.0\n",
       "  0.0        0.0        0.0       0.0"
      ]
     },
     "execution_count": 18,
     "metadata": {},
     "output_type": "execute_result"
    }
   ],
   "source": [
    "function test_foranv()\n",
    "    # Example parameters (adjust to match your case)\n",
    "    mth   = 4        # number of poloidal points\n",
    "    lmin  = 1\n",
    "    lmax  = 3\n",
    "    m00   = 0\n",
    "    l00   = 0\n",
    "    dth   = 0.1\n",
    "\n",
    "    nths2, nfm2 = 8, 8  # dimensions for gil\n",
    "    nfm         = 4     # dimension for cs and gll\n",
    "\n",
    "    # Dummy input data\n",
    "    gil = randn(nths2, nfm2)\n",
    "    cs  = randn(mth, nfm)\n",
    "    gll = zeros(nfm, nfm)\n",
    "\n",
    "    # Run the translation\n",
    "    result = foranv!(gil, gll, cs, m00, l00, mth, lmin, lmax, dth)\n",
    "\n",
    "    println(\"gil =\")\n",
    "    println(gil)\n",
    "    println(\"\\ncs =\")\n",
    "    println(cs)\n",
    "    println(\"\\ngll result =\")\n",
    "    println(result)\n",
    "\n",
    "    return result\n",
    "end\n",
    "\n",
    "# Run test\n",
    "test_foranv()\n"
   ]
  },
  {
   "cell_type": "code",
   "execution_count": null,
   "id": "ad3170ef",
   "metadata": {},
   "outputs": [],
   "source": []
  }
 ],
 "metadata": {
  "kernelspec": {
   "display_name": "Julia 1.11.6",
   "language": "julia",
   "name": "julia-1.11"
  },
  "language_info": {
   "file_extension": ".jl",
   "mimetype": "application/julia",
   "name": "julia",
   "version": "1.11.6"
  }
 },
 "nbformat": 4,
 "nbformat_minor": 5
}
