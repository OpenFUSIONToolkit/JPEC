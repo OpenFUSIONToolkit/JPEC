{
 "cells": [
  {
   "cell_type": "code",
   "execution_count": 1,
   "id": "d11e5382",
   "metadata": {},
   "outputs": [
    {
     "name": "stderr",
     "output_type": "stream",
     "text": [
      "\u001b[32m\u001b[1m  Activating\u001b[22m\u001b[39m project at `~/Projects/Perturbed-Equilibrium/JPEC.worktrees/vacuum_julia`\n",
      "\u001b[92m\u001b[1mPrecompiling\u001b[22m\u001b[39m project...\n",
      "   4615.6 ms\u001b[32m  ✓ \u001b[39mJPEC\n",
      "  1 dependency successfully precompiled in 6 seconds. 181 already precompiled.\n",
      "  \u001b[33m1\u001b[39m dependency had output during precompilation:\u001b[33m\n",
      "┌ \u001b[39mJPEC\u001b[33m\n",
      "│  \u001b[39mgfortran -fPIC -frecursive -c defs.f -o defs.o\u001b[33m\n",
      "│  \u001b[39mgfortran -fPIC -frecursive -c spline.f -o spline.o\u001b[33m\n",
      "│  \u001b[39mgfortran -fPIC -frecursive -c cspline.f -o cspline.o\u001b[33m\n",
      "│  \u001b[39mgfortran -fPIC -frecursive -c bicube.f -o bicube.o\u001b[33m\n",
      "│  \u001b[39mgfortran -fPIC -frecursive -c spline_c_api.f -o spline_c_api.o\u001b[33m\n",
      "│  \u001b[39mgfortran -shared -o libspline.dylib defs.o spline.o cspline.o bicube.o spline_c_api.o -framework Accelerate\u001b[33m\n",
      "│  \u001b[39mmv libspline.dylib ../../../deps/\u001b[33m\n",
      "│  \u001b[39m\u001b[36m\u001b[1m[ \u001b[22m\u001b[39m\u001b[36m\u001b[1mInfo: \u001b[22m\u001b[39mSplines-fortran compiled well\u001b[33m\n",
      "│  \u001b[39mgfortran -fPIC -finit-local-zero -frecursive -std=legacy -c vacuum_global.f -o vacuum_global.o\u001b[33m\n",
      "│  \u001b[39mcc    -c -o bzio.o bzio.c\u001b[33m\n",
      "│  \u001b[39mgfortran -fPIC -finit-local-zero -frecursive -std=legacy -c aleg_new.f -o aleg_new.o\u001b[33m\n",
      "│  \u001b[39mgfortran -fPIC -finit-local-zero -frecursive -std=legacy -c vacuum_io.f -o vacuum_io.o\u001b[33m\n",
      "│  \u001b[39mgfortran -fPIC -finit-local-zero -frecursive -std=legacy -c vacuum_ma.f -o vacuum_ma.o\u001b[33m\n",
      "│  \u001b[39mgfortran -fPIC -finit-local-zero -frecursive -std=legacy -c vacuum_math.f -o vacuum_math.o\u001b[33m\n",
      "│  \u001b[39mgfortran -fPIC -finit-local-zero -frecursive -std=legacy -c vacuum_penn.f -o vacuum_penn.o\u001b[33m\n",
      "│  \u001b[39mgfortran -fPIC -finit-local-zero -frecursive -std=legacy -c vacuum_sprk2.f -o vacuum_sprk2.o\u001b[33m\n",
      "│  \u001b[39mgfortran -fPIC -finit-local-zero -frecursive -std=legacy -c vacuum_ut.f -o vacuum_ut.o\u001b[33m\n",
      "│  \u001b[39mgfortran -fPIC -finit-local-zero -frecursive -std=legacy -c vacuum_vac.f -o vacuum_vac.o\u001b[33m\n",
      "│  \u001b[39mvacuum_vac.f:578:24:\u001b[33m\n",
      "│  \u001b[39m\u001b[33m\n",
      "│  \u001b[39m  578 |          call zwr(iovac,rmatr,mtots,1,lgivup,999)\u001b[33m\n",
      "│  \u001b[39m      |                        1\u001b[33m\n",
      "│  \u001b[39m......\u001b[33m\n",
      "│  \u001b[39m 2442 |       call zwr(iovac,real(lmn,r8),1,nadres,lgivup,999)\u001b[33m\n",
      "│  \u001b[39m      |                     2   \u001b[33m\n",
      "│  \u001b[39mWarning: Rank mismatch between actual argument at (1) and actual argument at (2) (scalar and rank-2)\u001b[33m\n",
      "│  \u001b[39mgfortran -shared -o libvac.dylib bzio.o aleg_new.o vacuum_global.o vacuum_io.o vacuum_ma.o vacuum_math.o vacuum_penn.o vacuum_sprk2.o vacuum_ut.o vacuum_vac.o -framework Accelerate\u001b[33m\n",
      "│  \u001b[39mmv libvac.dylib ../../../deps/\u001b[33m\n",
      "│  \u001b[39m\u001b[36m\u001b[1m[ \u001b[22m\u001b[39m\u001b[36m\u001b[1mInfo: \u001b[22m\u001b[39mVacuum-fortran compiled well\u001b[33m\n",
      "│  \u001b[39m\u001b[36m\u001b[1m[ \u001b[22m\u001b[39m\u001b[36m\u001b[1mInfo: \u001b[22m\u001b[39mAll Fortran builds succeeded!\u001b[33m\n",
      "└  \u001b[39m\n"
     ]
    }
   ],
   "source": [
    "using Pkg\n",
    "Pkg.activate(\"..\")\n",
    "Pkg.instantiate()\n",
    "using JPEC, Plots"
   ]
  },
  {
   "cell_type": "code",
   "execution_count": 10,
   "id": "7762f2e4",
   "metadata": {},
   "outputs": [
    {
     "data": {
      "text/plain": [
       "fouran! (generic function with 1 method)"
      ]
     },
     "execution_count": 10,
     "metadata": {},
     "output_type": "execute_result"
    }
   ],
   "source": [
    "function fouran!(gij::Matrix{Float64}, gil::Matrix{Float64},\n",
    "                 cs::Matrix{Float64}, m00::Int, l00::Int,\n",
    "                 lmin::Vector{Int}, lmax::Vector{Int}, mth::Int)\n",
    "\n",
    "    jmax1 = lmax[1] - lmin[1] + 1\n",
    "\n",
    "    # Zero out relevant gil block\n",
    "    for l1 in 1:jmax1\n",
    "        for i in 1:mth\n",
    "            gil[m00 + i, l00 + l1] = 0.0\n",
    "        end\n",
    "    end\n",
    "\n",
    "    # Accumulate\n",
    "    for l1 in 1:jmax1\n",
    "        for j in 1:mth\n",
    "            for i in 1:mth\n",
    "                gil[m00 + i, l00 + l1] += cs[j, l1] * gij[i, j]\n",
    "            end\n",
    "        end\n",
    "    end\n",
    "\n",
    "    return nothing\n",
    "end"
   ]
  },
  {
   "cell_type": "code",
   "execution_count": 19,
   "id": "a6abcbea",
   "metadata": {},
   "outputs": [],
   "source": [
    "mth   = 4\n",
    "lmin  = [1]\n",
    "lmax  = [3]\n",
    "m00   = 0\n",
    "l00   = 0\n",
    "\n",
    "gij = rand(mth, mth)\n",
    "cs  = rand(mth, lmax[1]-lmin[1]+1)\n",
    "gil = zeros(mth+5, lmax[1]-lmin[1]+1+5)\n",
    "\n",
    "fouran!(gij, gil, cs, m00, l00, lmin, lmax, mth)"
   ]
  },
  {
   "cell_type": "code",
   "execution_count": 20,
   "id": "6b1b1922",
   "metadata": {},
   "outputs": [
    {
     "name": "stdout",
     "output_type": "stream",
     "text": [
      "gil = \n",
      "[0.8521479782441241 0.7207050569791131 0.6127998030665539 0.0 0.0 0.0 0.0 0.0; 1.9837799162945684 1.2406360642748808 0.9566077327138862 0.0 0.0 0.0 0.0 0.0; 1.4202980227048911 1.0275087724622787 0.7685186420562836 0.0 0.0 0.0 0.0 0.0; 0.9446675824743859 0.935989103055863 0.6825729593626579 0.0 0.0 0.0 0.0 0.0; 0.0 0.0 0.0 0.0 0.0 0.0 0.0 0.0; 0.0 0.0 0.0 0.0 0.0 0.0 0.0 0.0; 0.0 0.0 0.0 0.0 0.0 0.0 0.0 0.0; 0.0 0.0 0.0 0.0 0.0 0.0 0.0 0.0; 0.0 0.0 0.0 0.0 0.0 0.0 0.0 0.0]\n"
     ]
    }
   ],
   "source": [
    "println(\"gil = \")\n",
    "println(gil)              # prints entire matrix"
   ]
  },
  {
   "cell_type": "code",
   "execution_count": 17,
   "id": "c329dc91",
   "metadata": {},
   "outputs": [
    {
     "data": {
      "text/plain": [
       "foranv! (generic function with 2 methods)"
      ]
     },
     "execution_count": 17,
     "metadata": {},
     "output_type": "execute_result"
    }
   ],
   "source": [
    "function foranv!(gil::Array{Float64,2}, gll::Array{Float64,2}, cs::Array{Float64,2},\n",
    "                 m00::Int, l00::Int, mth::Int, lmin::Int, lmax::Int,\n",
    "                 dth::Float64)\n",
    "\n",
    "    jmax1 = lmax - lmin + 1\n",
    "\n",
    "    # Zero out the block of gll that will be filled\n",
    "    for l1 in 1:jmax1\n",
    "        for l2 in 1:jmax1\n",
    "            gll[l2,l1] = 0.0\n",
    "        end\n",
    "    end\n",
    "\n",
    "    # Main summation\n",
    "    for l1 in 1:jmax1\n",
    "        for l2 in 1:jmax1\n",
    "            for i in 1:mth\n",
    "                gll[l2,l1] += dth * cs[i,l2] * gil[m00+i, l00+l1] * 2π\n",
    "            end\n",
    "        end\n",
    "    end\n",
    "\n",
    "    return gll\n",
    "end"
   ]
  },
  {
   "cell_type": "code",
   "execution_count": 18,
   "id": "4c4023bd",
   "metadata": {},
   "outputs": [
    {
     "name": "stdout",
     "output_type": "stream",
     "text": [
      "gil =\n",
      "[0.9689672392890408 0.9121767008774335 0.09856309894024685 -0.7162631237574117 -0.3191565025919801 1.3922171529885254 -0.1256348671099153 0.6275632040148752; 0.7772682899932158 0.7174260497145164 0.4339418920704299 1.6457444805739103 -0.22547799771931396 -0.4873835583830081 -1.0804410429171751 -1.1545538277945562; -0.6058275070385057 -0.8575971748105143 -0.2001402411718884 -1.7946304268873379 0.5217103318242219 0.9258561305161837 0.471636948874507 -1.8829855354869278; -0.14591032292568135 -0.30068622900827113 0.10843884742819349 -0.39888903119790436 -0.8310931447358131 -0.24955451631242462 -0.01147022190718461 0.6699081021584657; 1.4590735953920912 -0.8132024654348188 0.3107257577196023 0.28997927692216435 1.4638767736245855 0.876520376929424 1.2562190354012197 -0.8389054853686562; 1.1437859459856663 -0.6201704601707787 -0.4575163605576846 -0.5943593511755471 0.5019110082943155 1.6720330503888658 1.0477218699712174 0.32703636872068714; 0.9091924061377582 -1.0229483643752972 0.4470067015028348 -1.5163528046928603 2.432654990278389 0.742493713681344 0.8171419998771171 0.4571031117015914; 0.005599018540066433 0.323461704484989 -0.6511356823507933 0.10011274242671439 -0.1274261078192483 -0.6543881783699224 0.0156354266950532 -0.14008442096156964]\n",
      "\n",
      "cs =\n",
      "[0.40845709319898293 -1.658423594174031 2.781916324864913 0.033144868498558425; -0.04336166808492705 -0.08121465963186114 0.686418694302602 -0.7505444829739631; -0.35718341407338233 -0.0362129011446138 0.08705917069336921 -1.04921485847114; 1.5099162448348002 -0.10856567375430029 -1.1593903076374459 1.144531910415959]\n",
      "\n",
      "gll result =\n",
      "[0.22503671945873763 0.12175852960466599 0.1612659334041261 0.0; -1.0256069056877266 -0.947090025098995 -0.12769122069186578 0.0; 2.102065681921051 2.075967509505884 0.26949406691268285 0.0; 0.0 0.0 0.0 0.0]\n"
     ]
    },
    {
     "data": {
      "text/plain": [
       "4×4 Matrix{Float64}:\n",
       "  0.225037   0.121759   0.161266  0.0\n",
       " -1.02561   -0.94709   -0.127691  0.0\n",
       "  2.10207    2.07597    0.269494  0.0\n",
       "  0.0        0.0        0.0       0.0"
      ]
     },
     "execution_count": 18,
     "metadata": {},
     "output_type": "execute_result"
    }
   ],
   "source": [
    "function test_foranv()\n",
    "    # Example parameters (adjust to match your case)\n",
    "    mth   = 4        # number of poloidal points\n",
    "    lmin  = 1\n",
    "    lmax  = 3\n",
    "    m00   = 0\n",
    "    l00   = 0\n",
    "    dth   = 0.1\n",
    "\n",
    "    nths2, nfm2 = 8, 8  # dimensions for gil\n",
    "    nfm         = 4     # dimension for cs and gll\n",
    "\n",
    "    # Dummy input data\n",
    "    gil = randn(nths2, nfm2)\n",
    "    cs  = randn(mth, nfm)\n",
    "    gll = zeros(nfm, nfm)\n",
    "\n",
    "    # Run the translation\n",
    "    result = foranv!(gil, gll, cs, m00, l00, mth, lmin, lmax, dth)\n",
    "\n",
    "    println(\"gil =\")\n",
    "    println(gil)\n",
    "    println(\"\\ncs =\")\n",
    "    println(cs)\n",
    "    println(\"\\ngll result =\")\n",
    "    println(result)\n",
    "\n",
    "    return result\n",
    "end\n",
    "\n",
    "# Run test\n",
    "test_foranv()\n"
   ]
  },
  {
   "cell_type": "code",
   "execution_count": null,
   "id": "ad3170ef",
   "metadata": {},
   "outputs": [],
   "source": []
  }
 ],
 "metadata": {
  "kernelspec": {
   "display_name": "Julia 1.11.6",
   "language": "julia",
   "name": "julia-1.11"
  },
  "language_info": {
   "file_extension": ".jl",
   "mimetype": "application/julia",
   "name": "julia",
   "version": "1.11.6"
  }
 },
 "nbformat": 4,
 "nbformat_minor": 5
}
