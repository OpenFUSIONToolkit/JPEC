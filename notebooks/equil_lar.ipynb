{
 "cells": [
  {
   "cell_type": "code",
   "execution_count": null,
   "id": "bc77cb03",
   "metadata": {},
   "outputs": [],
   "source": [
    "using Pkg\n",
    "Pkg.activate(\"..\") \n",
    "Pkg.instantiate()\n",
    "Pkg.resolve()\n",
    "using DifferentialEquations,JPEC, Plots, DelimitedFiles"
   ]
  },
  {
   "cell_type": "code",
   "execution_count": null,
   "id": "8fb8cfd4",
   "metadata": {},
   "outputs": [],
   "source": [
    "equil_input = JPEC.Equilibrium.EquilConfig(; control=JPEC.Equilibrium.EquilControl(eq_type=\"lar\", eq_filename=\"lar.toml\"), output=JPEC.Equilibrium.EquilOutput())\n",
    "lar_input = JPEC.Equilibrium.LargeAspectRatioConfig(; lar_r0=10, lar_a=1, beta0=0.001, q0=1.5, p_pres=2, p_sig=1)"
   ]
  },
  {
   "cell_type": "code",
   "execution_count": null,
   "id": "d7836d02",
   "metadata": {},
   "outputs": [],
   "source": [
    "sq_in, rz_in = JPEC.Equilibrium.lar_run(equil_input, lar_input)"
   ]
  },
  {
   "cell_type": "code",
   "execution_count": null,
   "id": "87de5490",
   "metadata": {},
   "outputs": [],
   "source": [
    "function save_and_plot_sq_in(sq_in, filename_prefix=\"sq_in\")\n",
    "    xs = sq_in._xs\n",
    "    fs = sq_in._fs  # size = (ma+1, 3): [F*Bphi, pressure, q]\n",
    "\n",
    "    # Save all data to a single txt file\n",
    "    data = hcat(xs, fs)\n",
    "\n",
    "    # Plot 1: F*Bphi\n",
    "    p1 = plot(xs, fs[:,1], label=\"F*Bphi\", xlabel=\"ψ / ψₒ\", ylabel=\"F*Bphi\", lw=2, title=\"F*Bphi Profile\")\n",
    "    display(p1)\n",
    "\n",
    "    # Plot 2: Pressure\n",
    "    p2 = plot(xs, fs[:,2], label=\"Pressure\", xlabel=\"ψ / ψₒ\", ylabel=\"Pressure\", lw=2, title=\"Pressure Profile\")\n",
    "    display(p2)\n",
    "\n",
    "    # Plot 3: q\n",
    "    p3 = plot(xs, fs[:,3], label=\"q\", xlabel=\"ψ / ψₒ\", ylabel=\"q\", lw=2, title=\"Safety Factor q Profile\")\n",
    "    display(p3)\n",
    "\n",
    "    println(\"✅ Displayed plots and saved $filename_prefix.txt\")\n",
    "end\n",
    "\n",
    "save_and_plot_sq_in(sq_in)"
   ]
  },
  {
   "cell_type": "code",
   "execution_count": null,
   "id": "0735e75a",
   "metadata": {},
   "outputs": [],
   "source": []
  }
 ],
 "metadata": {
  "kernelspec": {
   "display_name": "Julia 1.11.6",
   "language": "julia",
   "name": "julia-1.11"
  },
  "language_info": {
   "file_extension": ".jl",
   "mimetype": "application/julia",
   "name": "julia",
   "version": "1.11.6"
  }
 },
 "nbformat": 4,
 "nbformat_minor": 5
}
