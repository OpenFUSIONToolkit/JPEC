{
 "cells": [
  {
   "cell_type": "code",
   "execution_count": null,
   "id": "814db625",
   "metadata": {},
   "outputs": [],
   "source": [
    "using Pkg\n",
    "Pkg.activate(\"..\")\n",
    "Pkg.instantiate()\n",
    "using JPEC, Plots"
   ]
  },
  {
   "cell_type": "code",
   "execution_count": null,
   "id": "6892132a",
   "metadata": {},
   "outputs": [],
   "source": [
    "# Make sine and cosine spline\n",
    "xs = range(0.0, stop=2*pi, length=21)\n",
    "xs = collect(xs)\n",
    "fs = sin.(xs)\n",
    "fc = cos.(xs)\n",
    "# Make a vector of vectors of (100,2) for the spline\n",
    "fs_matrix = hcat(fs, fc)\n",
    "\n",
    "# print(xs)\n",
    "spline = JPEC.SplinesMod.spline_setup(xs, fs_matrix, 2)"
   ]
  },
  {
   "cell_type": "code",
   "execution_count": null,
   "id": "94c3d4e9",
   "metadata": {},
   "outputs": [],
   "source": [
    "# example: f = GPECsplines.spline_eval(spline, 3.2)\n",
    "# plot the spline\n",
    "xs_fine = collect(range(0.0, stop=2*pi, length=100))\n",
    "fs_fine = JPEC.SplinesMod.spline_eval(spline, xs_fine)\n",
    "plot(xs_fine, fs_fine, label=\"spline\", legend=:topright)\n",
    "# plot the input data scatter\n",
    "scatter!(xs, fs, label=\"sin(x)\", legend=:topright)\n",
    "scatter!(xs, fc, label=\"cos(x)\", legend=:topright)"
   ]
  },
  {
   "cell_type": "code",
   "execution_count": null,
   "id": "97a529f4",
   "metadata": {},
   "outputs": [],
   "source": [
    "# Make e^-ix and e^ix spline\n",
    "xs = range(0.0, stop=2*pi, length=20)\n",
    "xs = collect(xs)\n",
    "fm = exp.(-im .* xs)\n",
    "fp = exp.(im .* xs)\n",
    "# Make a vector of vectors of (100,2) for the spline\n",
    "fs_matrix = hcat(fm, fp)\n",
    "\n",
    "spline = JPEC.SplinesMod.spline_setup(xs, fs_matrix, 2)\n"
   ]
  },
  {
   "cell_type": "code",
   "execution_count": null,
   "id": "131e2883",
   "metadata": {},
   "outputs": [],
   "source": [
    "# example: f = GPECsplines.spline_eval(spline, 3.2)\n",
    "# plot the spline\n",
    "xs_fine = collect(range(0.0, stop=2*pi, length=100))\n",
    "fs_fine = JPEC.SplinesMod.spline_eval(spline, xs_fine)\n",
    "\n",
    "# plot just the real part of e^(+ix)\n",
    "plot(xs_fine, real(fs_fine[:, 2]), label=\"spline\", legend=:topright)\n",
    "# and the imaginary part\n",
    "plot!(xs_fine, imag(fs_fine[:, 2]), label=\"spline\", legend=:topright)\n",
    "# plot the input data scatter\n",
    "scatter!(xs, real(fs_matrix[:, 2]), label=\"real(e^ix)\", legend=:topright)\n",
    "scatter!(xs, imag(fs_matrix[:, 2]), label=\"imag(e^ix)\", legend=:topright)"
   ]
  },
  {
   "cell_type": "code",
   "execution_count": null,
   "id": "d74a45e4",
   "metadata": {},
   "outputs": [],
   "source": [
    "# make a bicubic spline of a 2d periodic function\n",
    "xs = range(0.0, stop=2*pi, length=20)\n",
    "ys = range(0.0, stop=2*pi, length=20)\n",
    "xs = collect(xs)\n",
    "ys = collect(ys)\n",
    "fs1 = sin.(xs') .* cos.(ys) .+ 1.0\n",
    "fs2 = cos.(xs') .* sin.(ys) .+ 1.0\n",
    "fs = zeros(20, 20, 2)\n",
    "# fs is a 20x20x2 array\n",
    "fs[:, :, 1] = fs1\n",
    "fs[:, :, 2] = fs2\n",
    "println(\"fs size: \", size(fs))\n",
    "\n",
    "# Make a bicubic spline\n",
    "bcspline = JPEC.SplinesMod.bicube_setup(xs, ys, fs, 2, 2)"
   ]
  },
  {
   "cell_type": "code",
   "execution_count": null,
   "id": "0c40c658",
   "metadata": {},
   "outputs": [],
   "source": [
    "# Evaluate the bicubic spline\n",
    "xs_fine = collect(range(0.0, stop=2*pi, length=100))\n",
    "ys_fine = collect(range(0.0, stop=2*pi, length=100))\n",
    "# fs_fine, fsx_fine, fsy_fine, fsxx_fine, fsxy_fine, fsyy_fine = JPEC.SplinesMod.bicube_eval(bcspline, xs_fine, ys_fine, 2)\n",
    "fs_fine, fsx_fine, fsy_fine = JPEC.SplinesMod.bicube_eval(bcspline, xs_fine, ys_fine, 1)\n",
    "\n",
    "# plot the bicubic spline\n",
    "p1 = contourf(xs_fine, ys_fine, fs_fine[:, :, 1], label=\"sin(x)cos(y)+1\", legend=:topright)\n",
    "p2 = contourf(xs_fine, ys_fine, fs_fine[:, :, 2], label=\"cos(x)sin(y)+1\", legend=:topright)\n",
    "plot(p1, p2, layout=(1, 2), size=(800, 400), title=\"Bicubic Spline Evaluation\")"
   ]
  },
  {
   "cell_type": "code",
   "execution_count": null,
   "id": "71c7fff6",
   "metadata": {},
   "outputs": [],
   "source": [
    "# plot the derivatives\n",
    "p1 = contourf(xs_fine, ys_fine, fsx_fine[:, :, 1], label=\"derivative w.r.t x\", legend=:topright)\n",
    "p2 = contourf(xs_fine, ys_fine, fsy_fine[:, :, 1], label=\"derivative w.r.t y\", legend=:topright)\n",
    "plot(p1, p2, layout=(1, 2), size=(800, 400), title=\"Bicubic Spline Evaluation\")"
   ]
  }
 ],
 "metadata": {
  "kernelspec": {
   "display_name": "Julia 1.11.4",
   "language": "julia",
   "name": "julia-1.11"
  },
  "language_info": {
   "file_extension": ".jl",
   "mimetype": "application/julia",
   "name": "julia",
   "version": "1.11.4"
  }
 },
 "nbformat": 4,
 "nbformat_minor": 5
}
