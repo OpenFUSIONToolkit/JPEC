{
 "cells": [
  {
   "cell_type": "markdown",
   "id": "2cc3c9a9",
   "metadata": {},
   "source": [
    "## Overview\n",
    "In this notebook, we will run DCON on a DIIID ideal example equilibrium and plot the results"
   ]
  },
  {
   "cell_type": "code",
   "execution_count": null,
   "id": "db314816",
   "metadata": {},
   "outputs": [],
   "source": [
    "# Load in necessary packages\n",
    "using Pkg\n",
    "using LinearAlgebra\n",
    "using HDF5\n",
    "using Plots\n",
    "using LaTeXStrings"
   ]
  },
  {
   "cell_type": "markdown",
   "id": "74226ac8",
   "metadata": {},
   "source": [
    "## Run the code\n",
    "We will run the main DCON code using the inputs specified in `dcon.toml`, `equil.toml`, and `vac.in`. We output the `euler.h5` file, which is a Julia version of the `euler.bin` file."
   ]
  },
  {
   "cell_type": "code",
   "execution_count": 5,
   "id": "c76aa60a",
   "metadata": {},
   "outputs": [
    {
     "name": "stderr",
     "output_type": "stream",
     "text": [
      "\u001b[32m\u001b[1m  Activating\u001b[22m\u001b[39m project at `~/Github/JPEC`\n"
     ]
    },
    {
     "name": "stdout",
     "output_type": "stream",
     "text": [
      "DCON START\n",
      "----------------------------------\n"
     ]
    },
    {
     "name": "stderr",
     "output_type": "stream",
     "text": [
      "┌ Info: Forcing pest coordinate jacobian exponents: power_*\n",
      "└ @ JPEC.Equilibrium /Users/jakehalpern/Github/JPEC/src/Equilibrium/EquilibriumTypes.jl:53\n"
     ]
    },
    {
     "name": "stdout",
     "output_type": "stream",
     "text": [
      "Equilibrium file: sol.toml\n",
      "Generating Soloviev equilibrium inputs with:\n",
      "  mr=128, mz=128, ma=128\n",
      "  e=1.6, a=0.33, r0=1.0\n",
      "  q0=1.9, p0fac=1.0, b0fac=1.0, f0fac=1.0\n",
      "--- Starting Direct Equilibrium Processing ---\n",
      "Finding magnetic axis...\n",
      "  Iter  1: R = 1.000000, Z = 0.000000, |ΔR|=2.02e-16, |ΔZ|=9.37e-34\n",
      "Magnetic axis found at R=0.9999999999999998, Z=9.371656600634366e-34.\n",
      "Finding inboard separatrix crossing...\n",
      "  Restart attempt 1/6 with initial R = 0.876250\n",
      "inboard separatrix found at R=0.5830951894666453.\n",
      "Finding outboard separatrix crossing...\n",
      "  Restart attempt 1/6 with initial R = 1.123750\n",
      "outboard separatrix found at R=1.2884098727169977.\n",
      "Starting loop over flux surfaces...\n",
      "--> Processing surface ipsi = 128 / 128 (ψ_norm = 1.0000)\n",
      "--> Processing surface ipsi = 127 / 128 (ψ_norm = 0.9998)\n",
      "--> Processing surface ipsi = 126 / 128 (ψ_norm = 0.9994)\n",
      "--> Processing surface ipsi = 125 / 128 (ψ_norm = 0.9986)\n",
      "--> Processing surface ipsi = 124 / 128 (ψ_norm = 0.9976)\n",
      "--> Processing surface ipsi = 123 / 128 (ψ_norm = 0.9962)\n",
      "--> Processing surface ipsi = 122 / 128 (ψ_norm = 0.9946)\n",
      "--> Processing surface ipsi = 121 / 128 (ψ_norm = 0.9926)\n",
      "--> Processing surface ipsi = 120 / 128 (ψ_norm = 0.9904)\n",
      "--> Processing surface ipsi = 119 / 128 (ψ_norm = 0.9878)\n",
      "--> Processing surface ipsi = 118 / 128 (ψ_norm = 0.9850)\n",
      "--> Processing surface ipsi = 117 / 128 (ψ_norm = 0.9819)\n",
      "--> Processing surface ipsi = 116 / 128 (ψ_norm = 0.9785)\n",
      "--> Processing surface ipsi = 115 / 128 (ψ_norm = 0.9748)\n",
      "--> Processing surface ipsi = 114 / 128 (ψ_norm = 0.9708)\n",
      "--> Processing surface ipsi = 113 / 128 (ψ_norm = 0.9665)\n",
      "--> Processing surface ipsi = 112 / 128 (ψ_norm = 0.9619)\n",
      "--> Processing surface ipsi = 111 / 128 (ψ_norm = 0.9571)\n",
      "--> Processing surface ipsi = 110 / 128 (ψ_norm = 0.9520)\n",
      "--> Processing surface ipsi = 109 / 128 (ψ_norm = 0.9466)\n",
      "--> Processing surface ipsi = 108 / 128 (ψ_norm = 0.9410)\n",
      "--> Processing surface ipsi = 107 / 128 (ψ_norm = 0.9350)\n",
      "--> Processing surface ipsi = 106 / 128 (ψ_norm = 0.9289)\n",
      "--> Processing surface ipsi = 105 / 128 (ψ_norm = 0.9224)\n",
      "--> Processing surface ipsi = 104 / 128 (ψ_norm = 0.9157)\n",
      "--> Processing surface ipsi = 103 / 128 (ψ_norm = 0.9088)\n",
      "--> Processing surface ipsi = 102 / 128 (ψ_norm = 0.9016)\n",
      "--> Processing surface ipsi = 101 / 128 (ψ_norm = 0.8942)\n",
      "--> Processing surface ipsi = 100 / 128 (ψ_norm = 0.8865)\n",
      "--> Processing surface ipsi = 99 / 128 (ψ_norm = 0.8786)\n",
      "--> Processing surface ipsi = 98 / 128 (ψ_norm = 0.8705)\n",
      "--> Processing surface ipsi = 97 / 128 (ψ_norm = 0.8621)\n",
      "--> Processing surface ipsi = 96 / 128 (ψ_norm = 0.8536)\n",
      "--> Processing surface ipsi = 95 / 128 (ψ_norm = 0.8448)\n",
      "--> Processing surface ipsi = 94 / 128 (ψ_norm = 0.8358)\n",
      "--> Processing surface ipsi = 93 / 128 (ψ_norm = 0.8266)\n",
      "--> Processing surface ipsi = 92 / 128 (ψ_norm = 0.8172)\n",
      "--> Processing surface ipsi = 91 / 128 (ψ_norm = 0.8076)\n",
      "--> Processing surface ipsi = 90 / 128 (ψ_norm = 0.7979)\n",
      "--> Processing surface ipsi = 89 / 128 (ψ_norm = 0.7879)\n",
      "--> Processing surface ipsi = 88 / 128 (ψ_norm = 0.7778)\n",
      "--> Processing surface ipsi = 87 / 128 (ψ_norm = 0.7675)\n",
      "--> Processing surface ipsi = 86 / 128 (ψ_norm = 0.7571)\n",
      "--> Processing surface ipsi = 85 / 128 (ψ_norm = 0.7465)\n",
      "--> Processing surface ipsi = 84 / 128 (ψ_norm = 0.7357)\n",
      "--> Processing surface ipsi = 83 / 128 (ψ_norm = 0.7248)\n",
      "--> Processing surface ipsi = 82 / 128 (ψ_norm = 0.7138)\n",
      "--> Processing surface ipsi = 81 / 128 (ψ_norm = 0.7026)\n",
      "--> Processing surface ipsi = 80 / 128 (ψ_norm = 0.6914)\n",
      "--> Processing surface ipsi = 79 / 128 (ψ_norm = 0.6800)\n",
      "--> Processing surface ipsi = 78 / 128 (ψ_norm = 0.6685)\n",
      "--> Processing surface ipsi = 77 / 128 (ψ_norm = 0.6569)\n",
      "--> Processing surface ipsi = 76 / 128 (ψ_norm = 0.6452)\n",
      "--> Processing surface ipsi = 75 / 128 (ψ_norm = 0.6334)\n",
      "--> Processing surface ipsi = 74 / 128 (ψ_norm = 0.6215)\n",
      "--> Processing surface ipsi = 73 / 128 (ψ_norm = 0.6096)\n",
      "--> Processing surface ipsi = 72 / 128 (ψ_norm = 0.5976)\n",
      "--> Processing surface ipsi = 71 / 128 (ψ_norm = 0.5855)\n",
      "--> Processing surface ipsi = 70 / 128 (ψ_norm = 0.5734)\n",
      "--> Processing surface ipsi = 69 / 128 (ψ_norm = 0.5612)\n",
      "--> Processing surface ipsi = 68 / 128 (ψ_norm = 0.5490)\n",
      "--> Processing surface ipsi = 67 / 128 (ψ_norm = 0.5368)\n",
      "--> Processing surface ipsi = 66 / 128 (ψ_norm = 0.5246)\n",
      "--> Processing surface ipsi = 65 / 128 (ψ_norm = 0.5123)\n",
      "--> Processing surface ipsi = 64 / 128 (ψ_norm = 0.5000)\n",
      "--> Processing surface ipsi = 63 / 128 (ψ_norm = 0.4878)\n",
      "--> Processing surface ipsi = 62 / 128 (ψ_norm = 0.4755)\n",
      "--> Processing surface ipsi = 61 / 128 (ψ_norm = 0.4633)\n",
      "--> Processing surface ipsi = 60 / 128 (ψ_norm = 0.4510)\n",
      "--> Processing surface ipsi = 59 / 128 (ψ_norm = 0.4388)\n",
      "--> Processing surface ipsi = 58 / 128 (ψ_norm = 0.4267)\n",
      "--> Processing surface ipsi = 57 / 128 (ψ_norm = 0.4146)\n",
      "--> Processing surface ipsi = 56 / 128 (ψ_norm = 0.4025)\n",
      "--> Processing surface ipsi = 55 / 128 (ψ_norm = 0.3905)\n",
      "--> Processing surface ipsi = 54 / 128 (ψ_norm = 0.3786)\n",
      "--> Processing surface ipsi = 53 / 128 (ψ_norm = 0.3667)\n",
      "--> Processing surface ipsi = 52 / 128 (ψ_norm = 0.3549)\n",
      "--> Processing surface ipsi = 51 / 128 (ψ_norm = 0.3432)\n",
      "--> Processing surface ipsi = 50 / 128 (ψ_norm = 0.3316)\n",
      "--> Processing surface ipsi = 49 / 128 (ψ_norm = 0.3201)\n",
      "--> Processing surface ipsi = 48 / 128 (ψ_norm = 0.3087)\n",
      "--> Processing surface ipsi = 47 / 128 (ψ_norm = 0.2974)\n",
      "--> Processing surface ipsi = 46 / 128 (ψ_norm = 0.2863)\n",
      "--> Processing surface ipsi = 45 / 128 (ψ_norm = 0.2753)\n",
      "--> Processing surface ipsi = 44 / 128 (ψ_norm = 0.2644)\n",
      "--> Processing surface ipsi = 43 / 128 (ψ_norm = 0.2536)\n",
      "--> Processing surface ipsi = 42 / 128 (ψ_norm = 0.2430)\n",
      "--> Processing surface ipsi = 41 / 128 (ψ_norm = 0.2326)\n",
      "--> Processing surface ipsi = 40 / 128 (ψ_norm = 0.2223)\n",
      "--> Processing surface ipsi = 39 / 128 (ψ_norm = 0.2122)\n",
      "--> Processing surface ipsi = 38 / 128 (ψ_norm = 0.2022)\n",
      "--> Processing surface ipsi = 37 / 128 (ψ_norm = 0.1925)\n",
      "--> Processing surface ipsi = 36 / 128 (ψ_norm = 0.1829)\n",
      "--> Processing surface ipsi = 35 / 128 (ψ_norm = 0.1735)\n",
      "--> Processing surface ipsi = 34 / 128 (ψ_norm = 0.1643)\n",
      "--> Processing surface ipsi = 33 / 128 (ψ_norm = 0.1553)\n",
      "--> Processing surface ipsi = 32 / 128 (ψ_norm = 0.1465)\n",
      "--> Processing surface ipsi = 31 / 128 (ψ_norm = 0.1380)\n",
      "--> Processing surface ipsi = 30 / 128 (ψ_norm = 0.1296)\n",
      "--> Processing surface ipsi = 29 / 128 (ψ_norm = 0.1215)\n",
      "--> Processing surface ipsi = 28 / 128 (ψ_norm = 0.1136)\n",
      "--> Processing surface ipsi = 27 / 128 (ψ_norm = 0.1059)\n",
      "--> Processing surface ipsi = 26 / 128 (ψ_norm = 0.0985)\n",
      "--> Processing surface ipsi = 25 / 128 (ψ_norm = 0.0913)\n",
      "--> Processing surface ipsi = 24 / 128 (ψ_norm = 0.0844)\n",
      "--> Processing surface ipsi = 23 / 128 (ψ_norm = 0.0777)\n",
      "--> Processing surface ipsi = 22 / 128 (ψ_norm = 0.0712)\n",
      "--> Processing surface ipsi = 21 / 128 (ψ_norm = 0.0650)\n",
      "--> Processing surface ipsi = 20 / 128 (ψ_norm = 0.0591)\n",
      "--> Processing surface ipsi = 19 / 128 (ψ_norm = 0.0535)\n",
      "--> Processing surface ipsi = 18 / 128 (ψ_norm = 0.0481)\n",
      "--> Processing surface ipsi = 17 / 128 (ψ_norm = 0.0430)\n",
      "--> Processing surface ipsi = 16 / 128 (ψ_norm = 0.0382)\n",
      "--> Processing surface ipsi = 15 / 128 (ψ_norm = 0.0336)\n",
      "--> Processing surface ipsi = 14 / 128 (ψ_norm = 0.0293)\n",
      "--> Processing surface ipsi = 13 / 128 (ψ_norm = 0.0253)\n",
      "--> Processing surface ipsi = 12 / 128 (ψ_norm = 0.0216)\n",
      "--> Processing surface ipsi = 11 / 128 (ψ_norm = 0.0182)\n",
      "--> Processing surface ipsi = 10 / 128 (ψ_norm = 0.0151)\n",
      "--> Processing surface ipsi = 9 / 128 (ψ_norm = 0.0122)\n",
      "--> Processing surface ipsi = 8 / 128 (ψ_norm = 0.0097)\n",
      "--> Processing surface ipsi = 7 / 128 (ψ_norm = 0.0075)\n",
      "--> Processing surface ipsi = 6 / 128 (ψ_norm = 0.0055)\n",
      "--> Processing surface ipsi = 5 / 128 (ψ_norm = 0.0039)\n",
      "--> Processing surface ipsi = 4 / 128 (ψ_norm = 0.0025)\n",
      "--> Processing surface ipsi = 3 / 128 (ψ_norm = 0.0015)\n",
      "--> Processing surface ipsi = 2 / 128 (ψ_norm = 0.0007)\n",
      "--> Processing surface ipsi = 1 / 128 (ψ_norm = 0.0003)\n",
      "--> Processing surface ipsi = 0 / 128 (ψ_norm = 0.0001)\n",
      "...Loop over flux surfaces finished.\n",
      "Final geometric spline 'rzphi' is fitted.\n",
      "Calculating final physics quantities (B, g_ij)...\n",
      "...done.\n",
      "--- Direct Equilibrium Processing Finished ---\n",
      "Finding q profile...\n",
      "q0: 1.9000076802832142, qmin: 1.9000076802832142, qmax: 3.262983547734866, qa: 3.2630075468990296, q95: 3.1474218035198933, qmax_edge: 3.262983547734866, psiexl: [0.0001, 0.99999], qexl: [1.9000802591276336, 3.262983547734866], mextrema: 2\n",
      "Diagnosing Grad-Shafranov solution...\n",
      "Writing diagnostics to HDF5 files...\n",
      "--- Equilibrium Setup Complete ---\n",
      "Evaluating Mercier criterion\n",
      "     q0 = 1.9000076802832142, qmin = 1.9000076802832142, qmax = 3.262983547734866, q95 = 3.1474218035198933\n",
      "     set_psilim_via_dmlim = false, dmlim = 0.2, qlim = 3.262983547734866, psilim = 0.99999\n",
      "     betat = 0.04279916108649317, betan = -2.9796688742695547, betap1 = 0.922186733844086\n",
      "     nn = 1, mlow = -12, mhigh = 19, mpert = 32, mband = 31\n",
      " Fourier analysis of metric tensor components\n",
      "   Equilibrium grid: 129 (ψ) × 257 (θ)\n",
      "   Fourier fit modes (mband): 31\n",
      "Computing F, G, and K Matrices\n",
      "   Toroidal mode n=1, Poloidal modes m=-12:19 (32 modes)\n",
      "   Matrix bandwidth: 31\n",
      "Integrating Euler-Lagrange equation\n",
      "   ψ = 0.0001, q = 1.9000802591276336\n",
      "   ψ = 0.12201243189250799, max u = 1.2530842258996435e30, steps = 592\n",
      "   ψ = 0.12212815848708153, q = 2.0\n",
      "   ψ = 0.8803592311084435, max u = 1.271740406095669e38, steps = 995\n",
      "   ψ = 0.8804088496199252, q = 3.0\n",
      "   ψ = 0.999989999900001, max u = 2.023626235757093e35, steps = 1088\n",
      "Writing saved integration data to euler.h5...\n",
      "Computing free boundary energies\n",
      "   > Vacuum code overriding r 1.00E+00 from vac.in, to be 0\n",
      "Energies: plasma = -26.41348369978424, vacuum = 15.2468144247191, real = -11.1666692750653, imaginary = 2.1472071297351874e-8\n",
      "Free-boundary mode unstable for nn = 1.\n",
      "----------------------------------\n",
      "Run time: 11.193503856658936 seconds\n",
      "Normal termination.\n"
     ]
    }
   ],
   "source": [
    "# Run DCON in Julia\n",
    "Pkg.activate(\"../..\")\n",
    "using JPEC\n",
    "JPEC.DCON.Main(\"./\") # \"./\" tells us to obtain inputs and direct outputs to our current folder"
   ]
  },
  {
   "cell_type": "markdown",
   "id": "bcf321ba",
   "metadata": {},
   "source": [
    "## Analyze Outputs\n",
    "We will now analyze the outputs of the run, the most important of which are located in the `euler.h5` output file"
   ]
  },
  {
   "cell_type": "code",
   "execution_count": 6,
   "id": "c9f58f47",
   "metadata": {},
   "outputs": [
    {
     "name": "stdout",
     "output_type": "stream",
     "text": [
      "Done reading euler.h5\n"
     ]
    }
   ],
   "source": [
    "# Read in the euler.h5 data\n",
    "eh5 = h5open(\"euler.h5\", \"r\")\n",
    "mlow = read(eh5[\"info/mlow\"])\n",
    "mpert = read(eh5[\"info/mpert\"])\n",
    "mstep = read(eh5[\"integration/nstep\"])\n",
    "u = read(eh5[\"integration/u\"])\n",
    "ureal = read(eh5[\"integration/ureal\"])\n",
    "psifac = read(eh5[\"integration/psi\"])\n",
    "psio = read(eh5[\"equil/psio\"])\n",
    "wt = read(eh5[\"vacuum/wt\"])\n",
    "et = read(eh5[\"vacuum/et\"])\n",
    "close(eh5)\n",
    "\n",
    "# scale energy eigenvector matrices\n",
    "chi1 = 2π*psio\n",
    "wt = wt*(chi1*1e-3)\n",
    "println(\"Done reading euler.h5\")"
   ]
  },
  {
   "cell_type": "markdown",
   "id": "1834dfce",
   "metadata": {},
   "source": [
    "### Plot comparison of xi_psi for a few poloidal mode numbers"
   ]
  },
  {
   "cell_type": "code",
   "execution_count": 7,
   "id": "e337befb",
   "metadata": {},
   "outputs": [
    {
     "ename": "UndefVarError",
     "evalue": "UndefVarError: `plot` not defined in `Main`\nHint: It looks like two or more modules export different bindings with this name, resulting in ambiguity. Try explicitly importing it from a particular module, or qualifying the name with the module it should come from.\nHint: a global variable of this name also exists in Plots.\nHint: a global variable of this name also exists in PyPlot.",
     "output_type": "error",
     "traceback": [
      "UndefVarError: `plot` not defined in `Main`\n",
      "Hint: It looks like two or more modules export different bindings with this name, resulting in ambiguity. Try explicitly importing it from a particular module, or qualifying the name with the module it should come from.\n",
      "Hint: a global variable of this name also exists in Plots.\n",
      "Hint: a global variable of this name also exists in PyPlot.\n",
      "\n",
      "Stacktrace:\n",
      " [1] top-level scope\n",
      "   @ ~/Github/JPEC/examples/Solovev_ideal_example/jl_notebook_cell_df34fa98e69747e1a8f8a730347b8e2f_X10sZmlsZQ==.jl:10"
     ]
    }
   ],
   "source": [
    "# Construct uedge coefficients using the most unstable mode\n",
    "uedge = u[:,:,1,end] \\ wt[:,1]\n",
    "\n",
    "# Create Julia eigenfunctions\n",
    "u1s = zeros(ComplexF64, (mstep,mpert))\n",
    "for istep in 1:mstep\n",
    "    u1s[istep, :] = ureal[istep, :, :] * uedge\n",
    "end\n",
    "\n",
    "p = plot()\n",
    "for m in 1:5\n",
    "    plot!(psifac, imag.(u1s[:,m - mlow + 1]), label=\"m=$m\")\n",
    "end\n",
    "xlabel!(L\"\\psi_N\")\n",
    "ylabel!(L\"\\mathrm{Im}(\\xi_\\psi)\")\n",
    "title!(\"Comparison of \" * L\"\\xi_\\psi\" * \" for \" * \"m=1-5\")\n",
    "display(p)"
   ]
  },
  {
   "cell_type": "markdown",
   "id": "bf6483a8",
   "metadata": {},
   "source": [
    "### Compare the eigenvectors and eigenvalues of each DCON energy matrix eigenmode\n",
    "This is analagous to the DCON summary plot creating by OMFIT GPEC"
   ]
  },
  {
   "cell_type": "code",
   "execution_count": null,
   "id": "5f15520d",
   "metadata": {},
   "outputs": [
    {
     "data": {
      "image/png": "[encoded data removed]",
      "text/plain": [
       "Figure(PyObject <Figure size 900x700 with 4 Axes>)"
      ]
     },
     "metadata": {},
     "output_type": "display_data"
    }
   ],
   "source": [
    "# I got tired of trying to get the Plots version of this to work, so here's a PyPlot version\n",
    "using PyPlot\n",
    "\n",
    "# Axes labels\n",
    "xlabel = \"m\"\n",
    "ylabel = \"mode (least to most stable)\"\n",
    "\n",
    "yvals = 1:size(wt, 2)\n",
    "xvals = (1:size(wt, 1)) .+ (mlow + 1)\n",
    "\n",
    "# Create figure and grid layout\n",
    "fig = figure(figsize=(9, 7))\n",
    "gs = fig.add_gridspec(2, 3, height_ratios=[0.25, 0.75], width_ratios=[0.75, 0.21, 0.04])\n",
    "\n",
    "# Top-left: Eigenvector amplitude\n",
    "ax0 = fig.add_subplot(gs[1, 1])\n",
    "ax0.plot(xvals, abs.(wt[:, 1]), color=\"blue\", marker=\"o\", markersize=3)\n",
    "ax0.set_ylabel(\"|Eigenvector|\")\n",
    "ax0.set_xlabel(\"\")\n",
    "ax0.set_title(\"Mode 1, eigenvalue = $(round(abs(et[1]), digits=3))\")\n",
    "\n",
    "# Bottom-left: Heatmap\n",
    "ax1 = fig.add_subplot(gs[2, 1])\n",
    "im = ax1.imshow(abs.(wt') , aspect=\"auto\", origin=\"lower\",\n",
    "                cmap=\"viridis\", extent=[xvals[1], xvals[end], yvals[1], yvals[end]])\n",
    "ax1.set_xlabel(xlabel)\n",
    "ax1.set_ylabel(ylabel)\n",
    "\n",
    "# Right middle: Eigenvalue amplitude\n",
    "ax2 = fig.add_subplot(gs[2, 2])\n",
    "ax2.plot(abs.(et), yvals, color=\"red\", marker=\"o\", markersize=3)\n",
    "ax2.set_xlabel(\"Eigenvalue\")\n",
    "ax2.set_xscale(\"log\")\n",
    "ax2.set_xlim(0.1 * minimum(abs.(et)), 10 * maximum(abs.(et)))\n",
    "ax2.set_yticks([])\n",
    "\n",
    "# Colorbar (bottom right)\n",
    "cax = fig.add_subplot(gs[2, 3])\n",
    "cb = fig.colorbar(im, cax=cax)\n",
    "cb.set_label(\"|W_t_eigenvector|\")\n",
    "\n",
    "# Display and save figure\n",
    "display(fig)"
   ]
  },
  {
   "cell_type": "code",
   "execution_count": null,
   "id": "7e5cf385",
   "metadata": {},
   "outputs": [],
   "source": []
  }
 ],
 "metadata": {
  "kernelspec": {
   "display_name": "Julia 1.11.6",
   "language": "julia",
   "name": "julia-1.11"
  },
  "language_info": {
   "file_extension": ".jl",
   "mimetype": "application/julia",
   "name": "julia",
   "version": "1.11.6"
  }
 },
 "nbformat": 4,
 "nbformat_minor": 5
}
