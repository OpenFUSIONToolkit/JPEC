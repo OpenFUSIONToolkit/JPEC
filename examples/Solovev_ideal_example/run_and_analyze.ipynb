{
 "cells": [
  {
   "cell_type": "markdown",
   "id": "2cc3c9a9",
   "metadata": {},
   "source": [
    "## Overview\n",
    "In this notebook, we will run DCON on a Solovev ideal example equilibrium and plot the results"
   ]
  },
  {
   "cell_type": "code",
   "execution_count": null,
   "id": "db314816",
   "metadata": {},
   "outputs": [],
   "source": [
    "# Load in necessary packages\n",
    "using Pkg\n",
    "using LinearAlgebra\n",
    "using HDF5\n",
    "using Plots\n",
    "using LaTeXStrings"
   ]
  },
  {
   "cell_type": "markdown",
   "id": "74226ac8",
   "metadata": {},
   "source": [
    "## Run the code\n",
    "We will run the main DCON code using the inputs specified in `dcon.toml`, `equil.toml`, and `vac.in`. We output the `euler.h5` file, which is a Julia version of the `euler.bin` file."
   ]
  },
  {
   "cell_type": "code",
   "execution_count": null,
   "id": "c76aa60a",
   "metadata": {},
   "outputs": [],
   "source": [
    "# Run DCON in Julia\n",
    "Pkg.activate(\"../..\")\n",
    "using JPEC\n",
    "JPEC.DCON.Main(\"./\") # \"./\" tells us to obtain inputs and direct outputs to our current folder"
   ]
  },
  {
   "cell_type": "markdown",
   "id": "bcf321ba",
   "metadata": {},
   "source": [
    "## Analyze Outputs\n",
    "We will now analyze the outputs of the run, the most important of which are located in the `euler.h5` output file"
   ]
  },
  {
   "cell_type": "code",
   "execution_count": null,
   "id": "c9f58f47",
   "metadata": {},
   "outputs": [],
   "source": [
    "# Read in the euler.h5 data\n",
    "eh5 = h5open(\"euler.h5\", \"r\")\n",
    "mlow = read(eh5[\"info/mlow\"])\n",
    "mpert = read(eh5[\"info/mpert\"])\n",
    "mstep = read(eh5[\"integration/nstep\"])\n",
    "u = read(eh5[\"integration/u\"])\n",
    "psifac = read(eh5[\"integration/psi\"])\n",
    "psio = read(eh5[\"equil/psio\"])\n",
    "wt = read(eh5[\"vacuum/wt\"])\n",
    "et = read(eh5[\"vacuum/et\"])\n",
    "close(eh5)\n",
    "\n",
    "# scale energy eigenvector matrices\n",
    "chi1 = 2π*psio\n",
    "wt = wt*(chi1*1e-3)\n",
    "println(\"Done reading euler.h5\")"
   ]
  },
  {
   "cell_type": "markdown",
   "id": "1834dfce",
   "metadata": {},
   "source": [
    "### Plot comparison of xi_psi for a few poloidal mode numbers"
   ]
  },
  {
   "cell_type": "code",
   "execution_count": null,
   "id": "e337befb",
   "metadata": {},
   "outputs": [],
   "source": [
    "# Construct uedge coefficients using the most unstable mode\n",
    "uedge = u[:, :, 1, end] \\ wt[:,1]\n",
    "\n",
    "# Create eigenfunctions\n",
    "u1s = zeros(ComplexF64, (mstep,mpert))\n",
    "for istep in 1:mstep\n",
    "    u1s[istep, :] = u[:, :, 1, istep] * uedge\n",
    "end\n",
    "\n",
    "# Plot results\n",
    "p = plot()\n",
    "for m in 1:5\n",
    "    plot!(psifac, imag.(u1s[:,m - mlow + 1]), label=\"m=$m, absm sorting\")\n",
    "end\n",
    "xlabel!(L\"\\psi_N\")\n",
    "ylabel!(L\"\\mathrm{Im}(\\xi_\\psi)\")\n",
    "title!(\"Least Stable Eigenmode \" * L\"\\xi_\\psi\" * \" for \" * \"m=1-5\")\n",
    "display(p)"
   ]
  },
  {
   "cell_type": "markdown",
   "id": "bf6483a8",
   "metadata": {},
   "source": [
    "### Compare the eigenvectors and eigenvalues of each DCON energy matrix eigenmode\n",
    "This is analagous to the DCON summary plot creating by OMFIT GPEC"
   ]
  },
  {
   "cell_type": "code",
   "execution_count": null,
   "id": "5f15520d",
   "metadata": {},
   "outputs": [],
   "source": [
    "# I got tired of trying to get the Plots version of this to work, so here's a PyPlot version\n",
    "using PyPlot\n",
    "\n",
    "# Axes labels\n",
    "xlabel = \"m\"\n",
    "ylabel = \"mode (least to most stable)\"\n",
    "\n",
    "yvals = 1:size(wt, 2)\n",
    "xvals = (1:size(wt, 1)) .+ (mlow + 1)\n",
    "\n",
    "# Create figure and grid layout\n",
    "fig = figure(figsize=(9, 7))\n",
    "gs = fig.add_gridspec(2, 3, height_ratios=[0.25, 0.75], width_ratios=[0.75, 0.21, 0.04])\n",
    "\n",
    "# Top-left: Eigenvector amplitude\n",
    "ax0 = fig.add_subplot(gs[1, 1])\n",
    "ax0.plot(xvals, abs.(wt[:, 1]), color=\"blue\", marker=\"o\", markersize=3)\n",
    "ax0.set_ylabel(\"|Eigenvector|\")\n",
    "ax0.set_xlabel(\"\")\n",
    "ax0.set_title(\"Mode 1, eigenvalue = $(round(abs(et[1]), digits=3))\")\n",
    "\n",
    "# Bottom-left: Heatmap\n",
    "ax1 = fig.add_subplot(gs[2, 1])\n",
    "im = ax1.imshow(abs.(wt') , aspect=\"auto\", origin=\"lower\",\n",
    "                cmap=\"viridis\", extent=[xvals[1], xvals[end], yvals[1], yvals[end]])\n",
    "ax1.set_xlabel(xlabel)\n",
    "ax1.set_ylabel(ylabel)\n",
    "\n",
    "# Right middle: Eigenvalue amplitude\n",
    "ax2 = fig.add_subplot(gs[2, 2])\n",
    "ax2.plot(abs.(et), yvals, color=\"red\", marker=\"o\", markersize=3)\n",
    "ax2.set_xlabel(\"Eigenvalue\")\n",
    "ax2.set_xscale(\"log\")\n",
    "ax2.set_xlim(0.1 * minimum(abs.(et)), 10 * maximum(abs.(et)))\n",
    "ax2.set_yticks([])\n",
    "\n",
    "# Colorbar (bottom right)\n",
    "cax = fig.add_subplot(gs[2, 3])\n",
    "cb = fig.colorbar(im, cax=cax)\n",
    "cb.set_label(\"|W_t_eigenvector|\")\n",
    "\n",
    "# Display and save figure\n",
    "display(fig)"
   ]
  }
 ],
 "metadata": {
  "kernelspec": {
   "display_name": "Julia 1.11.6",
   "language": "julia",
   "name": "julia-1.11"
  },
  "language_info": {
   "file_extension": ".jl",
   "mimetype": "application/julia",
   "name": "julia",
   "version": "1.11.6"
  }
 },
 "nbformat": 4,
 "nbformat_minor": 5
}
